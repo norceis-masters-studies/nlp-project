{
 "cells": [
  {
   "cell_type": "code",
   "execution_count": 1,
   "outputs": [],
   "source": [
    "import csv\n",
    "\n",
    "import pandas as pd"
   ],
   "metadata": {
    "collapsed": false
   }
  },
  {
   "cell_type": "code",
   "execution_count": 2,
   "outputs": [
    {
     "name": "stdout",
     "output_type": "stream",
     "text": [
      "['http', 'voivodeship', 'scrap_time', 'name', 'price', 'brand', 'condition', 'offer_from', 'type', 'description', 'added_at', 'views', 'user_since;;;;']\n",
      "['https://www.olx.pl/oferta/iphone-11-64-jak-nowy-95-gwarancja-wyswietlacz-CID99-IDIDQB7.html', 'pomorskie', '2021-02-22 06:55:30', 'Iphone 11 64 jak nowy 95% gwarancja wyświetlacz', '2799.0', 'iPhone', 'Używane', 'Osoby prywatnej', 'Sprawny', 'Jak nowy . Kondycja baterii 95%. Kupiony w media markt . Posiadam faktury . Dodatkowa gwarancja na zbity wyświetlacz wartość 600zł . Dodatkowo szkło hartowane 5D oraz pokrowiec SPIGEN wartość 80zl. Nie sprzedaje za granice !! . Polecam', '2021-02-22 00:09:00', '37', '2013-05-01 00:00:00;;;;']\n",
      "['https://www.olx.pl/oferta/skup-uszkodzonych-telefonow-iphone-xs-xs-max-11-macbook-gdansk-gdynia-CID619-IDELZ09.html', 'pomorskie', '2021-02-22 06:55:34', 'Skup uszkodzonych telefonów iPhone xs xs max 11 macbook Gdańsk Gdynia', '', '', '', 'Firmy', '', 'Witam.  Kupię uszkodzone/ zablokowane/ zalane/ potłuczone/ze zbita klapka/nie włączające się iPhone:  6s  6s plus  7  7 plus  8  8 plus  X  Xs  Xs Max  11  11 pro  11 pro max  Cenę i zdjęcia oraz rodzaj usterki proszę wpisywać w wiadomości prywatnej.', '2021-02-22 00:05:00', '5242', '2020-04-01 00:00:00;;;;']\n",
      "['https://www.olx.pl/oferta/iphone-11-64-gb-czarny-idealny-z-gwarancja-wymiana-CID99-IDIr2Dm.html,pomorskie,2021-02-22 06:55:40,\"IPhone 11 64 GB czarny, idealny z gwarancją. Wymiana\",2700.0,iPhone,Używane,Osoby prywatnej,Sprawny,\"Witam! Mam na sprzedaż iPhone’a 11 w wersji 64 GB. Telefon jest w stanie idealnym, wręcz jak nowym, ani jednej rysy ma przedzie l, rantach czy tyle. Posiada gwarancje do 17 września 2021 roku. Zakupiony w sieci play przez pierwszego właściciela, odkupiłem telefon jako nowy i wykonałem skany dokumentów osobiście. Zdjęć telefonu nie zamieściłem z powodu braku drugiego telefonu, jednakże wyglada on jak nowy. Założone jest szkło hartowane, lekko pęknięte chyba od kluczy w kieszeni natomiast ubrany jest w siwe etui Apple. Umieszczam screen gwarancji. Wszystkie dokumenty z pudełka i słuchawki nowe, nigdy nie wyjmowane. Bateria kondycja 100%\",2021-02-21 19:00:00,186,2014-12-01 00:00:00;;;;']\n",
      "['https://www.olx.pl/oferta/iphone-11-CID99-IDIknLx.html', 'pomorskie', '2021-02-22 06:55:44', 'Iphone 11', '3000.0', 'iPhone', 'Nowe', 'Osoby prywatnej', 'Sprawny', 'Nowy 128GB   Oryginalnie zapakowany kolor czarny   Telefon posiada fabryczna gwarancje realizowaną w autoryzowanych punktach serwisowych Apple   Więcej informacji w wiadomości  Nie interesuje mnie zamiana na inny model ogłoszenie sprzedażowe', '2021-02-21 18:24:00', '250', '2016-06-01 00:00:00;;;;']\n",
      "['https://www.olx.pl/oferta/jak-nowy-apple-iphone-11-256gbgb-white-gwarancja-CID99-IDHa6qC.html,pomorskie,2021-02-22 06:55:52,Jak Nowy Apple Iphone 11 256gbGB White Gwarancja,2899.0,iPhone,Używane,Firmy,Sprawny,\"Witaj.     Jesteśmy sklepem - serwisem z 12 letnim doświadczeniem, firmą ze stałym adresem ,dzięki temu masz pewność , że możesz dokonać pewnego zakupu.        Kupując u nas :    - Kupujesz w sprawdzonej firmie.    - Zawsze otrzymasz paragon albo fakturę.    - Zamawiając produkt Online masz 14 dni na zwrot.    - Żadne telefon nie jest obciążony Ratami z możliwości zablokowania oraz wadami prawnymi.     - Sprzedajemy tylko sprawne telefony, nigdy nie naprawiane.    - Każdy produkt jest w 100% oryginalny i zgodny z opisem.        Oferujemy:     • telefon używany    • \\u200ewizualnie : Jak Nowy    • Technicznie: idealny     • działa w każdej sieci (bez simlocka)    • posiada polskie menu    • kondycja baterii: 89%    • kolor: White    • telefon objęty jest gwarancja producenta do 7 lutego 2021r plus dodatkowe 6 mc gwarancji serwisowej        • W zestawie znajduje się:    - telefon    - Ładowarka     - Kabel usb    - Pudełko     • paragon fiskalny / na życzenie faktura vat-marza        Nr. 94709        Koszt wysyłki kurierem    10zl - Wysyłka po wpłacie na konto.    30zl - Za pobraniem po przedpłacie 100zł        Baltic Gsm S.C.        3        Cena z ogłoszenia jest ceną ostateczną.Prosimy nie zadawać pytań \"\"za ile do oddania\"\"        BalticGSM    ul. Jaśkowa Dolina 130 B    80-286 Gdańsk    Godziny otwarcia:    pon - pt: 10.00 - 18.00    sb: 10.00 - 14.00    SKLEP (     SKLEP +     SERWIS +          Informacje umieszczone, służą jedynie celom informacyjnym.Nie stanowią oferty w rozumieniu przepisów Kodeksu Cywilnego oraz opisu towaru ani zapewnienia w rozumieniu art. 4 Ustawy z dnia 27 lipca 2002 roku o szczególnych warunkach sprzedaży konsumenckiej.\",2021-02-21 17:38:00,845,2012-08-01 00:00:00;;;;']\n",
      "['https://www.olx.pl/oferta/apple-iphone-11-bialy-64gb-jak-nowy-gwarancja-paragon-4xetui-CID99-IDIDnbL.html,pomorskie,2021-02-22 06:56:07,Apple Iphone 11 biały 64GB - jak nowy GWARANCJA PARAGON 4xETUI,2500.0,iPhone,Używane,Osoby prywatnej,Sprawny,\"Sprzedam zakupiony w dniu 31.10.2020 w salonie MediaMarkt w Gdańsku (3099zł) telefon Apple Iphone 11 w kolorze białym w wersji 64GB. Stan baterii wynosi 99%. Telefon nigdy nie był naprawiany i jest jeszcze na gwarancji producenckiej. Sprzedającemu przekazuje dowód zakupu z paragonem. Jego stan oceniam na idealny, jest jak nowy. Ekran, obudowa oraz tył nie posiada absolutnie żadnej rysy czy zadrapania. Przód ekranu zabezpieczony markowym szkłem hartowanym. Sprzedaję ze względu na przesiadkę na Iphone 12.         W skład oferowanego zestawu wchodzą:    - telefon Iphone 11 64 GB biały,     - oryginalne pudełko zgodne z numerem IMEI,     - wszystkie instrukcje, naklejki zawierające się w pudełku z telefonem,     - oryginalna ładowarka i przewód zasilający,     - oryginalne, nieużywane słuchawki,     - 4 etui dedykowane w stanie bardzo dobrym (2 nigdy nie używane),     - dowód zakupu z paragonem fiskalnym.         Nie wysyłam i nie zamieniam się. Telefon do odebrania z Gdańska Jasienia, osiedle Optima.\",2021-02-21 15:34:00,137,2014-05-01 00:00:00;;;;']\n",
      "['https://www.olx.pl/oferta/iphone-11-256gb-CID99-IDIoUkv.html', 'pomorskie', '2021-02-22 06:56:17', 'Iphone 11 256Gb', '3450.0', 'iPhone', 'Nowe', 'Osoby prywatnej', 'Sprawny', 'Witam oferuje nowego iPhone 11 256gb  Telefon jest zapakowany fabrycznie w foli. Gorąco polecam i zapraszam do zakupu', '2021-02-21 09:01:00', '144', '2015-07-01 00:00:00;;;;']\n",
      "['https://www.olx.pl/oferta/iphone-11-64-gb-gwarancja-CID99-IDIDIol.html,slaskie,2021-02-22 07:40:54,IPhone 11 64 GB + gwarancja,2150.0,iPhone,Używane,Osoby prywatnej,Sprawny,\"Witam, mam na sprzedaż IPhone 11 64GB biały. Telefon jest w idealnym stanie, od nowości oklejony szkłem i noszony w etui.   Kondycja baterii 93%.   Do telefonu dołączę pudełko, ładowarkę wraz z kablem, oryginalne etui GUESS i dowód zakupu.   Telefon jest na gwarancji do 25.01.2022 i również posiada ubezpieczenie na ekran.   Sprzedaje, ponieważ zamówiłam 12 pro max.   Telefon do odebrania w Karvinie lub Rudzie Śląskiej. Natomiast po umówieniu się jestem w stanie dowieźć go w umówione miejsce przy granicy.\",2021-02-21 20:35:00,113,2018-09-01 00:00:00;;;;']\n",
      "['https://www.olx.pl/oferta/iphone-11-64-gb-gwarancja-CID99-IDIDIgZ.html,slaskie,2021-02-22 07:40:57,IPhone 11 64 GB + gwarancja,2150.0,iPhone,Używane,Osoby prywatnej,Sprawny,\"Witam, mam na sprzedaż IPhone 11 64GB biały. Telefon jest w idealnym stanie, od nowości oklejony szkłem i noszony w etui.   Kondycja baterii 93%.   Do telefonu dołączę pudełko, ładowarkę wraz z kablem, oryginalne etui GUESS i dowód zakupu.   Telefon jest na gwarancji do 25.01.2022 i również posiada ubezpieczenie na ekran.   Sprzedaje ponieważ kupiłam 12 pro max.   Telefon do odebrania w Karvinie lub Rudzie Śląskiej. Natomiast po umówieniu się jestem w stanie dowieźć go w umówione miejsce przy granicy.\",2021-02-21 20:32:00,82,2018-09-01 00:00:00;;;;']\n"
     ]
    }
   ],
   "source": [
    "with open('../data/recruitment_data.csv', 'r', encoding='utf-8') as opened_file:\n",
    "    reader = csv.reader(opened_file)\n",
    "    for i in range(10):\n",
    "        print(next(reader))"
   ],
   "metadata": {
    "collapsed": false
   }
  },
  {
   "cell_type": "markdown",
   "source": [
    "The samples seem to be in various formats (described in readme.md - part 1)"
   ],
   "metadata": {
    "collapsed": false
   }
  },
  {
   "cell_type": "code",
   "execution_count": 3,
   "outputs": [],
   "source": [
    "# This is functionalized as create_standardized_data and more thoroughly described in util.py)\n",
    "rows = []\n",
    "with open('../data/recruitment_data.csv', 'r', encoding='utf-8') as opened_file:\n",
    "    reader = csv.reader(opened_file)\n",
    "    while True:\n",
    "        try:\n",
    "            line = next(reader)\n",
    "            if len(line) == 1:\n",
    "                line = line[0]\n",
    "                rows.append(line)\n",
    "            else:\n",
    "                rows.append(line)\n",
    "        except StopIteration:\n",
    "            break"
   ],
   "metadata": {
    "collapsed": false
   }
  },
  {
   "cell_type": "code",
   "execution_count": 4,
   "outputs": [],
   "source": [
    "n_features = len(rows[0]) # number of features"
   ],
   "metadata": {
    "collapsed": false
   }
  },
  {
   "cell_type": "code",
   "execution_count": 5,
   "outputs": [],
   "source": [
    "# This is functionalized as create_standardized_data and more thoroughly described in util.py)\n",
    "with open('../data/recruitment_data_standardized.csv', 'w', encoding='utf-8') as writing_file:\n",
    "    for sample in rows:\n",
    "        if len(sample) > n_features:\n",
    "            try:\n",
    "                writing_file.write(sample + '\\n')\n",
    "            except TypeError:\n",
    "                writing_file.write(','.join(sample) + '\\n')\n",
    "        else:\n",
    "            writing_file.write(','.join(sample) + '\\n')"
   ],
   "metadata": {
    "collapsed": false
   }
  },
  {
   "cell_type": "code",
   "execution_count": 6,
   "outputs": [
    {
     "name": "stderr",
     "output_type": "stream",
     "text": [
      "Skipping line 346: expected 13 fields, saw 14\n",
      "Skipping line 367: expected 13 fields, saw 15\n",
      "Skipping line 466: expected 13 fields, saw 19\n",
      "Skipping line 467: expected 13 fields, saw 19\n",
      "Skipping line 494: expected 13 fields, saw 15\n",
      "Skipping line 615: expected 13 fields, saw 15\n",
      "Skipping line 616: expected 13 fields, saw 15\n",
      "Skipping line 617: expected 13 fields, saw 15\n",
      "Skipping line 618: expected 13 fields, saw 15\n",
      "Skipping line 619: expected 13 fields, saw 15\n",
      "Skipping line 620: expected 13 fields, saw 15\n",
      "Skipping line 712: expected 13 fields, saw 14\n",
      "Skipping line 713: expected 13 fields, saw 14\n",
      "Skipping line 739: expected 13 fields, saw 14\n",
      "Skipping line 747: expected 13 fields, saw 16\n",
      "Skipping line 867: expected 13 fields, saw 15\n",
      "Skipping line 956: expected 13 fields, saw 14\n",
      "Skipping line 1028: expected 13 fields, saw 14\n",
      "Skipping line 1234: expected 13 fields, saw 15\n",
      "Skipping line 1282: expected 13 fields, saw 17\n",
      "Skipping line 1326: expected 13 fields, saw 14\n",
      "Skipping line 1327: expected 13 fields, saw 14\n",
      "Skipping line 1337: expected 13 fields, saw 14\n",
      "Skipping line 1359: expected 13 fields, saw 14\n",
      "Skipping line 1401: expected 13 fields, saw 14\n",
      "Skipping line 1420: expected 13 fields, saw 14\n",
      "Skipping line 1496: expected 13 fields, saw 21\n",
      "Skipping line 1553: expected 13 fields, saw 16\n",
      "Skipping line 1615: expected 13 fields, saw 15\n",
      "Skipping line 1653: expected 13 fields, saw 14\n",
      "Skipping line 1684: expected 13 fields, saw 16\n",
      "Skipping line 1743: expected 13 fields, saw 16\n",
      "Skipping line 1774: expected 13 fields, saw 19\n",
      "Skipping line 1775: expected 13 fields, saw 16\n",
      "Skipping line 1792: expected 13 fields, saw 14\n",
      "Skipping line 1852: expected 13 fields, saw 14\n",
      "Skipping line 1875: expected 13 fields, saw 14\n",
      "Skipping line 1880: expected 13 fields, saw 14\n",
      "Skipping line 1955: expected 13 fields, saw 15\n",
      "Skipping line 1964: expected 13 fields, saw 16\n",
      "Skipping line 2077: expected 13 fields, saw 15\n",
      "Skipping line 2100: expected 13 fields, saw 16\n",
      "Skipping line 2113: expected 13 fields, saw 16\n",
      "Skipping line 2121: expected 13 fields, saw 14\n",
      "Skipping line 2182: expected 13 fields, saw 14\n",
      "Skipping line 2215: expected 13 fields, saw 16\n",
      "Skipping line 2255: expected 13 fields, saw 44\n",
      "Skipping line 2256: expected 13 fields, saw 44\n",
      "Skipping line 2330: expected 13 fields, saw 15\n",
      "Skipping line 2351: expected 13 fields, saw 14\n",
      "Skipping line 2372: expected 13 fields, saw 19\n",
      "Skipping line 2377: expected 13 fields, saw 44\n",
      "Skipping line 2381: expected 13 fields, saw 44\n",
      "Skipping line 2395: expected 13 fields, saw 44\n",
      "Skipping line 2397: expected 13 fields, saw 44\n",
      "Skipping line 2440: expected 13 fields, saw 14\n",
      "Skipping line 2443: expected 13 fields, saw 14\n",
      "Skipping line 2496: expected 13 fields, saw 44\n",
      "Skipping line 2497: expected 13 fields, saw 44\n",
      "Skipping line 2498: expected 13 fields, saw 16\n",
      "Skipping line 2584: expected 13 fields, saw 16\n",
      "Skipping line 2585: expected 13 fields, saw 44\n",
      "Skipping line 2641: expected 13 fields, saw 15\n",
      "Skipping line 2650: expected 13 fields, saw 15\n",
      "Skipping line 2841: expected 13 fields, saw 44\n",
      "Skipping line 2941: expected 13 fields, saw 14\n",
      "Skipping line 3071: expected 13 fields, saw 15\n",
      "Skipping line 3115: expected 13 fields, saw 44\n",
      "Skipping line 3174: expected 13 fields, saw 15\n",
      "Skipping line 3410: expected 13 fields, saw 44\n",
      "Skipping line 3487: expected 13 fields, saw 44\n",
      "Skipping line 3488: expected 13 fields, saw 16\n",
      "Skipping line 3529: expected 13 fields, saw 14\n",
      "Skipping line 3534: expected 13 fields, saw 14\n",
      "Skipping line 3624: expected 13 fields, saw 15\n",
      "Skipping line 3737: expected 13 fields, saw 44\n",
      "Skipping line 3738: expected 13 fields, saw 44\n",
      "Skipping line 3739: expected 13 fields, saw 44\n",
      "Skipping line 3781: expected 13 fields, saw 14\n",
      "Skipping line 3797: expected 13 fields, saw 15\n",
      "Skipping line 3852: expected 13 fields, saw 15\n",
      "Skipping line 3961: expected 13 fields, saw 14\n",
      "Skipping line 3971: expected 13 fields, saw 15\n",
      "Skipping line 4094: expected 13 fields, saw 14\n",
      "Skipping line 4120: expected 13 fields, saw 15\n",
      "Skipping line 4341: expected 13 fields, saw 14\n",
      "Skipping line 4370: expected 13 fields, saw 15\n",
      "Skipping line 4407: expected 13 fields, saw 44\n",
      "Skipping line 4434: expected 13 fields, saw 14\n",
      "Skipping line 4435: expected 13 fields, saw 14\n",
      "Skipping line 4520: expected 13 fields, saw 16\n",
      "Skipping line 4550: expected 13 fields, saw 15\n",
      "Skipping line 4656: expected 13 fields, saw 16\n",
      "Skipping line 4670: expected 13 fields, saw 14\n",
      "Skipping line 4705: expected 13 fields, saw 14\n",
      "Skipping line 4721: expected 13 fields, saw 16\n",
      "Skipping line 4723: expected 13 fields, saw 16\n",
      "Skipping line 4969: expected 13 fields, saw 14\n",
      "Skipping line 4986: expected 13 fields, saw 44\n",
      "Skipping line 5037: expected 13 fields, saw 15\n",
      "\n"
     ]
    }
   ],
   "source": [
    "data = pd.read_csv('../data/recruitment_data_standardized.csv',\n",
    "                   encoding='utf-8',\n",
    "                   sep=',',\n",
    "                   on_bad_lines='warn',\n",
    "                   quotechar='\"',\n",
    "                   doublequote=True,\n",
    "                   names=['URL', 'Voivodeship', 'Scrap_time', 'Name', 'Price', 'Brand', 'Condition', 'Offer_from',\n",
    "                          'Type', 'Description', 'Added_at', 'Views', 'User_since'],\n",
    "                   skiprows=1)  #quotechar is important"
   ],
   "metadata": {
    "collapsed": false
   }
  },
  {
   "cell_type": "code",
   "execution_count": 7,
   "outputs": [
    {
     "data": {
      "text/plain": "4984"
     },
     "execution_count": 7,
     "metadata": {},
     "output_type": "execute_result"
    }
   ],
   "source": [
    "len(data) # standardized dataset"
   ],
   "metadata": {
    "collapsed": false
   }
  },
  {
   "cell_type": "code",
   "execution_count": 8,
   "outputs": [
    {
     "data": {
      "text/plain": "5085"
     },
     "execution_count": 8,
     "metadata": {},
     "output_type": "execute_result"
    }
   ],
   "source": [
    "len(rows) # raw dataset"
   ],
   "metadata": {
    "collapsed": false
   }
  },
  {
   "cell_type": "markdown",
   "source": [
    "The loading of the data works correctly (only 101 samples were lost during this stage)"
   ],
   "metadata": {
    "collapsed": false
   }
  },
  {
   "cell_type": "markdown",
   "source": [],
   "metadata": {
    "collapsed": false
   }
  }
 ],
 "metadata": {
  "kernelspec": {
   "display_name": "Python 3",
   "language": "python",
   "name": "python3"
  },
  "language_info": {
   "codemirror_mode": {
    "name": "ipython",
    "version": 2
   },
   "file_extension": ".py",
   "mimetype": "text/x-python",
   "name": "python",
   "nbconvert_exporter": "python",
   "pygments_lexer": "ipython2",
   "version": "2.7.6"
  }
 },
 "nbformat": 4,
 "nbformat_minor": 0
}
