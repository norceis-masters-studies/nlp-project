{
 "cells": [
  {
   "cell_type": "code",
   "execution_count": 1,
   "metadata": {
    "collapsed": true
   },
   "outputs": [],
   "source": [
    "import pickle\n",
    "\n",
    "import numpy as np\n",
    "import pandas as pd\n",
    "import plotly.express as px\n",
    "from sklearn.metrics import mean_squared_error\n",
    "from sklearn.model_selection import train_test_split\n",
    "from sklearn.preprocessing import StandardScaler\n",
    "from transformers import AutoModelForSequenceClassification, AutoTokenizer, Trainer, TrainingArguments\n",
    "\n",
    "from classes import MakeTorchData\n",
    "from util import preprocess_data, compute_metrics, predict_text\n",
    "\n",
    "pd.options.mode.chained_assignment = None  # this turns off insignificant warning when processing dataset\n",
    "\n",
    "SEED = 2137\n",
    "PATH_FOR_MODEL = '../models/auto_model/test_model'\n",
    "EPOCHS = 5\n",
    "\n",
    "data = pd.read_csv('../data/recruitment_data_standardized.csv',\n",
    "                   encoding='utf-8',\n",
    "                   sep=',',\n",
    "                   on_bad_lines='skip',\n",
    "                   quotechar='\"',\n",
    "                   doublequote=True,\n",
    "                   names=['URL', 'Voivodeship', 'Scrap_time', 'Name', 'Price', 'Brand', 'Condition', 'Offer_from',\n",
    "                          'Type', 'Description', 'Added_at', 'Views', 'User_since'],\n",
    "                   skiprows=1)\n",
    "\n",
    "preprocessed_data = preprocess_data(data)"
   ]
  },
  {
   "cell_type": "code",
   "execution_count": 2,
   "outputs": [
    {
     "data": {
      "text/plain": "       Price                                   Days_passed_name  \\\n0     2799.0  52 days iphone 11 64 jak nowy 95% gwarancja wy...   \n1     2700.0  51 days iphone 11 64 gb czarny, idealny z gwar...   \n2     2899.0  51 days jak nowy apple iphone 11 256gbgb white...   \n3     2500.0  51 days apple iphone 11 biały 64gb - jak nowy ...   \n4     2150.0                51 days iphone 11 64 gb + gwarancja   \n...      ...                                                ...   \n2667  2299.0                       51 days iphone 11 black 64gb   \n2668  1900.0           51 days i phone 11 64 gb cena tylko dzis   \n2669  2800.0  51 days iphone 11  128 gb gwarancja , 100% bat...   \n2670  1650.0                       50 days iphone 11 white 64gb   \n2671  1700.0  51 days apple iphone 11 bez simlocka cały komp...   \n\n                                  Days_passed_name_desc  \n0     52 days iphone 11 64 jak nowy 95% gwarancja wy...  \n1     51 days iphone 11 64 gb czarny, idealny z gwar...  \n2     51 days jak nowy apple iphone 11 256gbgb white...  \n3     51 days apple iphone 11 biały 64gb - jak nowy ...  \n4     51 days iphone 11 64 gb + gwarancja witam, mam...  \n...                                                 ...  \n2667  51 days iphone 11 black 64gb sprzedam iphone 1...  \n2668  51 days i phone 11 64 gb cena tylko dzis cena ...  \n2669  51 days iphone 11  128 gb gwarancja , 100% bat...  \n2670  50 days iphone 11 white 64gb na sprzedaż posia...  \n2671  51 days apple iphone 11 bez simlocka cały komp...  \n\n[2672 rows x 3 columns]",
      "text/html": "<div>\n<style scoped>\n    .dataframe tbody tr th:only-of-type {\n        vertical-align: middle;\n    }\n\n    .dataframe tbody tr th {\n        vertical-align: top;\n    }\n\n    .dataframe thead th {\n        text-align: right;\n    }\n</style>\n<table border=\"1\" class=\"dataframe\">\n  <thead>\n    <tr style=\"text-align: right;\">\n      <th></th>\n      <th>Price</th>\n      <th>Days_passed_name</th>\n      <th>Days_passed_name_desc</th>\n    </tr>\n  </thead>\n  <tbody>\n    <tr>\n      <th>0</th>\n      <td>2799.0</td>\n      <td>52 days iphone 11 64 jak nowy 95% gwarancja wy...</td>\n      <td>52 days iphone 11 64 jak nowy 95% gwarancja wy...</td>\n    </tr>\n    <tr>\n      <th>1</th>\n      <td>2700.0</td>\n      <td>51 days iphone 11 64 gb czarny, idealny z gwar...</td>\n      <td>51 days iphone 11 64 gb czarny, idealny z gwar...</td>\n    </tr>\n    <tr>\n      <th>2</th>\n      <td>2899.0</td>\n      <td>51 days jak nowy apple iphone 11 256gbgb white...</td>\n      <td>51 days jak nowy apple iphone 11 256gbgb white...</td>\n    </tr>\n    <tr>\n      <th>3</th>\n      <td>2500.0</td>\n      <td>51 days apple iphone 11 biały 64gb - jak nowy ...</td>\n      <td>51 days apple iphone 11 biały 64gb - jak nowy ...</td>\n    </tr>\n    <tr>\n      <th>4</th>\n      <td>2150.0</td>\n      <td>51 days iphone 11 64 gb + gwarancja</td>\n      <td>51 days iphone 11 64 gb + gwarancja witam, mam...</td>\n    </tr>\n    <tr>\n      <th>...</th>\n      <td>...</td>\n      <td>...</td>\n      <td>...</td>\n    </tr>\n    <tr>\n      <th>2667</th>\n      <td>2299.0</td>\n      <td>51 days iphone 11 black 64gb</td>\n      <td>51 days iphone 11 black 64gb sprzedam iphone 1...</td>\n    </tr>\n    <tr>\n      <th>2668</th>\n      <td>1900.0</td>\n      <td>51 days i phone 11 64 gb cena tylko dzis</td>\n      <td>51 days i phone 11 64 gb cena tylko dzis cena ...</td>\n    </tr>\n    <tr>\n      <th>2669</th>\n      <td>2800.0</td>\n      <td>51 days iphone 11  128 gb gwarancja , 100% bat...</td>\n      <td>51 days iphone 11  128 gb gwarancja , 100% bat...</td>\n    </tr>\n    <tr>\n      <th>2670</th>\n      <td>1650.0</td>\n      <td>50 days iphone 11 white 64gb</td>\n      <td>50 days iphone 11 white 64gb na sprzedaż posia...</td>\n    </tr>\n    <tr>\n      <th>2671</th>\n      <td>1700.0</td>\n      <td>51 days apple iphone 11 bez simlocka cały komp...</td>\n      <td>51 days apple iphone 11 bez simlocka cały komp...</td>\n    </tr>\n  </tbody>\n</table>\n<p>2672 rows × 3 columns</p>\n</div>"
     },
     "execution_count": 2,
     "metadata": {},
     "output_type": "execute_result"
    }
   ],
   "source": [
    "preprocessed_data"
   ],
   "metadata": {
    "collapsed": false
   }
  },
  {
   "cell_type": "code",
   "execution_count": 3,
   "outputs": [
    {
     "data": {
      "text/plain": "['52 days iphone 11 64 jak nowy 95% gwarancja wyświetlacz',\n '51 days iphone 11 64 gb czarny, idealny z gwarancją. wymiana',\n '51 days jak nowy apple iphone 11 256gbgb white gwarancja',\n '51 days apple iphone 11 biały 64gb - jak nowy gwarancja paragon 4xetui',\n '51 days iphone 11 64 gb + gwarancja',\n '51 days iphone 11 64 gb + gwarancja',\n '51 days iphone 11 w bardzo dobrym stanie',\n '51 days iphone 11 * idealny stan * 100% bateria * gwarancja * zamiana *',\n '51 days iphone 11 128 gb stan idealny etui gratis',\n '52 days iphone 11 64 gb prawie nowy super zestaw',\n '52 days iphone 11 czarny 128 gb',\n '51 days oryginalny | apple iphone 11 64/128gb | różne kolory | rok gwarancji',\n '51 days sprzedam iphone 11 128gb red 23msc gwarancji',\n '52 days iphone 11 64gb fioletowy perfekcyjny purple',\n '51 days apple iphone 11 64gb red poznań długa 14',\n '51 days iphone 11 ideał gwarancja 256gb',\n '51 days telefon iphone se (2020) gw do 11.09.2021',\n '51 days iphone  11 ( rezerwacja )',\n '51 days iphone 11 miętowy 128gb',\n '51 days jak nowy apple iphone 11 64gb / gwarancja / al.niepodległości 1',\n '52 days iphone 11',\n '52 days iphone 11 black 64gb',\n '52 days iphone 11 64gb red • promocja • gwarancja 1 msc • applecentrum',\n '52 days apple iphone 11 256gb gwarancja',\n '52 days iphone 11 white.',\n '52 days iphone 11 128gb white • bateria 100%• gwar 1 msc • applecentrum',\n '52 days iphone 11 64gb yellow • promocja • gwar 1 msc • applecentrum',\n '52 days iphone 11 64gb',\n '52 days iphone 11 64gb biały',\n '52 days iphone 11 red',\n '53 days iphone 11 64 gb jak nowy',\n '0 days iphone 11 używany 128gb',\n '0 days iphone 11 64 bateria 87% czarny. roczny gwarancja',\n '0 days iphone 11 64gb zielony gwarancja 06.2021',\n '52 days apple iphone 11 yellow żółty +kilka etui+ gwarancja na szkło hybrydowe',\n '52 days iphone 11 stan idealny możliwa wymiana',\n '52 days iphon 11/64 gb black',\n '52 days iphone 11 64gb stan idealny',\n '0 days iphone 11, 64gb, gwarancja',\n '0 days iphone 11 64gb black • promocja • gw do 05.04.2021 • applecentrum',\n '0 days iphone 11',\n '0 days iphone 11 64gb white stan perfekcyjny !! rok gwarancja',\n '0 days iphone 11 128gb czarny bez blokad',\n '0 days iphone 11 64 gb na gwarancji apple! warszawa',\n '0 days iphone 11 64gb black - stan bdb',\n '0 days iphone 11 64gb purple jak nowy plus 3 odbudowy i szklo hart.',\n '0 days iphone 11 64 gb czarny idealny gw apple 09.2021r',\n '0 days iphone 11 256gb  biały super stan',\n '52 days iphone 11 , 64gb',\n '52 days iphone 11  256gb biały',\n '52 days iphone 11 64gb w super stanie',\n '1 days iphone 11 64 gb gwarancja 08.2021 zamiana s20 ultra',\n '1 days iphone 11/128gb/bateria 100%/na gwarancji/fv',\n '0 days iphone 11 256gb czarny jak nowy bez rysy gwarancja',\n '0 days apple iphone 11 black 64gb jak nowy + 2 etui spigen',\n '0 days iphone 11 64gb',\n '52 days iphone 11, 64 gb',\n '0 days iphone 11 64 gb stan nowy  zamiana za iphone 12 mini',\n '0 days apple iphone 11 64gb red gwarancja ważna do 13.12.2021',\n '0 days iphone 11 64gb. gwarancja.',\n '0 days iphone 11 64 gb na gwarancji do 03/2021 purple',\n '0 days sprzedam iphone 11 64 gb',\n '0 days apple iphone 11 128 gb czarny',\n '0 days iphone 11 128 gb',\n '0 days iphone 11 64gb idealny',\n '0 days iphone 11 64gb stan idealny',\n '0 days iphone 11 64gb',\n '0 days iphone x 64gb zamiana za 11 lub xs max',\n '1 days iphone 11 128gb | stan bardzo dobry | gwarancja | fv 23% | +case',\n '1 days iphone 11 64gb zielony',\n '1 days iphone 11 64 gb jak nowy',\n '1 days iphone 11 (64gb) jak nowy / gwarancja do 2022 roku!',\n '1 days apple iphone 11 128gb jak nowy. gwarancja, caly zestaw+ gratisy',\n '1 days iphone 11 64 gb',\n '1 days iphone 11 64gb product red',\n '1 days iphona 11 128gb do 2900',\n '1 days iphone 11 64gb gwarancja biały',\n '1 days iphone 11',\n '1 days iphone 11  128 gb jak nowy gwarancja do 09.2021',\n '1 days iphone 11 128gb biały',\n '1 days iphone 11 128 gb biały',\n '1 days iphone 11 64 gb super stan! okazja!',\n '1 days sprzedam lub zamienie na iphona 11',\n '2 days iphone 11 / 64gb czarny',\n '2 days iphone 11 64gb zielony gwarancja 06.2021',\n '1 days iphone 11 black 64gb',\n '1 days iphone 11 gwarancja 06.2021 bateria 99%',\n '1 days iphone 11 black 64gb',\n '1 days iphone 11 64 gb czerwony',\n '1 days iphone 11 256 gb 22 msc gwarancji jak nowy',\n '1 days wzorowy iphone 11 64gb black gwarancja! + duży zestaw',\n '1 days iphone 11/product red/128gb/stan idealny',\n '1 days iphone 11 64 gb na gwarancji apple! warszawa',\n '1 days iphone 11 64 gb miętowy',\n '0 days iphone 11 256gb stan idealny+6sztuk etuii extra cena tylko dzis',\n '1 days iphone 11 128gb',\n '1 days iphone 11 64gb',\n '1 days iphone 11 256 pamieci stan idealny plus case',\n '1 days telefon iphone 11 128gb',\n '1 days iphone 11 64 gb stan nowy  zamiana za iphone 12 okazja do 03.01',\n '1 days iphone 11 jak nowy',\n '1 days iphone 11 256gb biały',\n '1 days apple iphone 11 64gb zielony!! media expert',\n '1 days sprzedam iphone 11 256 gb stan bdb',\n '1 days iphone 11 64 gb',\n '1 days iphone 11 64gb czarny na gwarancji',\n '1 days iphone 11 64gb red - gwarancja - komplet  - szkło hartowane - 2 etui',\n '2 days ubezpieczony (2 lata na ekran) iphone se 2020, 64gb, black,11.2020r.',\n '2 days iphone 11 64gb yellow • bateria 100% • gwar do 11.07.21 • applecentrum',\n '2 days iphone 11 64gb red • nowa bateria • gwarancja 1 msc • applecentrum',\n '2 days iphone 11 64gb red • nowa bateria • gwar do 4.02.2021 • applecentrum',\n '2 days iphone 11 64gb yellow • promocja • gw do 10.05.22 1 msc • applecentrum',\n '2 days iphone 11 128gb green • promocja • gwar do 12.11.20 • applecentrum',\n '2 days iphone 11 64gb black • promocja • gwarancja 1 msc • applecentrum',\n '2 days iphone 11 64gb black • promocja • gwarancja 1 msc • applecentrum',\n '2 days iphone 11 64gb purple • promocja • gwarancja 1 msc • applecentrum',\n '2 days iphone 11 black sprawny',\n '2 days iphone 11 64 gwarancja jak nowy',\n '2 days iphone 11 64gb jak nowy',\n '2 days iphone 11 64 gb żółty rok gwarancja !!',\n '2 days iphone 11, 128 gb, silver! sprzedam!',\n '3 days iphone 11 128gb',\n '2 days iphone 11 64 gb black',\n '2 days iphone 11 128gb najntanszr w wojewodztwiered! stan idealny- zestaw 91%',\n '2 days iphone 11 64 gb jak nowy! raty / sklep / fv',\n '2 days iphone 11 64 gb biały / sklep / raty / stan idealny',\n '2 days iphone 11 64 gb miętowy zielony / sklep / raty / stan idealny',\n '2 days iphone 11 64 gb lawendowy / sklep / raty / stan idealny',\n '2 days iphone 11 64gb, do wyboru 2sztuki (zielony lub fioletowy).',\n '2 days iphone 11 64gb zielony+2 etui',\n '2 days iphone 11 black 256gb',\n '2 days iphone 11 64 gb czarny',\n '2 days iphone 11 64gb',\n '2 days iphone 11 64 gb miętowy',\n '2 days iphone 11 128 gb biały',\n '2 days iphone 11 fioletowy 64gb gwarancja bdb + dodatki',\n '2 days iphone 11 256gb',\n '2 days sprzedam iphone 11 biały zarezerwowany do  05/01/21',\n '2 days j. nowy apple iphone 11 yellow 64gb polska + gwarancja 03.2021',\n '2 days iphone 11 64gb',\n '2 days apple iphone 11 64gb red gwarancja ważna do 13.12.2021',\n '2 days iphone 11 64 gb czanry',\n '2 days iphone 11 64gb',\n '2 days iphone 11 128gb',\n '3 days iphone 11',\n '2 days iphone 11',\n '2 days apple iphone 11 64gb green poznań długa 14',\n '2 days iphone 11 64gb gwarancja!',\n '2 days apple iphone 11 64gb czarny black idealny + szkło',\n '2 days iphone 11 64gb kolor czarny',\n '2 days apple iphone 11 64gb biały white + szkło',\n '2 days iphone 11 128gb',\n '3 days iphone 11 64gb black • bateria 100% • gwarancja 1 msc • applecentrum',\n '3 days iphone 11 64gb black • promocja • gw do 05.04.2021 • applecentrum',\n '3 days iphone 11 64gb green • promocja • gwarancja 1 msc • applecentrum',\n '4 days iphone 11 128gb',\n '3 days iphone 11 64gb zielony',\n '3 days iphone 11 gold 256 gb',\n '3 days idealny iphone se 2020 64gb gwarancja 11.2021r',\n '3 days iphone xs silver 64gb stan idealny x xs 11 12',\n '3 days 762: apple iphone 11 128gb mobileuk lublin',\n '3 days 760: apple iphone 11 128gb mobileuk lublin',\n '3 days iphone 11 128 g biały na gwarancji ideał',\n '3 days iphon 11 64g',\n '3 days iphone 11 64 gb idealny, zestaw, gwarancja apple',\n '3 days iphone 11',\n '3 days artkom oferuje: najtaniej jak nowy iphone 11 64gb red super okazja!',\n '3 days iphone 11 64gb black',\n '3 days iphone 11 128 gb biały',\n '4 days iphone 11 64gb czarny',\n '4 days iphone 11 64gb zielony gwarancja 06.2021',\n '3 days nowy iphone 11 128 gb black',\n '3 days iphone 11 kupiony 2 miesiace temu zamiana pixel',\n '3 days iphone 11 / 64gb czarny',\n '3 days iphone 11 128gb',\n '3 days iphone 11 128 gb',\n '3 days iphone 11 128gb nowe słuchawki, zadbany, gratisy',\n '3 days apple iphone 11 64gb gwiezdna szarość',\n '52 days iphone 11 64 gb black nowy gwarancja gratisy',\n '3 days iphone 11 - 64 gb red',\n '3 days iphone 11 64 gb zielony',\n '3 days telefon apple iphone 11 128gb fioletowy ideal',\n '3 days iphone 11 biały 128 gb gwarancja',\n '52 days nieużywany telefon apple iphone 11 64gb white od firmy gw 12msc',\n '3 days iphone 11',\n '52 days iphone 11 black 128gb stan idealny',\n '3 days iphone 11 256gb biały / gwarancja apple / stan idealny / zamienie',\n '3 days iphone 11 stan idealny',\n '3 days iphone 11 128 gb',\n '3 days iphone 11 128gb zólty kondycja baterii 100%',\n '3 days iphone 11 128gb zółty kondycja baterii 100%',\n '3 days iphone 11 64gb',\n '3 days iphone 11, black, 64gb. dowod zakupu + pelny zestaw',\n '3 days iphone 11 256gb super stan',\n '3 days iphone 11',\n '3 days iphone 11 green / gwarancja 09.2022 / bateria 100% / etui',\n '53 days iphone 11 256gb biały',\n '52 days iphone 11 64 gb',\n '52 days iphone 11 64gb czarny gwarancja',\n '4 days mega zestaw iphone 11 pro 64gb oraz airpods pro!',\n '4 days iphone 11 pro 64 gb',\n '4 days iphone 11 pro max gold 64gb',\n '4 days iphone 11 pro max, space gray, 64gb',\n '4 days apple iphone 11 64 gb | jak nowy | komplet | gwarancja',\n '4 days apple iphone 11 pro max 64gb nocna zieleń teletorium auchan wałbrzych',\n '4 days *jak nowy*apple iphone 11 64gb black euro-net 22 mies gwar. bateria 98',\n '3 days iphone 11 pro max midnight green 64 gb gwarancja',\n '3 days piękny iphone 11 pro 256gb gwiezdna szarość- stan idealny',\n '5 days iphone 11 pro max 64gb - bydgoszcz',\n '4 days iphone 11 pro czarny w swietnym stanie 256 gb',\n '4 days iphone 11 | 64gb czarny | kondycja 100% | gwarancja',\n '52 days iphone 11',\n '4 days iphone 11 (64 gb) - bardzo ładny / gwarancja / euro rtv',\n '4 days iphone 11 pro 512 gb silver \\uf8ff stan idealny.',\n '4 days iphone 11 pro max 64gb space gray szary',\n '4 days iphone 11 64 gb biały',\n '4 days iphon 11 pro',\n '4 days iphone 11 pro max 256gb - na gwarancji - idealny',\n '4 days iphone 11 wraz z etui 64gb black czarny apple',\n '4 days iphone 11 pro max 64gb zielony, stan bdb, komplet, gwarancja',\n '4 days iphone 11 fioletowy 64gb',\n '4 days iphone 11 pro 64gb',\n '4 days apple iphone 11 product red gwarancja 2021',\n '3 days apple iphone 11 pro 256gb + akcesoria',\n '4 days iphone 11+ etui+folia',\n '4 days iphon 11 pro',\n '4 days iphone 11 pro max/256 gb  space grey',\n '4 days iphone 11 64gb apple kolor purple',\n '4 days iphone 11 pro silver 64gb stan bardzo dobry',\n '4 days iphone 11 64 gb jak nowy! raty / sklep / fv',\n '4 days iphone 11 64 gb biały / sklep / raty / stan idealny',\n '4 days iphone 11 64 gb miętowy zielony / sklep / raty / stan idealny',\n '4 days iphone 11 64 gb lawendowy / sklep / raty / stan idealny',\n '4 days iphone 11 pro 64 gb biały / sklep / raty / stan idealny / fv',\n '4 days iphone  x stan idealny zamiana za xs lub 11 z doplata moja',\n '4 days iphone 11 pro max space grey 64gb',\n '4 days iphone 11 pro 64gb space gray z gwarancją',\n '4 days apple iphone 11 pro max 256 gb gold',\n '4 days iphone 11 pro max 64 gb świetna cena! okazja! zobacz! gwarancja',\n '4 days iphone 11 pro max 256gb nocna zieleń',\n '4 days apple iphone 11 pro max 64gb space grey gwarnacja',\n '4 days iphone 11 256gb idealny 97% kondycji!',\n '4 days iphone 11 64 gb używany',\n '4 days iphone 11 black 256 gb',\n '4 days iphone 11',\n '4 days iphone 11 128 gb biały',\n '4 days iphone 11  64 gb',\n '4 days sprzedam  iphone 11 biały',\n '4 days iphone 11 black 64gb !okazja!',\n '4 days iphone 11 256gb',\n '4 days (4849/20) iphone 11 64gb - gwarancja',\n '4 days iphone 11',\n '4 days iphone 12 pro max 128gb silver jak nowy z apple pl, gwar. 19.11.2021',\n '4 days apple iphone 11 pro 256gb space gray jak nowy z pl (cortland) + etui',\n '4 days iphone 11 64gb',\n '4 days iphone 11 red 256 gb gwarancja',\n '4 days iphone 11 pro max 256gb gold',\n '4 days iphone 11 stan idealny',\n '4 days iphone 11 pro',\n '4 days iphone 11 pro max 64 gb',\n '4 days iphone 11 pro max 64gb idealny!',\n '4 days iphone 11 64gb white - wzorowy !! - gsm słowiańska',\n '3 days apple iphone 11 pro max gold 64gb pl ubezpieczenie!',\n '3 days iphone 11 pro',\n '4 days iphone11',\n '5 days iphone 11 po 64gb ext battery + iwatch 5 44mm grey',\n '5 days apple iphone 11 64 gb | jak nowy | komplet | gwarancja',\n '5 days apple iphone 11 128 gb!! black gwarancja z orange + gratis',\n '5 days piękny iphone 11 pro 256gb gwiezdna szarość- stan idealny',\n '5 days apple iphone 11 pro 64gb midnight green',\n '5 days apple iphone 11 64gb green',\n '5 days iphone 11 white 128 gb',\n '5 days iphone 11 64gb zielony',\n '5 days iphone 11 128 gb jak nowy na gwarancji',\n '5 days iphone 11 64gb idealny stan gwarancja',\n '5 days iphone 11 64gb wymiana za xs/xs max najlepiej zlotego',\n '5 days iphone 11 64gb stan idealny',\n '5 days iphone 11 pro max 64 gb złoty',\n '5 days iphone 11 64gb żółty',\n '5 days iphone 11 64gb biały- jak nowy!',\n '5 days iphone 11 pro max 64gb gold',\n '5 days iphone 11 pro space grey 64gb bateria 88%',\n '5 days iphone 11 white, 64gb, świetny stan, dowód zakupu.',\n '5 days iphone 11 pro max 256gb stan jak nowy idelany',\n '5 days iphone 11 pro max idealny, bateria 98%',\n '5 days iphone 11 pro 256gb midnight green',\n '5 days iphon 11 pro 256 gb ze stycznia 2020r kolor złoty',\n '5 days iphone 11 white 64gb',\n '5 days iphone 11 64 gb black',\n '5 days iphone 11 pro 256gb space grey, gwiezdna szarość',\n '5 days iphone 11 64 gb miętowy - zielony zestaw',\n '5 days iphone 11 64gb czarny',\n '5 days iphone 11 128 gb',\n '5 days iphone 11 pro na gwarancji na 10 msc',\n '5 days iphone xi pro 256 gb komplet - jak nowy. etui apple gratis',\n '5 days iphone 11 pro gold 64gb',\n '5 days iphone 11 pro',\n '5 days iphone 11 pro / 64 gb / gwarancja! / etui / okazja! / jak nowy!',\n '5 days apple iphone 11 pro 256gb silver',\n '5 days iphone 11 pro max 64 gb space grey',\n '5 days iphone 11 pro 64gb midnight green',\n '5 days iphone 11 (product red) czerwony 128gb',\n '5 days iphone 11 czarny 64 gb komplet',\n '5 days iphone 11 pro space gray 64gb plus gratisy',\n '5 days telefon apple iphone 11 128gb fioletowy ideal',\n '5 days iphone 11 biały 128 gb gwarancja',\n '5 days ladny iphone 11 256gb black gwarancja',\n '6 days iphone 11 64gb',\n '5 days apple iphone 11 pro super retina xdr',\n '5 days iphone 11 pro max 256gb gold gratisy',\n '5 days iphone 11 pro 64gb - stan idealny, zielony green - gwarancja',\n '5 days iphone 11 pro 512gb - stan idealny, zielony green gwarancja',\n '5 days iphone 11 pro 256gb space grey. stan idealny. katowice',\n '5 days iphone 11 64gb yellow żólty stan idealny jak nowy na gwarancji',\n '5 days tylko dzis cena ost. iphone 11 128gb white 95%bat. orginał',\n '5 days iphone 11 (rezerwacja)',\n '7 days iphone 11 64gb red • nowa bateria • gwarancja 1 msc • applecentrum',\n '7 days iphone 11 64gb red • promocja • gwar do 27.11.2020 • applecentrum',\n '5 days iphone 11, 128 gb',\n '5 days iphone 11 pro max 256gb na gwarancji producenta idealny jak nowy',\n '7 days iphone 11 64gb black • promocja • gwar 1 msc • applecentrum',\n '5 days iphone 11 pro 256gb space gray - wzorowy !! - gsm słowiańska',\n '5 days iphone 11 pro max 64gb space grey',\n '5 days iphone 11 64gb white - wzorowy !! - gsm słowiańska',\n '5 days iphone 11 czarny 64gb',\n '5 days iphone 11 pro max 64 gb midnight green',\n '5 days iphone 11. wymienie na cos ciekawego',\n '5 days iphone 11 red 128 gb *gwarancja apple*',\n '5 days iphone 11 pro max 64gb',\n '5 days iphone 11 blokada icloud',\n '6 days iphone 11 pro max gold 64gb',\n '6 days iphone 11 pro max gold 64gb',\n '6 days iphone 11 64gb, bardzo ładny, zestaw, faktura apple',\n '6 days iphone 11 64gb black • promocja • gw do 05.04.2021 • applecentrum',\n '6 days iphone 11 na części',\n '6 days iphone 11 pro 256gb silver gwarancja',\n '7 days iphone 11 pro 64gb spacegrey + gratisy (wymienie na 12 mini)',\n '6 days iphone 11 red nowy ubezpieczony. mozliwa zamiana na xs 11 pro 12',\n '6 days iphone 11 256 gb',\n '6 days apple iphone 11 64 gb czarny, bez blokad',\n '6 days iphone 11 (64 gb) - bardzo ładny / gwarancja / euro rtv',\n '7 days iphone 11 red',\n '6 days iphone 11',\n '6 days iphone 11 64gb gwarancja',\n '6 days iphone 11 64 gb',\n '6 days iphone 11 pro max 64 gb space gray',\n '6 days iphone 11 pro gold 64gb',\n '6 days iphone 11 pro max 64 gb',\n '6 days oryginalny | apple iphone 11 pro 64gb | różne kolory | rok gwarancji',\n '6 days sklep tel4u - apple iphone 11 black, idealny, ul.grzegórzecka 6',\n '7 days iphone 11 64gb)))',\n '6 days iphone 11 pro max 64 space gray',\n '6 days iphone 11 pro max 512gb- airpods pro-zamiana',\n '6 days iphone 11 pro max 256 gb',\n '6 days okazja. iphone 11 pro\\xa064gb greenstan bardzo dobry.',\n '6 days iphone 11 pro 64gb złoty 3150zł żelazna 89 w-wa',\n '6 days iphone  11 ! okazja !',\n '6 days iphone 11 64 gb',\n '6 days iphone 11 ladny, sprawny',\n '6 days iphone 11 64 gb biały. stan idealny',\n '6 days iphone 11 128 gb biały',\n '6 days iphone 11 64gb stan idealny',\n '6 days iphone 11 64gb',\n '6 days iphone 11 pro max 256gb midnight green - stan idealny - gwarancja',\n '6 days oryginalny apple iphone 11 pro 64gb | różne kolory | rok gwarancji',\n '6 days oryginalny | apple iphone 11 pro 64gb | różne kolory | rok gwarancji',\n '6 days iphone 11 zamiana',\n '6 days sprzedam iphone rrd 7plus 256gb lub zam.na iphona 11',\n '6 days iphone 11',\n '6 days zadbany! gwarancja apple iphone 11 pro 64 gb spacegray',\n '6 days iphone 11 pro max 64gb idealny!',\n '6 days telefon iphone 11 64gb bateria 97% komplet poznań fv-marża',\n '6 days iphone 11 pro',\n '6 days iphone 11 pro 64gb midnight green gwarancja bez blokad!',\n '6 days oryginalny apple iphone 11 64gb black',\n '6 days iphone 11 z gwarancja !!',\n '6 days iphone 11 64gb czarny super',\n '7 days iphone 11 64gb green • bateria 99% • gw do 20.08.2021 • applecentrum',\n '7 days iphone 11 64gb black • promocja • gw do 27.11.20 • applecentrum',\n '7 days iphone 11, 64gb + 4 case, sprzedam lub zamienię na iphone 11 pro max',\n '7 days iphone 11 pro',\n '7 days iphone 11 64gb red • bateria 100% • gwar do 24.09.2020 • applecentrum',\n '7 days piękny iphone 11 pro 256gb gwiezdna szarość- stan idealny',\n '7 days iphone 11 pro max 64 gb plus apple watch se zamiana',\n '7 days iphone 11 pro max gold 64gb',\n '7 days iphone 11 64gb na gwarancji',\n '7 days apple iphone 11 64gb | jak nowy | komplet',\n '7 days apple iphone 11 pro max | ładny stan | komplet | gwarancja',\n '7 days iphone 11 nowy gwarancja',\n '7 days iphone 11 pro max gold 64gb',\n '7 days iphone 11 256 gb',\n '7 days apple iphone 11 pro 256gb gold',\n '7 days iphone 11 , 128gb',\n '7 days iphone x space gray (xs,xsmax,11,11pro,12,12mini,12pro)',\n '7 days iphona 11 red 64gb',\n '7 days iphone 11 white 64 gb, biały, stan idealny, gwarancja producenta',\n '7 days iphone 11 gwarancja 100% bateria',\n '7 days iphone 11 pro max 64 gb złoty',\n '7 days iphone 11 64gb potłuczony sprawny',\n '7 days apple iphone 11 64gb czarny',\n '7 days iphone 11 , 128 gb , biały , idealny',\n '7 days iphone 11 pro 64gb nocna zieleń',\n '7 days iphone 11 white 64gb, cały zestaw, dowód zakupu',\n '7 days iphon 11 pro 256 gb ze stycznia 2020r kolor złoty',\n '7 days iphone 11',\n '7 days iphone 11 pro 64 gb kraków',\n '7 days iphone 11 64gb',\n '7 days iphone 11 pro max 64gb złoty',\n '7 days pełny komplet iphone 11 pro 64 gb gold + 3 etui + pudełko',\n '7 days super stan iphone 11 pro 64gb złoty + 3 case',\n '7 days iphone xs 11 używany',\n '8 days iphone 11 okazja :)',\n '7 days iphone 11 pro max gold 64gb',\n '7 days iphone 11 128 gb',\n '7 days iphone 11 pro 64gb gold nie działa face id rezerwacja do jutra',\n '7 days idealny iphone 11 pro 64gb space gray 3200zł chmielna 106',\n '7 days iphone 11',\n '7 days iphone 11 64gb',\n '7 days iphone 11 64 gb zielony jak nowy z gwarancją / sklep / raty / pobranie',\n '7 days iphone 11 64 gb lawendowy idealny / sklep / raty / pobranie',\n '7 days iphone 11 64 gb zielony / sklep / raty / stan idealny / pobranie',\n '7 days iphone 11 pro 256 gb czarny, warszawa',\n '7 days iphone 11 128gb gwarancja!',\n '7 days iphone 11',\n '7 days iphone 11 64 gb ideał komplet producenta',\n '7 days iphone 11 64 gb',\n '7 days iphone 11 pro 64gb midnight green',\n '7 days iphone 11 pro max 64 gb midnightgreen + etui',\n '7 days iphone 11 128gb black komplet + 2x etui ideał',\n '8 days iphone 11 (128) igiełka!',\n '8 days iphone 11 pro 64 gb',\n '8 days apple iphone 11 pro super retina xdr',\n '7 days iphone 11 pro max 64gb fv23 | wybór kolorów | gwarancja',\n '7 days iphone 11 128gb jak nowy',\n '7 days iphone 11 pro max 64 gb gwarancja silver biały apple zestaw idealny xs',\n '7 days apple iphone 11 pro max w idealnym stanie, komplet, gwarancja',\n '7 days apple iphone 11 64gb w idealnym stanie, gwarancja, sklep',\n '8 days iphone 11 pro, 64 gb, srebrny. bardzo dobry stan',\n '8 days iphone 11 pro max  j.nowy',\n '7 days iphone 11 pro 256gb',\n '7 days iphone 11 pro',\n '8 days iphone 11 64gb czarny gwarancja',\n '8 days iphone 11',\n '7 days iphone 11 pro 256gb space gray - wzorowy !! - gsm słowiańska',\n '7 days iphone11 gwarancja',\n '7 days sprzedam iphone 11',\n '7 days apple iphone 11 64gb biały white + szkło',\n '7 days iphone 11 pro max 512gb ciemna zieleń',\n '7 days apple iphone 11 pro 256gb silver poznań długa 14',\n '7 days iphone 11 pro max 64gb space grey',\n '7 days apple iphone 11 pro max 256gb gray klasa a+ masterpl ogrodowa 9 poznan',\n '7 days apple iphone 11 pro max 64gb gray klasa a+ masterpl ogrodowa 9 poznan',\n '7 days apple iphone 11 pro max 64gb master ogrodowa 9 poznan',\n '7 days apple iphone 11 pro 64gb idealny masterpl ogrodowa 9 poznan',\n '7 days apple iphone 11 pro 64gb green master pl ogrodowa 9 poznan',\n '7 days iphone 11. sprzedam lub zamienie',\n '7 days iphone 11 żółty (yellow) 64gb gwarancja.',\n '7 days iphone 11 pro max 64gb midnight green gwarancja',\n '8 days iphone 11 pro max 64 gb',\n '8 days piękny iphone 11 pro 256gb gwiezdna szarość- stan idealny',\n '9 days iphone 11 w wersji 128 gb pamięci',\n '8 days apple iphone 11 pro',\n '8 days sprzedam iphone 11 czarny 64 gb demo',\n '8 days iphone 11 pro 256gb (gwarancja, szybka, ochraniacz)',\n '8 days iphone 11 pro zielony midnight green komplet jak nowy 97% bateria',\n '8 days iphone 11 pro 256 gb',\n '8 days iphone 11 (64 gb) - bardzo ładny / gwarancja / euro rtv',\n '8 days iphone 11',\n '8 days iphone 11 64gb gwarancja bateria 98%',\n '8 days sprzedam iphona 11 pro kondycja baterii 100%',\n '8 days iphone 11 64gb na gwarancji do 03.2021 w pełni sprawny',\n '8 days iphone 11 64 gb black',\n '8 days iphone 11 yellow 64gb piotrkowska 136 (w bramie) cena 2799zł',\n '8 days iphone 11 red 64gb piotrkowska 136 (w bramie) łódź cena 2799zł',\n '8 days iphone 11 czarny 64gb',\n '8 days iphone 11 64 gb white',\n '8 days iphone 11 pro max (space grey)',\n '8 days iphone 11 pro max - idealny',\n '8 days iphone 11 red 64gb',\n '8 days iphone 11, 256 gb',\n '8 days iphone 11 pro 256 gb czarny, warszawa',\n '8 days iphone 11 128gb - idealny stan',\n '8 days sprzedam iphone 11 64gb',\n '8 days iphone 11 czarny 128',\n '8 days iphone 11 64 gb',\n '8 days iphone 11 32 gb',\n '8 days iphone 11 128 gb biały',\n '8 days iphone 11 pro max, space gray, 512gb, gwarancja do 10.2021, jak nowy',\n '8 days iphone 11 pro gwarncja pl gratis oryg etui',\n '8 days sprzedam iphone 11 pto max 64 gb',\n '8 days iphone 11 pro 64gb (midnight green)',\n '8 days iphone 11 biały 128gb',\n '8 days iphone 11 64gb + case guess stan bardzo dobry',\n '8 days iphone 11 64gb',\n '8 days iphone 11 128gb kondycja 100%',\n '8 days iphone 11 na gwarancji.',\n '8 days iphone 11  256 gb okazja',\n '8 days iphone 11 128 gb',\n '8 days apple iphone 11 64gb purple w super stanie',\n '9 days iphone 11',\n '9 days iphone 11 128 gb biały jak nowy',\n '8 days iphon 11',\n '8 days iphone 11 pro max - 256gb',\n '8 days telefon iphone 11 64gb bateria 97% komplet poznań fv-marża',\n '8 days iphone 11 64 gb jak nowy',\n '8 days apple iphone 11 pro max green 256gb master pl ogrodowa 9 poznan',\n '8 days iphone 11 gwarancja 6m white 64gb stan idealny',\n '9 days iphone 11 64 gb gwarancja!!',\n '10 days iphone 11 pro 256gb midnight green  okazja',\n '9 days iphone 11 pro midnight green 256 gb z polski + dodatki',\n '9 days iphone 11 64gb red gwarancja apple 10.03.2021 + nowe akcesoria',\n '9 days iphone 11 pro max 512gb',\n '9 days apple iphone 11 white gwarancja',\n '9 days apple iphone 11 pro max 64gb midnight green teletorium auchan wałbrzyc',\n '9 days iphone 11 pro',\n '9 days apple iphone 11 128gb black',\n '9 days iphone 11 64 gb biały jak nowy',\n '9 days iphone 11 black 128 gb',\n '9 days iphone 11',\n '9 days iphone 11 red nowy ubezpieczony. mozliwa zamiana na xs 11 pro 12 s20',\n '9 days iphone 11 pro, 90%, gwarancja *lekko zbity*',\n '9 days apple iphone 11 pro/256 gb/ z polski/ 94% baterii/komplet',\n '9 days apple iphone 11 black z kondycja baterii 96% + etui',\n '9 days iphone 11 64 gb black jak nowy',\n '9 days iphona 11 red 64gb',\n '9 days idealny iphone se 2020 64gb gwarancja 11.2021r',\n '9 days iphone 11 pro max 64gb space gray szary gwarancja',\n '9 days iphone 11',\n '9 days iphone 11 pro max 256gb gold',\n '9 days oryginalny | apple iphone 11 pro 64gb | różne kolory | rok gwarancji',\n '9 days komplet iphone 11 pro, airpods pro, apple watch',\n '9 days iphone 11 pro',\n '9 days iphone 11',\n '9 days iphone 11 pro max 64 gb',\n '9 days iphone 11pro',\n '9 days iphone 11 pro 64g silver',\n '9 days iphone 11 pro max 64gb gold',\n '9 days iphone 11 pro spacegrey 64gb',\n '9 days zamiana na iphone 11 iphone x 64gb stan idelany silver',\n '9 days iphon 11 pro 256 gb ze stycznia 2020r kolor złoty',\n '10 days iphone 11 64gb klasa select + gratisy!',\n '10 days ip 11 bez gwarancji',\n '10 days iphone 11 red, 64gb',\n '10 days iphone 11 64gb klasa a+ gratisy!',\n '9 days iphone 11 64gb 6 miesięcy gwarancji!',\n '9 days apple iphone 11 128gb purple warszawa',\n '9 days iphone 11 64gb czarny',\n '9 days iphone 11 128gb',\n '53 days iphone 11 64gb',\n '9 days iphone 11 white 128gb',\n '9 days iphone 11 128 gb',\n '9 days iphone 11 pro gold 64gb',\n '9 days iphone 11pro 64gb',\n '9 days iphone 11 64gb black kupiony 20/10/2020',\n '9 days iphone 11 pro max silver 64 gb',\n '9 days iphone 11 pro 64gb',\n '9 days iphone 11 pro max 256 gb space grey jak nowy',\n '9 days iphone 11 na sprzedaż',\n '9 days iphone 11 pro 64gb midnight green',\n '9 days iphone 8, 64gb, +11case (karl lagerfeld)',\n '9 days iphone 11 pro gwarancja',\n '9 days iphone 11 64gb !',\n '9 days iphone 11',\n '10 days apple iphone 11 pro super retina xdr',\n '9 days iphone 11 pro max 64gb fv23 | wybór kolorów | gwarancja',\n '9 days iphone 11 pro 256 gb/98% bateria',\n '9 days iphone 11 64gb czerwony',\n '9 days iphone 11 pro 256gb',\n '9 days iphone 11 128gb biały',\n '9 days oryginalny apple iphone 11 pro 64gb | różne kolory | rok gwarancji',\n '9 days oryginalny | apple iphone 11 pro 64gb | różne kolory | rok gwarancji',\n '9 days iphone 11 pro 256gb space gray - wzorowy !! - gsm słowiańska',\n '9 days iphone 11 pro 64gb na gwarancji',\n '9 days iphone 11 pro max 64gb space gray',\n '9 days apple iphone 11 pro max złoty 64 gb',\n '9 days - iphone 11 - pelen komplet -',\n '9 days iphone 11 128gb fioletowy liliowy',\n '9 days iphone 11 pro max 64 gb midnight green gw 10.21r',\n '9 days iphone 11 pro 64gb midnight green igła gratisy',\n '10 days iphone 11 64gb yellow • bateria 93% • gwar 1 msc • applecentrum',\n '10 days iphone 11 128gb space gray • promocja • gwar 1 msc • applecentrum',\n '10 days iphone 11',\n '10 days iphone 11 64gb',\n '10 days iphone 11 64gb, gwarancja',\n '10 days iphone 11 pro max gold 64gb',\n '10 days iphone 11 64gb black • promocja • gwarancja 1 msc • applecentrum',\n '10 days iphone 11 64gb red • bateria 100% • gwar 1 msc • applecentrum',\n '10 days iphone 11 128gb green • promocja • gwar do 12.11.2020 • applecentrum',\n '10 days iphone 11 red jak nowy',\n '10 days apple iphone 11 64 gb czarny z gwarancją',\n '10 days apple iphone 11 pro max space grey 6/64gb',\n '10 days apple iphone 11 64gb',\n '10 days sprzedam iphone 11 w idealnym stanie',\n '10 days iphone 11 pro 64 gb space grey',\n '10 days iphone 11 64gb',\n '10 days apple iphone 11 pro max 64gb gold grey tanio gwarancja krakow',\n '10 days iphone x 64gb zamienie na 11 z doplata',\n '10 days apple iphone 11 pro 64 gb ciemna zieleń jak nowy gwarancja',\n '10 days iphone 11 64gb',\n '10 days iphone 11pro',\n '10 days apple iphone 11 pro 64 silver , green , grey',\n '10 days apple iphone 11 128gb red product tanio gwarancja krakow',\n '10 days apple iphone 11 64gb black bardzo ładny kraków tanio',\n '10 days iphone 11 pro 64gb space gray, krakow + gratisy',\n '10 days iphone 11 64gb white gwarancja!',\n '53 days iphone 11 black 64gb łódź sklep manufaktura cena:2149zł',\n '10 days iphone 11 ideał jak nowy zielony komplet',\n '10 days telefon smartfon apple iphone 11 pro 256gb złoty / gold',\n '10 days sprzedam iphone 11 64gb',\n '10 days iphone 11 sprawny 64gb okazja',\n '10 days iphone 11 pro max 64gb kolor green',\n '10 days dwumiesięczny iphone 11 128gb black',\n '10 days iphone 11 64gb black',\n '10 days sprzedam iphone 11 128gb biały',\n '10 days iphone 11 zielony 64gb',\n '10 days iphone 11 pro 512gb midnight green',\n '10 days iphone 11 64 gb zielony / sklep / raty / stan idealny / pobranie',\n '10 days iphone 11 64 gb lawendowy idealny / sklep / raty / pobranie',\n '10 days iphone 11 64 gb zielony jak nowy z gwarancją / sklep / raty / pobranie',\n '10 days iphone 11 pro max 64 gb + ubezpieczenie',\n '53 days iphone 11 64gb 10 mc/gw red łódź sklep manufaktura cena:2349zł',\n '53 days iphone 11 64gb. używany 2 miesiące',\n '10 days iphone 11 pro 256 gb gold',\n '10 days do sprzedania iphone 11, 128gb',\n '10 days iphone 11 pro 64gb złoty gold gwarancja + nowe oryginalne słuchawki ea',\n '10 days iphone 11 pro max 256 gb',\n '10 days iphone 11 64gb black, jak nowy, na gwarancji, komplet',\n '10 days iphone 11 64gb black',\n '10 days iphone 11pro 256 gb',\n '10 days apple iphone 11 128gb red gwarancja',\n '10 days ładny apple iphone 11 128gb black gwarancja',\n '10 days iphone 11 pro max 512gb',\n '10 days iphone 11 pro max 64gb fv23 | wybór kolorów | gwarancja',\n '10 days iphone 11 pro 64gb space gray',\n '10 days iphone 11 / stan idealny / 64gb / obudowy',\n '10 days iphone 11 red 128 gb',\n '10 days iphone 11 64 gb w perfekcyjnym stanie - kondycja baterii 100%',\n '10 days iphone 11 64 gb purple jak nowy! apple fioletowy',\n '10 days iphone x 64 gb możliwa zamiana na 11',\n '9 days iphone 8 plus +11x case',\n '10 days iphone 11 pro max 64gb gold - stan dobry - cały zestaw + szkło',\n '11 days iphone 11 gwarancja',\n '11 days iphone 11 64 gb czarny',\n '11 days iphone 11 pro max 64gb space gray',\n '10 days iphone 11 pro max - 256gb',\n '10 days iphone 11 pro max 64gb',\n '10 days apple iphone 11 pro 256gb silver +szkło master pl ogrodowa 9 poznan',\n '10 days iphone 11 pro max 64 space gray bateria 100% gwarancja',\n '10 days iphone 11 pro max 64gb',\n '11 days iphone 11 256gb',\n '11 days iphone 11 64gb kolor czarny',\n '11 days iphone 11 pro 256gb jak nowy',\n '10 days apple iphone 11 64gb stan idealny',\n '10 days apple iphone 11 64gb',\n '11 days apple iphone 11 pro max 256gb',\n '11 days iphone 11 pro max gold 64gb',\n '11 days iphone 11 pro złoty gold 64gb jak nowy',\n '11 days iphone 11 64g',\n '11 days iphone 11 64g',\n '11 days iphone 11 pro max 256gb midnight green',\n '11 days apple iphone 11 64gb | jak nowy | komplet | gwarancja | kondycja 100%',\n '11 days sprzedam iphone 11 gwarancja',\n '11 days iphone 11 64gb black • nowa bateria • gw do 6.12.2020 • applecentrum',\n '11 days iphone 11 64gb white • bateria 100% • gwar do 17.03.20 • applecentrum',\n '11 days iphone 11 64gb green • promocja • gw do 15.11.2020 • applecentrum',\n '11 days iphone 11 64 gb 100% oryginalny 1m gwarancja',\n '11 days piękny iphone 11 pro 256gb gwiezdna szarość- stan idealny',\n '11 days apple iphone 11 64gb czarny',\n '11 days iphone 11 128gb purple fioletowy gwarancja',\n '11 days iphona 11 red 64gb',\n '11 days iphone 11 fioletowy',\n '11 days iphone 11 pro max 64gb space gray szary gwarancja',\n '11 days iphone 11 64gb',\n '11 days artkom oferuje: najtaniej jak nowy iphone 11 pro max 256gb gw. prod.',\n '11 days iphone 11 64gb czarny gwarancja do czerwca 2022',\n '11 days iphone 11pro',\n '11 days iphone 11 64gb',\n '11 days iphone 11 pro 256 gb - 3 miesieczny ! apple care 08.22 / airpodsy /',\n '11 days iphone 11 pro max złoty 256gb',\n '11 days iphone 11 pro max 64gb space grey // ideał',\n '11 days iphone 11 pro space grey 512gb idealny zestaw',\n '11 days iphone 11 black 256 gb sprzedam/zamienię na iphone 11 pro',\n '12 days apple iphone 11 128gb biały',\n '11 days iphone 11 128gb najntanszr w wojewodztwiered! stan idealny- zestaw 91%',\n '11 days iphone 11 64gb sprzedam!!!',\n '11 days iphone 11 64gb biały stan ideany',\n '11 days iphone 11 white 64gb. jak nowy!',\n '11 days telefon iphone 11 64gb',\n '11 days iphone 11 pro 64 gb  space grey',\n '11 days iphone 11 pro max gold 256 gb -okazja !!! rezerwacja',\n '11 days iphone 11pro',\n '11 days telefon iphone 11 64 gb jak nowy / 2 kolory / sklep / raty/ pobranie',\n '11 days iphone 11 pro max 96% gwarancja',\n '11 days apple iphone 11 64 gb',\n '11 days iphone 11 128gb',\n '11 days iphone 11 pro max 256 gb',\n '11 days apple iphone 11 pro 256gb silver',\n '12 days iphone 11 256gb biały stan idealny!!',\n '11 days sprzedam iphone 11 pro 64gb midnight green',\n '11 days iphone 11 pro 64gb midnight green',\n '11 days iphone 11',\n '12 days iphone 11 fioletowy 64 gb',\n '12 days apple iphone 11 pro super retina xdr',\n '11 days iphone 11 64 gb space grey',\n '11 days iphone 11 pro max 64gb fv23 | wybór kolorów | gwarancja',\n '11 days iphone 11 pro 512gb / zamienie',\n '11 days iphone11pro igła, bateria 96procent',\n '11 days iphone 11 pro 256gb - silver gwarancja pl salon fv komplet - jak nowy',\n '11 days iphone 11 pro max 256 gb',\n '11 days apple iphone 11 64gb white',\n '11 days iphone 11 64gb okazja!',\n '12 days iphone 11 pro max 64gb space gray',\n '12 days iphone 11 128 gb',\n '11 days iphone 11 pro 256gb space gray - wzorowy !! - gsm słowiańska',\n '11 days iphone 11 pro 256gb gwarancja komplet pokrowiec guess poznań luboń',\n '11 days iphone 11',\n '11 days iphone 11',\n '11 days iphone 11 pro max 64gb',\n '11 days iphone 11 pro max 64 gb stan idealny! *jak nowy*',\n '11 days telefon iphone 11 64gb *',\n '11 days iphone 11 pro 64gb jak nowy, rozpakowany',\n '11 days iphone 11 pro 512 gb zielony igła! - nowe akcesoria',\n '11 days iphone 11 pro max silver 256gb',\n '11 days iphone 11 64gb sprzedaż/zamiana',\n '12 days iphone 11 64 gb - zółty bateria 100 %',\n '11 days iphone 11 pro',\n '23 days iphone 11 pro',\n '12 days iphone 11 pro max 64 gb',\n '12 days iphone 11 256gb biały na gwarancji',\n '12 days iphone 11 pro max gold 64gb',\n '12 days iphone 11 red 128gb',\n '12 days apple iphone 11 pro 512gb nocna zieleń',\n '12 days iphone 11 - wymienie na 11 pro/12',\n '12 days iphone 11 pro max gold 64gb',\n '12 days iphone 11pro, 64gb, kompletny, stan bdb, space gray',\n '12 days iphone 11 pro max | 64gb | silver | gwarancja | komplet | box',\n '12 days iphone 11 64gb red!',\n '12 days apple iphone 11 64 gb',\n '12 days 040 używany apple iphone 11 128gb czarny lublin',\n '12 days iphone 11 pro max',\n '12 days iphone 11 64gb ideał',\n '12 days iphone 11 black 64 gb',\n '12 days iphone 11, czarny 64 gb rostest',\n '12 days apple iphone 11 pro 64gb srebrny stan bdb sklep ul. rzgowska 12',\n '12 days iphone 11 pro max 64 gb złoty',\n '12 days apple iphone 11 pro max 256gb bat.91% gw 04.2021 sklep ul. rzgowska 12',\n '12 days apple iphone 11 64gb bat.100% gw 09.2021 sklep ul. rzgowska 12',\n '12 days iphone 11 pro 256gb',\n '12 days iphone pro 11 max - gold - idealny - 64gb - 100% sprawny - kraków',\n '12 days oryginalny | apple iphone 11 pro 64gb | różne kolory | rok gwarancji',\n '12 days iphone 11 pro 256gb',\n '12 days telefon apple iphone xi/11/3gb/64gb/red product/czerwony/bat 99/lombar',\n '13 days iphone 11 64gb zielony jak nowy- kupiony w styczniu',\n '12 days apple iphone 11 pro max 256gb space gray',\n '12 days iphone 11 black 64gb',\n '12 days iphone 11 64 gb white',\n '12 days iphone 11',\n '12 days iphone 11 64gb',\n '12 days telefon iphone 11 128 gb idealny / 4 kolory / sklep / raty/ pobranie',\n '12 days iphone 11 pro 64gb',\n '12 days iphone 11 wersja 128gb',\n '12 days iphone 11, 64gb sługa gwarancja',\n '12 days iphone 11 256gb',\n '13 days idealny iphone 11 pro max 64gb apple cały komplet',\n '13 days iphone 11',\n '12 days iphone 11 product red 64gb',\n '12 days iphone 11 256gb product red czerwony',\n '12 days apple iphone 11 pro 64gb idealny stan!',\n '12 days iphone 11 pro 512gb prawie idealny gold',\n '12 days sklep jak nowy iphone 11 64gb black 64gb gwar prod',\n '12 days sklep zadbany smartfon iphone 11 pro 256gb gold',\n '12 days iphone 11 pro 64gb',\n '12 days iphone 11 pro max 256 gb zloty ideany jak nowy',\n '12 days iphone 11 / stan idealny / 64gb / obudowy',\n '12 days sprzedam iphone 11 64g',\n '12 days iphone 11 128 gb stan idelany jak nowy gwarancja',\n '12 days iphone 11, stan idealny, gwarancja + puro',\n '12 days iphone 11 pro 64gb stan idealny na gwarancji dystrybucja pl',\n '12 days iphone 11 żółty 64 gb',\n '12 days oryginalny apple iphone 11 pro 64gb | różne kolory | rok gwarancji',\n '12 days iphone x 64gb biały komplet bez simlocka gratisy jak 11 pro',\n '12 days oryginalny | apple iphone 11 pro 64gb | różne kolory | rok gwarancji',\n '12 days apple iphone 11 pro max 256gb zielony świetny stan',\n '16 days iphon 11 pro max 512 gb',\n '12 days iphone 11 pro max 64 gb midnight green gwarancja!',\n '12 days iphone 11 pro 64gb',\n '12 days iphone 11 żółty 64gb',\n '12 days iphone 11 pro max - 256gb',\n '12 days iphone 11',\n '12 days iphone 11 pro',\n '12 days iphone 11 pro max',\n '12 days iphone 11 pro! 256gb!!',\n '13 days iphone 11 256gb prawie nowy. gwarancja',\n '13 days iphone 11 pro 64 gb gwarancja !!!',\n '12 days iphone 11 pro max',\n '13 days iphone 11 64 stan idealny 100% bateria',\n '13 days iphone 11 pro max 64gb silver dys. polska rok gwarancji',\n '13 days apple iphone 11 pro 512gb nocna zieleń',\n '13 days iphone 11 | 64gb czerwony red | gwarancja',\n '13 days apple iphone 11 64 gb czerwony | komplet | stan bdb | bateria 96%',\n '13 days iphone 11 pro 256gb',\n '13 days iphone 11, 64 gb',\n '13 days iphone 11 256 gb',\n '13 days iphone 11',\n '13 days iphone 11 256gb green z gwarancją zafoliowany ! 100% oryginał!',\n '13 days iphone 11 pro max 64gb space gray szary gwarancja',\n '13 days iphone 11 pro max 64gb / gwarancja',\n '13 days iphon 11 pro max 256 gb 91% baterii okazja !',\n '13 days iphone 11 negocjacja ceny',\n '13 days artkom oferuje: najtaniej jak nowy iphone 11 pro gold bat.96% okazja!',\n '13 days x 64gb idealny zamiana na 11',\n '13 days apple iphone 11 64gb product red paragon komplet !',\n '13 days iphone 11 black 64gb gwarancja jak nowy',\n '13 days iphon 11 64g',\n '13 days iphone 11pro',\n '13 days iphone 11 128 white zadbany wraz z dodatkami pilna sprzedaż',\n '13 days iphone 11 128gb czarny',\n '13 days iphone 11 stan idealny',\n '13 days iphone 11 pro silver 64 gb',\n '13 days oryginalny | iphone 11 pro 64gb | różne kolory | rok gwarancji',\n '13 days iphone 11 64 gb zielony gw 02.01.2022r',\n '14 days iphone 11 pro 64 gb 95% baterii',\n '13 days zadbany iphone 11 pro 512gb space gray (zamiana) gwarancja',\n '13 days wzorowy iphone 11 pro 256gb midnight green (zamiana)',\n '13 days iphone 11 pro max 64gb space gray',\n '13 days iphone 11 128gb ideał na gwarancji fioletowy',\n '13 days iphone 11 64gb',\n '13 days iphone 11 pro 64 gb, stan idealny',\n '13 days iphone 11 black 64gb gwarancja zamiana',\n '13 days apple iphone 11 64gb fioletowy purple 2650zł w-wa',\n '13 days iphone 11 64 gb na gwarancji',\n '13 days iphone 11 pro max złoty 64gb',\n '13 days iphone 11 64 gb jak nowy ! bateria 100% ! gwarancija !',\n '13 days iphone 11 czerwony 256gb od kobiety zadbany roczny',\n '13 days iphone 11 pro max 256g biały',\n '13 days iphone 11 xs 64 gb',\n '14 days iphone 11 pro max gold 64gb',\n '13 days iphone 11 pro max 256gb  okazja tylko dziś',\n '13 days okazja! iphone 11 128gb/ czarny/ gwarancja/ 100% sprawny/ bateria 95%',\n '13 days iphone 11 64gb - czarny',\n '13 days iphone 11 64 gb żółty gwarancja',\n '13 days sklep zadbany iphone 11 64gb purple balticgsm',\n '13 days iphone 11 pro 512gb silver + etui i ład. bezprzewodowa! gdańsk',\n '13 days iphone 11 64gb + 4 etui ! idealny ! 100% bateria !!',\n '13 days iphone11  128 gb',\n '13 days iphone 11 gwarancja nowy',\n '13 days iphone 11 pro midnight green 64gb gwarancja',\n '14 days iphone 11 pro max 64gb midnight green',\n '13 days iphone 11 pro max 64gb fv23 | wybór kolorów | gwarancja',\n '13 days iphone 11 64 gb space grey',\n '13 days iphone 11 red 128gb',\n '13 days nowy apple iphone 11 64gb yellow polska bez blokad + gwarancja 02.2021',\n '13 days iphone 11 64gb product red',\n '13 days apple iphone 11 256gb red',\n '13 days iphone 11 256gb',\n '13 days iphone 11 pro max 64gb + szkło hybrydowe 3mk',\n '13 days iphone 11 pro 64gb',\n '13 days iphone 11 ,64gb idealny stan ,gwarancja',\n '13 days apple iphone 11 pro max 64gb space grey gwarancja idealny stan',\n '13 days iphone 11 pro 64 gb silver',\n '13 days apple iphone 11 pro max',\n '13 days iphone 11 128gb product red',\n '13 days iphone 11 kolor czarny 64gb idealny stan',\n '13 days iphone 11 pro 64 gb',\n '14 days iphone 11 stan idealny! purple fioletowy',\n '14 days iphone 11 pro max 256 gb gold - 3650 zł !',\n '14 days od ręki! używany! apple iphone 11 64gb black - sklep oława',\n '14 days od ręki! używany! apple iphone 11 64gb black - sklep legnica',\n '14 days iphone 11 pro, 64 gb + akcesoria , stan idealny',\n '14 days od ręki! używany! apple iphone 11 64gb black - sklep wrocław',\n '14 days iphone 11 256gb black • promocja • gwarancja 1 msc • applecentrum',\n '14 days iphone 11 pro, 256 gb, stan idealny teraz promo 4.000',\n '14 days iphone 11 pro max gold 64gb',\n '14 days iphone 11 pro kolor ciemny zielony 64gb + etui',\n '14 days iphone 11 czarny',\n '14 days iphone 11 pro max 256 gb',\n '14 days iphone 11 używany',\n '14 days iphone 11 pro 64 gb midnight green',\n '14 days iphone 11 pro max silver 256gb',\n '14 days iphon 8 space grey stan idealny 11msc gwarancja ! bez brandu i blokad',\n '14 days iphone 11 black 64 gb gwarancja',\n '14 days artkom oferuje: najtaniej jak nowy iphone xr gw. prod. 11m-c bat.100%',\n '14 days iphone 11 64gb roczna gwarancja ubezpiczenie',\n '14 days iphone 11 pro max 256gb green',\n '14 days telefon/smartphone iphone 11 pro max 512 gb /100% bateria/komplet/gwar',\n '14 days iphone 11 pro max 512gb',\n '15 days iphone 11 pro 256 gb',\n '14 days iphone 11 64gb',\n '14 days iphone 11 128gb czarny black stan idealny kraków',\n '14 days iphone pro 11 max - gold - idealny - 64gb - 100% sprawny - kraków',\n '14 days iphone 11 pro max jak nowy 99% bateria',\n '14 days telefon/smartphone iphone 11 64gb brak face id, 99% bat, gwarancja',\n '14 days oryginalny | apple iphone 11 64/128gb | różne kolory | rok gwarancji',\n '14 days wzorowy iphone 11 pro max 512gb space gray gwarancja (zamiana)',\n '15 days iphone 11 pro max 64gb silver',\n '15 days iphone 11 pro max',\n '15 days iphone 11 black 128gb neverlock',\n '14 days iphone 11 uywany',\n '14 days apple iphone 11 pro max 256 gb midnight green',\n '14 days idealny iphone 11 pro 64gb bat.97%',\n '14 days iphone 11 ideał jak nowy zielony komplet',\n '14 days iphone 11 yellow 64gb',\n '14 days iphone 11 pro ,,space grey” 64gb',\n '14 days iphone 11 miętowy',\n '14 days telefon iphone 11 128 gb idealny / lawendowy / sklep / raty/ pobranie',\n '14 days telefon iphone 11 128 gb idealny / czerwony / sklep / raty/ pobranie',\n '14 days telefon iphone 11 128gb gwarancja dowód zakupu okazja',\n '14 days telefon iphone 11 128 gb idealny / zielony / sklep / raty/ pobranie',\n '14 days telefon iphone 11 128 gb idealny / czarny / sklep / raty/ pobranie',\n '14 days okazja. iphone 11 pro 256gb silver idealny, nowy',\n '14 days sprzedam iphone 11 pro max 64gb',\n '14 days iphone 11 pro max 64gb złoty warszawa',\n '14 days apple iphone 11 pro 64gb gold, gwarancja, jak nowy od ręki',\n '14 days iphone 11 pro max 64 gb , idealny',\n '14 days iphone 11 64gb',\n '14 days iphone 11 pro 64gb złoty 3150zł żelazna 89 w-wa',\n '14 days iphone 11 pro',\n '14 days iphone 11 64gb green stan bdb',\n '14 days iphone 11 128 gb stan idealny!',\n '15 days iphone 11 64gb white z cortland, stan idealny',\n '14 days iphone 11 64 gb czerwony, etui szkło hartowane',\n '14 days iphone 11 128gb',\n '14 days iphone 11 64gb (red) możliwa zamiana',\n '14 days iphone 11 fiolet 128gb',\n '14 days apple iphone 11 64 gb red gwarancja',\n '14 days iphone 11 fioletowy 64 gb',\n '14 days iphone 11 pro 64 gb /midnight green/ gwarancja +etui',\n '14 days oryginalny | apple iphone 11 64/128gb | różne kolory | rok gwarancji',\n '14 days iphone 11 128gb sprzedam',\n '14 days od ręki! używany! apple iphone 11 64gb black - sklep katowice',\n '14 days iphone 11 64gb zielony',\n '14 days iphone 11 pro max 64gb + szkło hybrydowe 3mk',\n '14 days apple iphone 11 64gb idealny',\n '14 days oryginalny | apple iphone 11 64/128gb | różne kolory | rok gwarancji',\n '14 days iphone 11 pro 512gb space gray gwarancja',\n '14 days iphone 11 pro max - 256gb',\n '14 days apple iphone 11 pro max gold 64gb master pl ogrodowa 9 poznan',\n '14 days od ręki! używany! apple iphone 11 64gb black - sklep kalisz',\n '14 days iphone 11',\n '15 days iphone 11 pro 64 gb space gray + apple etui',\n '15 days iphone 11 64 gb czarny',\n '15 days iphone 11 pro 64gb',\n '15 days apple iphone 11 128gb | ładny stan | komplet | gwarancja',\n '15 days iphone 11 pro max 256gb silver • promocja • gwar 1 msc • applecentrum',\n '15 days apple iphone 11 pro max 512 gb silver | komplet | gwarancja |',\n '15 days apple iphone 11 128 gb biały | komplet | stan bdb | bateria 98 % !',\n '15 days sprzedam iphone 11 256gb! gorzów wielkopolski',\n '15 days iphone 11 pro max 64gb space gray szary rezerwacja',\n '15 days iphone 11 pro max 64gb / gwarancja',\n '15 days iphone 11pro',\n '15 days sprzedam apple iphone 11 64gb (fioletowy) jak nowy',\n '15 days iphone 11 64gb white bat 100% idealny gw. 14 mies wadowiceoswiecim',\n '15 days sprzedam iphone 11 pro (2020)',\n '16 days iphone 11, 68 gb, stan idealny+ obudowa i szkło hartowane gratis',\n '15 days iphone 11 64gb green na gwarancji mozliwa zamiana',\n '15 days iphone 11 stan idealny  64 gb',\n '15 days apple iphone 11 128gb',\n '15 days iphone 11 pro 64gb, gwarancja.',\n '15 days iphone se 64gb 2020 biały z euro rtv agd 12.11.2020 najnowsza wersja!',\n '15 days telefon iphone 11 64gb black na gwar jak nowy',\n '15 days iphone 11, 64gb żółty',\n '15 days apple iphone 11 pro max 64gb midnight green',\n '15 days iphone 11 pro max 256 gb',\n '15 days apple iphone 11 pro max 512gb srebrny klasa a+ 97% bra-025 sklep wawa',\n '15 days super stan iphone 11 pro 64gb złoty + 3 case',\n '15 days apple iphone 11 pro max 512gb szary a+ bat100% gwarancja prod bra-020',\n '15 days iphone 11 128 gb black 95% bateria gw 15.06.2022',\n '15 days iphone 11 256 gb 22 msc gwarancji jak nowy',\n '15 days apple iphone 11 pro max 256 gb midnight green',\n '15 days iphone 11 64gb gwarancja bateria 94%',\n '15 days iphone 11 256 pamieci stan idealny plus case',\n '15 days iphone 11 pro 512gb idealny / mozliwa zamiana',\n '15 days iphone 11, gwarmacja apple, jak nowy',\n '15 days apple iphone 11 pro 64gb gold / idealny',\n '15 days iphone 11 biały 128gb',\n '15 days iphone 11 64 gb',\n '15 days iphone 11 czarny gwarancja',\n '15 days iphone 11 black +apple airpods 2 generacji',\n '16 days apple iphone 11 pro 64 gb',\n '15 days iphone 11 256 gb',\n '15 days apple iphone 11 64gb white poznań długa 14',\n '15 days iphone 11 pro 64',\n '15 days iphone 11 pro 64 gb silver',\n '15 days iphone 11 pro 64 gb',\n '15 days sprzedaj iphone 11 pro 64 gb',\n '15 days iphone 11pro',\n '15 days apple iphone 11 128gb czarny+szkło gratis piękny stan gwarancja',\n '15 days iphone 11 64gb - doskonały stan 1,5 roku gwarancji',\n '16 days iphone 11 64gb',\n '16 days iphone 11 pro max 256 gb | 10 msc gwarancji',\n '16 days okazja !! iphone 11 64gb czarny',\n '16 days iphone 11 pro, 64 gb + akcesoria , stan idealny',\n '16 days iphone 11 pro max gold 64gb',\n '16 days iphone 11 pro 64 gb space gray + apple etui',\n '16 days iphone 11 pro max gold 64gb',\n '16 days iphone 11  64gb',\n '16 days iphone 11',\n '16 days zestaw iphone 11 i airpods pro',\n '16 days iphone 11 (64 gb) gwarancja, ubezpieczenie',\n '16 days iphone 11 64gb jak nowy, gwarancja do marca!',\n ...]"
     },
     "execution_count": 3,
     "metadata": {},
     "output_type": "execute_result"
    }
   ],
   "source": [
    "preprocessed_data['Days_passed_name'].tolist()"
   ],
   "metadata": {
    "collapsed": false
   }
  },
  {
   "cell_type": "code",
   "execution_count": 3,
   "outputs": [
    {
     "data": {
      "text/plain": "43.5437874251497"
     },
     "execution_count": 3,
     "metadata": {},
     "output_type": "execute_result"
    }
   ],
   "source": [
    "preprocessed_data['Days_passed_name'].apply(len).mean()  # optimal number of characters"
   ],
   "metadata": {
    "collapsed": false
   }
  },
  {
   "cell_type": "code",
   "execution_count": 4,
   "outputs": [
    {
     "data": {
      "text/plain": "577.8701347305389"
     },
     "execution_count": 4,
     "metadata": {},
     "output_type": "execute_result"
    }
   ],
   "source": [
    "preprocessed_data['Days_passed_name_desc'].apply(len).mean()  # too many characters to process, needs truncation"
   ],
   "metadata": {
    "collapsed": false
   }
  },
  {
   "cell_type": "code",
   "execution_count": 7,
   "outputs": [
    {
     "name": "stderr",
     "output_type": "stream",
     "text": [
      "Some weights of the model checkpoint at dkleczek/bert-base-polish-uncased-v1 were not used when initializing BertForSequenceClassification: ['cls.predictions.transform.LayerNorm.weight', 'cls.predictions.transform.dense.weight', 'cls.seq_relationship.weight', 'cls.predictions.transform.dense.bias', 'cls.predictions.bias', 'cls.seq_relationship.bias', 'cls.predictions.decoder.bias', 'cls.predictions.transform.LayerNorm.bias', 'cls.predictions.decoder.weight']\n",
      "- This IS expected if you are initializing BertForSequenceClassification from the checkpoint of a model trained on another task or with another architecture (e.g. initializing a BertForSequenceClassification model from a BertForPreTraining model).\n",
      "- This IS NOT expected if you are initializing BertForSequenceClassification from the checkpoint of a model that you expect to be exactly identical (initializing a BertForSequenceClassification model from a BertForSequenceClassification model).\n",
      "Some weights of BertForSequenceClassification were not initialized from the model checkpoint at dkleczek/bert-base-polish-uncased-v1 and are newly initialized: ['classifier.bias', 'classifier.weight']\n",
      "You should probably TRAIN this model on a down-stream task to be able to use it for predictions and inference.\n"
     ]
    }
   ],
   "source": [
    "# polish language model loaded into basic transformer framework\n",
    "model = AutoModelForSequenceClassification.from_pretrained('dkleczek/bert-base-polish-uncased-v1', num_labels=1).to(\"cpu\") # num_labels=1 sets model to regression problem"
   ],
   "metadata": {
    "collapsed": false
   }
  },
  {
   "cell_type": "code",
   "execution_count": 2,
   "outputs": [],
   "source": [
    "# polish language model loaded into basic transformer framework\n",
    "tokenizer = AutoTokenizer.from_pretrained('dkleczek/bert-base-polish-uncased-v1')\n",
    "\n",
    "# scaling data\n",
    "scaler = StandardScaler()\n",
    "y_dataset = scaler.fit_transform(np.asarray(preprocessed_data['Price']).reshape(-1, 1))\n",
    "\n",
    "X_train, X_test, y_train, y_test = train_test_split(preprocessed_data['Days_passed_name'].tolist(), y_dataset, train_size=0.8, random_state=SEED)\n",
    "X_train, X_val, y_train, y_val = train_test_split(X_train, y_train, train_size=0.8, random_state=SEED)\n",
    "\n",
    "#converting data to tokens\n",
    "train_encodings = tokenizer(X_train, truncation=True, padding=True, max_length=100)\n",
    "valid_encodings = tokenizer(X_val, truncation=True, padding=True, max_length=100)\n",
    "test_encodings = tokenizer(X_test, truncation=True, padding=True, max_length=100)\n",
    "\n",
    "# convert our tokenized data into a torch Dataset\n",
    "train_dataset = MakeTorchData(train_encodings, y_train.ravel())\n",
    "valid_dataset = MakeTorchData(valid_encodings, y_val.ravel())\n",
    "test_dataset = MakeTorchData(test_encodings, y_test.ravel())"
   ],
   "metadata": {
    "collapsed": false
   }
  },
  {
   "cell_type": "code",
   "execution_count": 11,
   "outputs": [
    {
     "name": "stderr",
     "output_type": "stream",
     "text": [
      "PyTorch: setting up devices\n",
      "The default value for the training argument `--report_to` will change in v5 (from all installed integrations to none). In v5, you will need to use `--report_to all` to get the same behavior as now. You should start updating your code and make this info disappear :-).\n",
      "E:\\nlp2\\venv\\lib\\site-packages\\transformers\\optimization.py:306: FutureWarning: This implementation of AdamW is deprecated and will be removed in a future version. Use the PyTorch implementation torch.optim.AdamW instead, or set `no_deprecation_warning=True` to disable this warning\n",
      "  warnings.warn(\n",
      "***** Running training *****\n",
      "  Num examples = 1709\n",
      "  Num Epochs = 20\n",
      "  Instantaneous batch size per device = 32\n",
      "  Total train batch size (w. parallel, distributed & accumulation) = 32\n",
      "  Gradient Accumulation steps = 1\n",
      "  Total optimization steps = 1080\n",
      "  Number of trainable parameters = 132122113\n"
     ]
    },
    {
     "data": {
      "text/plain": "<IPython.core.display.HTML object>",
      "text/html": "\n    <div>\n      \n      <progress value='2' max='1080' style='width:300px; height:20px; vertical-align: middle;'></progress>\n      [   2/1080 : < :, Epoch 0.02/20]\n    </div>\n    <table border=\"1\" class=\"dataframe\">\n  <thead>\n <tr style=\"text-align: left;\">\n      <th>Epoch</th>\n      <th>Training Loss</th>\n      <th>Validation Loss</th>\n    </tr>\n  </thead>\n  <tbody>\n  </tbody>\n</table><p>"
     },
     "metadata": {},
     "output_type": "display_data"
    },
    {
     "name": "stderr",
     "output_type": "stream",
     "text": [
      "***** Running Evaluation *****\n",
      "  Num examples = 428\n",
      "  Batch size = 20\n",
      "Saving model checkpoint to ../models/auto_model/days_name_desc_20_ml100/checkpoints\\checkpoint-54\n",
      "Configuration saved in ../models/auto_model/days_name_desc_20_ml100/checkpoints\\checkpoint-54\\config.json\n",
      "Model weights saved in ../models/auto_model/days_name_desc_20_ml100/checkpoints\\checkpoint-54\\pytorch_model.bin\n",
      "***** Running Evaluation *****\n",
      "  Num examples = 428\n",
      "  Batch size = 20\n",
      "Saving model checkpoint to ../models/auto_model/days_name_desc_20_ml100/checkpoints\\checkpoint-108\n",
      "Configuration saved in ../models/auto_model/days_name_desc_20_ml100/checkpoints\\checkpoint-108\\config.json\n",
      "Model weights saved in ../models/auto_model/days_name_desc_20_ml100/checkpoints\\checkpoint-108\\pytorch_model.bin\n",
      "***** Running Evaluation *****\n",
      "  Num examples = 428\n",
      "  Batch size = 20\n",
      "Saving model checkpoint to ../models/auto_model/days_name_desc_20_ml100/checkpoints\\checkpoint-162\n",
      "Configuration saved in ../models/auto_model/days_name_desc_20_ml100/checkpoints\\checkpoint-162\\config.json\n",
      "Model weights saved in ../models/auto_model/days_name_desc_20_ml100/checkpoints\\checkpoint-162\\pytorch_model.bin\n",
      "***** Running Evaluation *****\n",
      "  Num examples = 428\n",
      "  Batch size = 20\n",
      "Saving model checkpoint to ../models/auto_model/days_name_desc_20_ml100/checkpoints\\checkpoint-216\n",
      "Configuration saved in ../models/auto_model/days_name_desc_20_ml100/checkpoints\\checkpoint-216\\config.json\n",
      "Model weights saved in ../models/auto_model/days_name_desc_20_ml100/checkpoints\\checkpoint-216\\pytorch_model.bin\n",
      "***** Running Evaluation *****\n",
      "  Num examples = 428\n",
      "  Batch size = 20\n",
      "Saving model checkpoint to ../models/auto_model/days_name_desc_20_ml100/checkpoints\\checkpoint-270\n",
      "Configuration saved in ../models/auto_model/days_name_desc_20_ml100/checkpoints\\checkpoint-270\\config.json\n",
      "Model weights saved in ../models/auto_model/days_name_desc_20_ml100/checkpoints\\checkpoint-270\\pytorch_model.bin\n",
      "***** Running Evaluation *****\n",
      "  Num examples = 428\n",
      "  Batch size = 20\n",
      "Saving model checkpoint to ../models/auto_model/days_name_desc_20_ml100/checkpoints\\checkpoint-324\n",
      "Configuration saved in ../models/auto_model/days_name_desc_20_ml100/checkpoints\\checkpoint-324\\config.json\n",
      "Model weights saved in ../models/auto_model/days_name_desc_20_ml100/checkpoints\\checkpoint-324\\pytorch_model.bin\n",
      "***** Running Evaluation *****\n",
      "  Num examples = 428\n",
      "  Batch size = 20\n",
      "Saving model checkpoint to ../models/auto_model/days_name_desc_20_ml100/checkpoints\\checkpoint-378\n",
      "Configuration saved in ../models/auto_model/days_name_desc_20_ml100/checkpoints\\checkpoint-378\\config.json\n",
      "Model weights saved in ../models/auto_model/days_name_desc_20_ml100/checkpoints\\checkpoint-378\\pytorch_model.bin\n",
      "***** Running Evaluation *****\n",
      "  Num examples = 428\n",
      "  Batch size = 20\n",
      "Saving model checkpoint to ../models/auto_model/days_name_desc_20_ml100/checkpoints\\checkpoint-432\n",
      "Configuration saved in ../models/auto_model/days_name_desc_20_ml100/checkpoints\\checkpoint-432\\config.json\n",
      "Model weights saved in ../models/auto_model/days_name_desc_20_ml100/checkpoints\\checkpoint-432\\pytorch_model.bin\n",
      "***** Running Evaluation *****\n",
      "  Num examples = 428\n",
      "  Batch size = 20\n",
      "Saving model checkpoint to ../models/auto_model/days_name_desc_20_ml100/checkpoints\\checkpoint-486\n",
      "Configuration saved in ../models/auto_model/days_name_desc_20_ml100/checkpoints\\checkpoint-486\\config.json\n",
      "Model weights saved in ../models/auto_model/days_name_desc_20_ml100/checkpoints\\checkpoint-486\\pytorch_model.bin\n",
      "***** Running Evaluation *****\n",
      "  Num examples = 428\n",
      "  Batch size = 20\n",
      "Saving model checkpoint to ../models/auto_model/days_name_desc_20_ml100/checkpoints\\checkpoint-540\n",
      "Configuration saved in ../models/auto_model/days_name_desc_20_ml100/checkpoints\\checkpoint-540\\config.json\n",
      "Model weights saved in ../models/auto_model/days_name_desc_20_ml100/checkpoints\\checkpoint-540\\pytorch_model.bin\n",
      "***** Running Evaluation *****\n",
      "  Num examples = 428\n",
      "  Batch size = 20\n",
      "Saving model checkpoint to ../models/auto_model/days_name_desc_20_ml100/checkpoints\\checkpoint-594\n",
      "Configuration saved in ../models/auto_model/days_name_desc_20_ml100/checkpoints\\checkpoint-594\\config.json\n",
      "Model weights saved in ../models/auto_model/days_name_desc_20_ml100/checkpoints\\checkpoint-594\\pytorch_model.bin\n",
      "Deleting older checkpoint [..\\models\\auto_model\\days_name_desc_20_ml100\\checkpoints\\checkpoint-54] due to args.save_total_limit\n",
      "***** Running Evaluation *****\n",
      "  Num examples = 428\n",
      "  Batch size = 20\n",
      "Saving model checkpoint to ../models/auto_model/days_name_desc_20_ml100/checkpoints\\checkpoint-648\n",
      "Configuration saved in ../models/auto_model/days_name_desc_20_ml100/checkpoints\\checkpoint-648\\config.json\n",
      "Model weights saved in ../models/auto_model/days_name_desc_20_ml100/checkpoints\\checkpoint-648\\pytorch_model.bin\n",
      "Deleting older checkpoint [..\\models\\auto_model\\days_name_desc_20_ml100\\checkpoints\\checkpoint-108] due to args.save_total_limit\n",
      "***** Running Evaluation *****\n",
      "  Num examples = 428\n",
      "  Batch size = 20\n",
      "Saving model checkpoint to ../models/auto_model/days_name_desc_20_ml100/checkpoints\\checkpoint-702\n",
      "Configuration saved in ../models/auto_model/days_name_desc_20_ml100/checkpoints\\checkpoint-702\\config.json\n",
      "Model weights saved in ../models/auto_model/days_name_desc_20_ml100/checkpoints\\checkpoint-702\\pytorch_model.bin\n",
      "Deleting older checkpoint [..\\models\\auto_model\\days_name_desc_20_ml100\\checkpoints\\checkpoint-162] due to args.save_total_limit\n",
      "***** Running Evaluation *****\n",
      "  Num examples = 428\n",
      "  Batch size = 20\n",
      "Saving model checkpoint to ../models/auto_model/days_name_desc_20_ml100/checkpoints\\checkpoint-756\n",
      "Configuration saved in ../models/auto_model/days_name_desc_20_ml100/checkpoints\\checkpoint-756\\config.json\n",
      "Model weights saved in ../models/auto_model/days_name_desc_20_ml100/checkpoints\\checkpoint-756\\pytorch_model.bin\n",
      "Deleting older checkpoint [..\\models\\auto_model\\days_name_desc_20_ml100\\checkpoints\\checkpoint-270] due to args.save_total_limit\n",
      "***** Running Evaluation *****\n",
      "  Num examples = 428\n",
      "  Batch size = 20\n",
      "Saving model checkpoint to ../models/auto_model/days_name_desc_20_ml100/checkpoints\\checkpoint-810\n",
      "Configuration saved in ../models/auto_model/days_name_desc_20_ml100/checkpoints\\checkpoint-810\\config.json\n",
      "Model weights saved in ../models/auto_model/days_name_desc_20_ml100/checkpoints\\checkpoint-810\\pytorch_model.bin\n",
      "Deleting older checkpoint [..\\models\\auto_model\\days_name_desc_20_ml100\\checkpoints\\checkpoint-324] due to args.save_total_limit\n",
      "***** Running Evaluation *****\n",
      "  Num examples = 428\n",
      "  Batch size = 20\n",
      "Saving model checkpoint to ../models/auto_model/days_name_desc_20_ml100/checkpoints\\checkpoint-864\n",
      "Configuration saved in ../models/auto_model/days_name_desc_20_ml100/checkpoints\\checkpoint-864\\config.json\n",
      "Model weights saved in ../models/auto_model/days_name_desc_20_ml100/checkpoints\\checkpoint-864\\pytorch_model.bin\n",
      "Deleting older checkpoint [..\\models\\auto_model\\days_name_desc_20_ml100\\checkpoints\\checkpoint-378] due to args.save_total_limit\n",
      "***** Running Evaluation *****\n",
      "  Num examples = 428\n",
      "  Batch size = 20\n",
      "Saving model checkpoint to ../models/auto_model/days_name_desc_20_ml100/checkpoints\\checkpoint-918\n",
      "Configuration saved in ../models/auto_model/days_name_desc_20_ml100/checkpoints\\checkpoint-918\\config.json\n",
      "Model weights saved in ../models/auto_model/days_name_desc_20_ml100/checkpoints\\checkpoint-918\\pytorch_model.bin\n",
      "Deleting older checkpoint [..\\models\\auto_model\\days_name_desc_20_ml100\\checkpoints\\checkpoint-432] due to args.save_total_limit\n",
      "***** Running Evaluation *****\n",
      "  Num examples = 428\n",
      "  Batch size = 20\n",
      "Saving model checkpoint to ../models/auto_model/days_name_desc_20_ml100/checkpoints\\checkpoint-972\n",
      "Configuration saved in ../models/auto_model/days_name_desc_20_ml100/checkpoints\\checkpoint-972\\config.json\n",
      "Model weights saved in ../models/auto_model/days_name_desc_20_ml100/checkpoints\\checkpoint-972\\pytorch_model.bin\n",
      "Deleting older checkpoint [..\\models\\auto_model\\days_name_desc_20_ml100\\checkpoints\\checkpoint-486] due to args.save_total_limit\n",
      "***** Running Evaluation *****\n",
      "  Num examples = 428\n",
      "  Batch size = 20\n",
      "Saving model checkpoint to ../models/auto_model/days_name_desc_20_ml100/checkpoints\\checkpoint-1026\n",
      "Configuration saved in ../models/auto_model/days_name_desc_20_ml100/checkpoints\\checkpoint-1026\\config.json\n",
      "Model weights saved in ../models/auto_model/days_name_desc_20_ml100/checkpoints\\checkpoint-1026\\pytorch_model.bin\n",
      "Deleting older checkpoint [..\\models\\auto_model\\days_name_desc_20_ml100\\checkpoints\\checkpoint-540] due to args.save_total_limit\n",
      "***** Running Evaluation *****\n",
      "  Num examples = 428\n",
      "  Batch size = 20\n",
      "Saving model checkpoint to ../models/auto_model/days_name_desc_20_ml100/checkpoints\\checkpoint-1080\n",
      "Configuration saved in ../models/auto_model/days_name_desc_20_ml100/checkpoints\\checkpoint-1080\\config.json\n",
      "Model weights saved in ../models/auto_model/days_name_desc_20_ml100/checkpoints\\checkpoint-1080\\pytorch_model.bin\n",
      "Deleting older checkpoint [..\\models\\auto_model\\days_name_desc_20_ml100\\checkpoints\\checkpoint-594] due to args.save_total_limit\n",
      "\n",
      "\n",
      "Training completed. Do not forget to share your model on huggingface.co/models =)\n",
      "\n",
      "\n",
      "Loading best model from ../models/auto_model/days_name_desc_20_ml100/checkpoints\\checkpoint-216 (score: 0.8044013381004333).\n",
      "***** Running Evaluation *****\n",
      "  Num examples = 428\n",
      "  Batch size = 20\n"
     ]
    },
    {
     "data": {
      "text/plain": "<IPython.core.display.HTML object>",
      "text/html": "\n    <div>\n      \n      <progress value='1' max='22' style='width:300px; height:20px; vertical-align: middle;'></progress>\n      [ 1/22 : < :]\n    </div>\n    "
     },
     "metadata": {},
     "output_type": "display_data"
    },
    {
     "data": {
      "text/plain": "{'eval_loss': 0.6470615267753601,\n 'eval_mse': 0.6470615267753601,\n 'eval_rmse': 0.8044013381004333,\n 'eval_mae': 0.5976303219795227,\n 'eval_r2': 0.32811412840604026,\n 'eval_runtime': 81.6857,\n 'eval_samples_per_second': 5.24,\n 'eval_steps_per_second': 0.269,\n 'epoch': 20.0}"
     },
     "execution_count": 11,
     "metadata": {},
     "output_type": "execute_result"
    }
   ],
   "source": [
    "# Specify arguments for the trainer\n",
    "training_args = TrainingArguments(\n",
    "    output_dir=PATH_FOR_MODEL + '/checkpoints',\n",
    "    num_train_epochs=EPOCHS,\n",
    "    per_device_train_batch_size=32,\n",
    "    per_device_eval_batch_size=20,\n",
    "    weight_decay=0.01,\n",
    "    learning_rate=2e-5,\n",
    "    logging_dir='../logs',\n",
    "    save_total_limit=10,\n",
    "    load_best_model_at_end=True,\n",
    "    metric_for_best_model='rmse',\n",
    "    evaluation_strategy=\"epoch\",\n",
    "    save_strategy=\"epoch\",\n",
    ")\n",
    "\n",
    "# Create trainer\n",
    "trainer = Trainer( # check if verbose = 0\n",
    "    model=model,\n",
    "    args=training_args,\n",
    "    train_dataset=train_dataset,\n",
    "    eval_dataset=valid_dataset,\n",
    "    compute_metrics=compute_metrics,\n",
    ")\n",
    "\n",
    "# Train the model\n",
    "trainer.train()\n",
    "\n",
    "# Call the summary\n",
    "_ = trainer.evaluate()"
   ],
   "metadata": {
    "collapsed": false
   }
  },
  {
   "cell_type": "code",
   "execution_count": 12,
   "outputs": [
    {
     "name": "stderr",
     "output_type": "stream",
     "text": [
      "Saving model checkpoint to ../models/auto_model/days_name_desc_20_ml100\n",
      "Configuration saved in ../models/auto_model/days_name_desc_20_ml100\\config.json\n",
      "Model weights saved in ../models/auto_model/days_name_desc_20_ml100\\pytorch_model.bin\n"
     ]
    }
   ],
   "source": [
    "# save model and scaler\n",
    "trainer.save_model(PATH_FOR_MODEL)\n",
    "pickle.dump(scaler, open(PATH_FOR_MODEL + '/scaler.pkl', 'wb'))"
   ],
   "metadata": {
    "collapsed": false
   }
  },
  {
   "cell_type": "code",
   "execution_count": 13,
   "outputs": [
    {
     "name": "stderr",
     "output_type": "stream",
     "text": [
      "***** Running Prediction *****\n",
      "  Num examples = 535\n",
      "  Batch size = 20\n"
     ]
    }
   ],
   "source": [
    "# try model on test data\n",
    "predictions = trainer.predict(test_dataset)"
   ],
   "metadata": {
    "collapsed": false
   }
  },
  {
   "cell_type": "code",
   "execution_count": 14,
   "outputs": [
    {
     "data": {
      "text/plain": "436.6896"
     },
     "execution_count": 14,
     "metadata": {},
     "output_type": "execute_result"
    }
   ],
   "source": [
    "# check rmse\n",
    "inverse_predictions = scaler.inverse_transform(np.asarray(predictions[0]).reshape(-1, 1))\n",
    "inverse_test = scaler.inverse_transform(np.asarray(predictions[1]).reshape(-1, 1))\n",
    "mean_squared_error(inverse_test, inverse_predictions, squared=False)"
   ],
   "metadata": {
    "collapsed": false
   }
  },
  {
   "cell_type": "code",
   "execution_count": 21,
   "outputs": [
    {
     "name": "stderr",
     "output_type": "stream",
     "text": [
      "***** Running Prediction *****\n",
      "  Num examples = 89\n",
      "  Batch size = 20\n"
     ]
    },
    {
     "data": {
      "text/plain": "<IPython.core.display.HTML object>",
      "text/html": "\n    <div>\n      \n      <progress value='1' max='5' style='width:300px; height:20px; vertical-align: middle;'></progress>\n      [1/5 : < :]\n    </div>\n    "
     },
     "metadata": {},
     "output_type": "display_data"
    }
   ],
   "source": [
    "# moved function to util.py\n",
    "prediction = predict_text(trainer, scaler, tokenizer, 'iphone 11 64')"
   ],
   "metadata": {
    "collapsed": false
   }
  },
  {
   "cell_type": "code",
   "execution_count": 23,
   "outputs": [
    {
     "data": {
      "application/vnd.plotly.v1+json": {
       "data": [
        {
         "hovertemplate": "variable=0<br>index=%{x}<br>value=%{y}<extra></extra>",
         "legendgroup": "0",
         "marker": {
          "color": "#636efa",
          "symbol": "circle"
         },
         "mode": "markers",
         "name": "0",
         "orientation": "v",
         "showlegend": true,
         "x": [
          0,
          1,
          2,
          3,
          4,
          5,
          6,
          7,
          8,
          9,
          10,
          11,
          12,
          13,
          14,
          15,
          16,
          17,
          18,
          19,
          20,
          21,
          22,
          23,
          24,
          25,
          26,
          27,
          28,
          29,
          30,
          31,
          32,
          33,
          34,
          35,
          36,
          37,
          38,
          39,
          40,
          41,
          42,
          43,
          44,
          45,
          46,
          47,
          48,
          49,
          50,
          51,
          52,
          53,
          54,
          55,
          56,
          57,
          58,
          59,
          60,
          61,
          62,
          63,
          64,
          65,
          66,
          67,
          68,
          69,
          70,
          71,
          72,
          73,
          74,
          75,
          76,
          77,
          78,
          79,
          80,
          81,
          82,
          83,
          84,
          85,
          86,
          87,
          88
         ],
         "xaxis": "x",
         "y": [
          2320.1435546875,
          2372.77294921875,
          2374.39501953125,
          2396.6455078125,
          2336.2451171875,
          2322.624755859375,
          2335.635009765625,
          2326.240966796875,
          2315.7275390625,
          2281.46728515625,
          2267.37939453125,
          2321.861083984375,
          2245.397216796875,
          2302.15283203125,
          2289.894775390625,
          2296.701416015625,
          2304.211181640625,
          2341.745849609375,
          2316.513427734375,
          2254.40673828125,
          2251.905029296875,
          2365.256103515625,
          2275.692626953125,
          2337.224365234375,
          2235.9375,
          2181.32080078125,
          2113.546142578125,
          2170.422119140625,
          2184.623291015625,
          2123.709228515625,
          2045.90625,
          2228.029052734375,
          2187.382568359375,
          2207.893310546875,
          2229.595703125,
          2157.66259765625,
          2104.40234375,
          2296.471435546875,
          2107.72802734375,
          2079.77197265625,
          2156.603759765625,
          2158.24365234375,
          2127.04248046875,
          2265.954345703125,
          2292.844482421875,
          2235.204833984375,
          2202.11181640625,
          2131.236083984375,
          2136.953369140625,
          2165.58935546875,
          2052.39892578125,
          2239.68994140625,
          2216.6630859375,
          2104.739990234375,
          2205.45849609375,
          2165.960693359375,
          2124.807861328125,
          2126.22412109375,
          2203.868896484375,
          2207.9140625,
          1994.0814208984375,
          2192.709228515625,
          2110.54541015625,
          2261.076904296875,
          2181.541259765625,
          2141.303955078125,
          2185.765380859375,
          2241.936767578125,
          2309.467529296875,
          2211.744384765625,
          2113.628173828125,
          2267.25048828125,
          2336.34765625,
          2252.71875,
          2214.138671875,
          2132.19873046875,
          2157.0224609375,
          2249.267333984375,
          2132.198974609375,
          2162.98681640625,
          1901.8448486328125,
          2048.42626953125,
          2149.76806640625,
          2290.796142578125,
          2230.888916015625,
          2109.628173828125,
          2159.84033203125,
          2140.046142578125,
          2192.03173828125
         ],
         "yaxis": "y",
         "type": "scatter"
        },
        {
         "hovertemplate": "<b>LOWESS trendline</b><br><br>variable=0<br>index=%{x}<br>value=%{y} <b>(trend)</b><extra></extra>",
         "legendgroup": "0",
         "marker": {
          "color": "#636efa",
          "symbol": "circle"
         },
         "mode": "lines",
         "name": "0",
         "showlegend": false,
         "x": [
          0,
          1,
          2,
          3,
          4,
          5,
          6,
          7,
          8,
          9,
          10,
          11,
          12,
          13,
          14,
          15,
          16,
          17,
          18,
          19,
          20,
          21,
          22,
          23,
          24,
          25,
          26,
          27,
          28,
          29,
          30,
          31,
          32,
          33,
          34,
          35,
          36,
          37,
          38,
          39,
          40,
          41,
          42,
          43,
          44,
          45,
          46,
          47,
          48,
          49,
          50,
          51,
          52,
          53,
          54,
          55,
          56,
          57,
          58,
          59,
          60,
          61,
          62,
          63,
          64,
          65,
          66,
          67,
          68,
          69,
          70,
          71,
          72,
          73,
          74,
          75,
          76,
          77,
          78,
          79,
          80,
          81,
          82,
          83,
          84,
          85,
          86,
          87,
          88
         ],
         "xaxis": "x",
         "y": [
          2360.6314781467663,
          2355.553857538201,
          2350.481593634757,
          2345.4157882408012,
          2340.3571704809515,
          2335.3059512196573,
          2330.2623395499377,
          2325.2267323450064,
          2320.1995637951295,
          2315.1813155525033,
          2310.17265149631,
          2305.17473871788,
          2300.189296935537,
          2295.2182622674945,
          2290.2641821996294,
          2285.3299196350404,
          2280.4185912013963,
          2275.5334647444142,
          2270.6777068912347,
          2265.8539175902233,
          2261.0641166866476,
          2256.3102403177422,
          2251.59396517583,
          2246.915510315225,
          2242.2732834612975,
          2237.6630424663485,
          2233.0790582329473,
          2228.517217940803,
          2223.9803520305477,
          2219.4822938027874,
          2215.852266354493,
          2212.309432227787,
          2208.8494208071966,
          2205.462634726673,
          2202.1518252924993,
          2198.9228246286684,
          2195.793767722094,
          2192.791002604172,
          2189.943762541927,
          2187.2864505955295,
          2184.8605972829255,
          2182.709375145017,
          2180.872244453036,
          2179.3663878461016,
          2178.2036632124177,
          2177.3867299882395,
          2176.9072637689055,
          2176.741827273927,
          2176.8497413366717,
          2177.1837700086544,
          2177.694142667875,
          2178.319252474411,
          2179.0005917599037,
          2179.689127468522,
          2180.3469673695445,
          2180.954841346302,
          2181.514761688054,
          2182.0328095763766,
          2182.5077099055407,
          2182.9363297501873,
          2183.092525715124,
          2183.0812122903194,
          2182.9840983923154,
          2182.857495444598,
          2182.7312977038846,
          2182.6181614658435,
          2182.5228028335896,
          2182.4468927907087,
          2182.3902052347476,
          2182.350802662388,
          2182.325563232068,
          2182.3112727283037,
          2182.305391126671,
          2182.304854467256,
          2182.305986774442,
          2182.3046896565606,
          2182.296991407933,
          2182.279814431723,
          2182.250611778568,
          2182.206685042151,
          2182.1460003086395,
          2182.067058063835,
          2181.968768105899,
          2181.8510217471094,
          2181.7141199755606,
          2181.557527376341,
          2181.3802216844747,
          2181.1819701882855,
          2180.963186370923
         ],
         "yaxis": "y",
         "type": "scatter"
        }
       ],
       "layout": {
        "template": {
         "data": {
          "histogram2dcontour": [
           {
            "type": "histogram2dcontour",
            "colorbar": {
             "outlinewidth": 0,
             "ticks": ""
            },
            "colorscale": [
             [
              0.0,
              "#0d0887"
             ],
             [
              0.1111111111111111,
              "#46039f"
             ],
             [
              0.2222222222222222,
              "#7201a8"
             ],
             [
              0.3333333333333333,
              "#9c179e"
             ],
             [
              0.4444444444444444,
              "#bd3786"
             ],
             [
              0.5555555555555556,
              "#d8576b"
             ],
             [
              0.6666666666666666,
              "#ed7953"
             ],
             [
              0.7777777777777778,
              "#fb9f3a"
             ],
             [
              0.8888888888888888,
              "#fdca26"
             ],
             [
              1.0,
              "#f0f921"
             ]
            ]
           }
          ],
          "choropleth": [
           {
            "type": "choropleth",
            "colorbar": {
             "outlinewidth": 0,
             "ticks": ""
            }
           }
          ],
          "histogram2d": [
           {
            "type": "histogram2d",
            "colorbar": {
             "outlinewidth": 0,
             "ticks": ""
            },
            "colorscale": [
             [
              0.0,
              "#0d0887"
             ],
             [
              0.1111111111111111,
              "#46039f"
             ],
             [
              0.2222222222222222,
              "#7201a8"
             ],
             [
              0.3333333333333333,
              "#9c179e"
             ],
             [
              0.4444444444444444,
              "#bd3786"
             ],
             [
              0.5555555555555556,
              "#d8576b"
             ],
             [
              0.6666666666666666,
              "#ed7953"
             ],
             [
              0.7777777777777778,
              "#fb9f3a"
             ],
             [
              0.8888888888888888,
              "#fdca26"
             ],
             [
              1.0,
              "#f0f921"
             ]
            ]
           }
          ],
          "heatmap": [
           {
            "type": "heatmap",
            "colorbar": {
             "outlinewidth": 0,
             "ticks": ""
            },
            "colorscale": [
             [
              0.0,
              "#0d0887"
             ],
             [
              0.1111111111111111,
              "#46039f"
             ],
             [
              0.2222222222222222,
              "#7201a8"
             ],
             [
              0.3333333333333333,
              "#9c179e"
             ],
             [
              0.4444444444444444,
              "#bd3786"
             ],
             [
              0.5555555555555556,
              "#d8576b"
             ],
             [
              0.6666666666666666,
              "#ed7953"
             ],
             [
              0.7777777777777778,
              "#fb9f3a"
             ],
             [
              0.8888888888888888,
              "#fdca26"
             ],
             [
              1.0,
              "#f0f921"
             ]
            ]
           }
          ],
          "heatmapgl": [
           {
            "type": "heatmapgl",
            "colorbar": {
             "outlinewidth": 0,
             "ticks": ""
            },
            "colorscale": [
             [
              0.0,
              "#0d0887"
             ],
             [
              0.1111111111111111,
              "#46039f"
             ],
             [
              0.2222222222222222,
              "#7201a8"
             ],
             [
              0.3333333333333333,
              "#9c179e"
             ],
             [
              0.4444444444444444,
              "#bd3786"
             ],
             [
              0.5555555555555556,
              "#d8576b"
             ],
             [
              0.6666666666666666,
              "#ed7953"
             ],
             [
              0.7777777777777778,
              "#fb9f3a"
             ],
             [
              0.8888888888888888,
              "#fdca26"
             ],
             [
              1.0,
              "#f0f921"
             ]
            ]
           }
          ],
          "contourcarpet": [
           {
            "type": "contourcarpet",
            "colorbar": {
             "outlinewidth": 0,
             "ticks": ""
            }
           }
          ],
          "contour": [
           {
            "type": "contour",
            "colorbar": {
             "outlinewidth": 0,
             "ticks": ""
            },
            "colorscale": [
             [
              0.0,
              "#0d0887"
             ],
             [
              0.1111111111111111,
              "#46039f"
             ],
             [
              0.2222222222222222,
              "#7201a8"
             ],
             [
              0.3333333333333333,
              "#9c179e"
             ],
             [
              0.4444444444444444,
              "#bd3786"
             ],
             [
              0.5555555555555556,
              "#d8576b"
             ],
             [
              0.6666666666666666,
              "#ed7953"
             ],
             [
              0.7777777777777778,
              "#fb9f3a"
             ],
             [
              0.8888888888888888,
              "#fdca26"
             ],
             [
              1.0,
              "#f0f921"
             ]
            ]
           }
          ],
          "surface": [
           {
            "type": "surface",
            "colorbar": {
             "outlinewidth": 0,
             "ticks": ""
            },
            "colorscale": [
             [
              0.0,
              "#0d0887"
             ],
             [
              0.1111111111111111,
              "#46039f"
             ],
             [
              0.2222222222222222,
              "#7201a8"
             ],
             [
              0.3333333333333333,
              "#9c179e"
             ],
             [
              0.4444444444444444,
              "#bd3786"
             ],
             [
              0.5555555555555556,
              "#d8576b"
             ],
             [
              0.6666666666666666,
              "#ed7953"
             ],
             [
              0.7777777777777778,
              "#fb9f3a"
             ],
             [
              0.8888888888888888,
              "#fdca26"
             ],
             [
              1.0,
              "#f0f921"
             ]
            ]
           }
          ],
          "mesh3d": [
           {
            "type": "mesh3d",
            "colorbar": {
             "outlinewidth": 0,
             "ticks": ""
            }
           }
          ],
          "scatter": [
           {
            "fillpattern": {
             "fillmode": "overlay",
             "size": 10,
             "solidity": 0.2
            },
            "type": "scatter"
           }
          ],
          "parcoords": [
           {
            "type": "parcoords",
            "line": {
             "colorbar": {
              "outlinewidth": 0,
              "ticks": ""
             }
            }
           }
          ],
          "scatterpolargl": [
           {
            "type": "scatterpolargl",
            "marker": {
             "colorbar": {
              "outlinewidth": 0,
              "ticks": ""
             }
            }
           }
          ],
          "bar": [
           {
            "error_x": {
             "color": "#2a3f5f"
            },
            "error_y": {
             "color": "#2a3f5f"
            },
            "marker": {
             "line": {
              "color": "#E5ECF6",
              "width": 0.5
             },
             "pattern": {
              "fillmode": "overlay",
              "size": 10,
              "solidity": 0.2
             }
            },
            "type": "bar"
           }
          ],
          "scattergeo": [
           {
            "type": "scattergeo",
            "marker": {
             "colorbar": {
              "outlinewidth": 0,
              "ticks": ""
             }
            }
           }
          ],
          "scatterpolar": [
           {
            "type": "scatterpolar",
            "marker": {
             "colorbar": {
              "outlinewidth": 0,
              "ticks": ""
             }
            }
           }
          ],
          "histogram": [
           {
            "marker": {
             "pattern": {
              "fillmode": "overlay",
              "size": 10,
              "solidity": 0.2
             }
            },
            "type": "histogram"
           }
          ],
          "scattergl": [
           {
            "type": "scattergl",
            "marker": {
             "colorbar": {
              "outlinewidth": 0,
              "ticks": ""
             }
            }
           }
          ],
          "scatter3d": [
           {
            "type": "scatter3d",
            "line": {
             "colorbar": {
              "outlinewidth": 0,
              "ticks": ""
             }
            },
            "marker": {
             "colorbar": {
              "outlinewidth": 0,
              "ticks": ""
             }
            }
           }
          ],
          "scattermapbox": [
           {
            "type": "scattermapbox",
            "marker": {
             "colorbar": {
              "outlinewidth": 0,
              "ticks": ""
             }
            }
           }
          ],
          "scatterternary": [
           {
            "type": "scatterternary",
            "marker": {
             "colorbar": {
              "outlinewidth": 0,
              "ticks": ""
             }
            }
           }
          ],
          "scattercarpet": [
           {
            "type": "scattercarpet",
            "marker": {
             "colorbar": {
              "outlinewidth": 0,
              "ticks": ""
             }
            }
           }
          ],
          "carpet": [
           {
            "aaxis": {
             "endlinecolor": "#2a3f5f",
             "gridcolor": "white",
             "linecolor": "white",
             "minorgridcolor": "white",
             "startlinecolor": "#2a3f5f"
            },
            "baxis": {
             "endlinecolor": "#2a3f5f",
             "gridcolor": "white",
             "linecolor": "white",
             "minorgridcolor": "white",
             "startlinecolor": "#2a3f5f"
            },
            "type": "carpet"
           }
          ],
          "table": [
           {
            "cells": {
             "fill": {
              "color": "#EBF0F8"
             },
             "line": {
              "color": "white"
             }
            },
            "header": {
             "fill": {
              "color": "#C8D4E3"
             },
             "line": {
              "color": "white"
             }
            },
            "type": "table"
           }
          ],
          "barpolar": [
           {
            "marker": {
             "line": {
              "color": "#E5ECF6",
              "width": 0.5
             },
             "pattern": {
              "fillmode": "overlay",
              "size": 10,
              "solidity": 0.2
             }
            },
            "type": "barpolar"
           }
          ],
          "pie": [
           {
            "automargin": true,
            "type": "pie"
           }
          ]
         },
         "layout": {
          "autotypenumbers": "strict",
          "colorway": [
           "#636efa",
           "#EF553B",
           "#00cc96",
           "#ab63fa",
           "#FFA15A",
           "#19d3f3",
           "#FF6692",
           "#B6E880",
           "#FF97FF",
           "#FECB52"
          ],
          "font": {
           "color": "#2a3f5f"
          },
          "hovermode": "closest",
          "hoverlabel": {
           "align": "left"
          },
          "paper_bgcolor": "white",
          "plot_bgcolor": "#E5ECF6",
          "polar": {
           "bgcolor": "#E5ECF6",
           "angularaxis": {
            "gridcolor": "white",
            "linecolor": "white",
            "ticks": ""
           },
           "radialaxis": {
            "gridcolor": "white",
            "linecolor": "white",
            "ticks": ""
           }
          },
          "ternary": {
           "bgcolor": "#E5ECF6",
           "aaxis": {
            "gridcolor": "white",
            "linecolor": "white",
            "ticks": ""
           },
           "baxis": {
            "gridcolor": "white",
            "linecolor": "white",
            "ticks": ""
           },
           "caxis": {
            "gridcolor": "white",
            "linecolor": "white",
            "ticks": ""
           }
          },
          "coloraxis": {
           "colorbar": {
            "outlinewidth": 0,
            "ticks": ""
           }
          },
          "colorscale": {
           "sequential": [
            [
             0.0,
             "#0d0887"
            ],
            [
             0.1111111111111111,
             "#46039f"
            ],
            [
             0.2222222222222222,
             "#7201a8"
            ],
            [
             0.3333333333333333,
             "#9c179e"
            ],
            [
             0.4444444444444444,
             "#bd3786"
            ],
            [
             0.5555555555555556,
             "#d8576b"
            ],
            [
             0.6666666666666666,
             "#ed7953"
            ],
            [
             0.7777777777777778,
             "#fb9f3a"
            ],
            [
             0.8888888888888888,
             "#fdca26"
            ],
            [
             1.0,
             "#f0f921"
            ]
           ],
           "sequentialminus": [
            [
             0.0,
             "#0d0887"
            ],
            [
             0.1111111111111111,
             "#46039f"
            ],
            [
             0.2222222222222222,
             "#7201a8"
            ],
            [
             0.3333333333333333,
             "#9c179e"
            ],
            [
             0.4444444444444444,
             "#bd3786"
            ],
            [
             0.5555555555555556,
             "#d8576b"
            ],
            [
             0.6666666666666666,
             "#ed7953"
            ],
            [
             0.7777777777777778,
             "#fb9f3a"
            ],
            [
             0.8888888888888888,
             "#fdca26"
            ],
            [
             1.0,
             "#f0f921"
            ]
           ],
           "diverging": [
            [
             0,
             "#8e0152"
            ],
            [
             0.1,
             "#c51b7d"
            ],
            [
             0.2,
             "#de77ae"
            ],
            [
             0.3,
             "#f1b6da"
            ],
            [
             0.4,
             "#fde0ef"
            ],
            [
             0.5,
             "#f7f7f7"
            ],
            [
             0.6,
             "#e6f5d0"
            ],
            [
             0.7,
             "#b8e186"
            ],
            [
             0.8,
             "#7fbc41"
            ],
            [
             0.9,
             "#4d9221"
            ],
            [
             1,
             "#276419"
            ]
           ]
          },
          "xaxis": {
           "gridcolor": "white",
           "linecolor": "white",
           "ticks": "",
           "title": {
            "standoff": 15
           },
           "zerolinecolor": "white",
           "automargin": true,
           "zerolinewidth": 2
          },
          "yaxis": {
           "gridcolor": "white",
           "linecolor": "white",
           "ticks": "",
           "title": {
            "standoff": 15
           },
           "zerolinecolor": "white",
           "automargin": true,
           "zerolinewidth": 2
          },
          "scene": {
           "xaxis": {
            "backgroundcolor": "#E5ECF6",
            "gridcolor": "white",
            "linecolor": "white",
            "showbackground": true,
            "ticks": "",
            "zerolinecolor": "white",
            "gridwidth": 2
           },
           "yaxis": {
            "backgroundcolor": "#E5ECF6",
            "gridcolor": "white",
            "linecolor": "white",
            "showbackground": true,
            "ticks": "",
            "zerolinecolor": "white",
            "gridwidth": 2
           },
           "zaxis": {
            "backgroundcolor": "#E5ECF6",
            "gridcolor": "white",
            "linecolor": "white",
            "showbackground": true,
            "ticks": "",
            "zerolinecolor": "white",
            "gridwidth": 2
           }
          },
          "shapedefaults": {
           "line": {
            "color": "#2a3f5f"
           }
          },
          "annotationdefaults": {
           "arrowcolor": "#2a3f5f",
           "arrowhead": 0,
           "arrowwidth": 1
          },
          "geo": {
           "bgcolor": "white",
           "landcolor": "#E5ECF6",
           "subunitcolor": "white",
           "showland": true,
           "showlakes": true,
           "lakecolor": "white"
          },
          "title": {
           "x": 0.05
          },
          "mapbox": {
           "style": "light"
          }
         }
        },
        "xaxis": {
         "anchor": "y",
         "domain": [
          0.0,
          1.0
         ],
         "title": {
          "text": "Days passed"
         }
        },
        "yaxis": {
         "anchor": "x",
         "domain": [
          0.0,
          1.0
         ],
         "title": {
          "text": "Price"
         }
        },
        "legend": {
         "title": {
          "text": "variable"
         },
         "tracegroupgap": 0
        },
        "title": {
         "text": "Changes in price in relation to days passed since 01.01.2021",
         "x": 0.5
        },
        "shapes": [
         {
          "type": "line",
          "x0": 55,
          "x1": 55,
          "xref": "x",
          "y0": 0,
          "y1": 1,
          "yref": "y domain"
         }
        ]
       },
       "config": {
        "plotlyServerURL": "https://plot.ly"
       }
      },
      "text/html": "<div>                            <div id=\"ddd782e5-9a4a-48cc-a411-1ed6b58ee3c1\" class=\"plotly-graph-div\" style=\"height:525px; width:100%;\"></div>            <script type=\"text/javascript\">                require([\"plotly\"], function(Plotly) {                    window.PLOTLYENV=window.PLOTLYENV || {};                                    if (document.getElementById(\"ddd782e5-9a4a-48cc-a411-1ed6b58ee3c1\")) {                    Plotly.newPlot(                        \"ddd782e5-9a4a-48cc-a411-1ed6b58ee3c1\",                        [{\"hovertemplate\":\"variable=0<br>index=%{x}<br>value=%{y}<extra></extra>\",\"legendgroup\":\"0\",\"marker\":{\"color\":\"#636efa\",\"symbol\":\"circle\"},\"mode\":\"markers\",\"name\":\"0\",\"orientation\":\"v\",\"showlegend\":true,\"x\":[0,1,2,3,4,5,6,7,8,9,10,11,12,13,14,15,16,17,18,19,20,21,22,23,24,25,26,27,28,29,30,31,32,33,34,35,36,37,38,39,40,41,42,43,44,45,46,47,48,49,50,51,52,53,54,55,56,57,58,59,60,61,62,63,64,65,66,67,68,69,70,71,72,73,74,75,76,77,78,79,80,81,82,83,84,85,86,87,88],\"xaxis\":\"x\",\"y\":[2320.1435546875,2372.77294921875,2374.39501953125,2396.6455078125,2336.2451171875,2322.624755859375,2335.635009765625,2326.240966796875,2315.7275390625,2281.46728515625,2267.37939453125,2321.861083984375,2245.397216796875,2302.15283203125,2289.894775390625,2296.701416015625,2304.211181640625,2341.745849609375,2316.513427734375,2254.40673828125,2251.905029296875,2365.256103515625,2275.692626953125,2337.224365234375,2235.9375,2181.32080078125,2113.546142578125,2170.422119140625,2184.623291015625,2123.709228515625,2045.90625,2228.029052734375,2187.382568359375,2207.893310546875,2229.595703125,2157.66259765625,2104.40234375,2296.471435546875,2107.72802734375,2079.77197265625,2156.603759765625,2158.24365234375,2127.04248046875,2265.954345703125,2292.844482421875,2235.204833984375,2202.11181640625,2131.236083984375,2136.953369140625,2165.58935546875,2052.39892578125,2239.68994140625,2216.6630859375,2104.739990234375,2205.45849609375,2165.960693359375,2124.807861328125,2126.22412109375,2203.868896484375,2207.9140625,1994.0814208984375,2192.709228515625,2110.54541015625,2261.076904296875,2181.541259765625,2141.303955078125,2185.765380859375,2241.936767578125,2309.467529296875,2211.744384765625,2113.628173828125,2267.25048828125,2336.34765625,2252.71875,2214.138671875,2132.19873046875,2157.0224609375,2249.267333984375,2132.198974609375,2162.98681640625,1901.8448486328125,2048.42626953125,2149.76806640625,2290.796142578125,2230.888916015625,2109.628173828125,2159.84033203125,2140.046142578125,2192.03173828125],\"yaxis\":\"y\",\"type\":\"scatter\"},{\"hovertemplate\":\"<b>LOWESS trendline</b><br><br>variable=0<br>index=%{x}<br>value=%{y} <b>(trend)</b><extra></extra>\",\"legendgroup\":\"0\",\"marker\":{\"color\":\"#636efa\",\"symbol\":\"circle\"},\"mode\":\"lines\",\"name\":\"0\",\"showlegend\":false,\"x\":[0,1,2,3,4,5,6,7,8,9,10,11,12,13,14,15,16,17,18,19,20,21,22,23,24,25,26,27,28,29,30,31,32,33,34,35,36,37,38,39,40,41,42,43,44,45,46,47,48,49,50,51,52,53,54,55,56,57,58,59,60,61,62,63,64,65,66,67,68,69,70,71,72,73,74,75,76,77,78,79,80,81,82,83,84,85,86,87,88],\"xaxis\":\"x\",\"y\":[2360.6314781467663,2355.553857538201,2350.481593634757,2345.4157882408012,2340.3571704809515,2335.3059512196573,2330.2623395499377,2325.2267323450064,2320.1995637951295,2315.1813155525033,2310.17265149631,2305.17473871788,2300.189296935537,2295.2182622674945,2290.2641821996294,2285.3299196350404,2280.4185912013963,2275.5334647444142,2270.6777068912347,2265.8539175902233,2261.0641166866476,2256.3102403177422,2251.59396517583,2246.915510315225,2242.2732834612975,2237.6630424663485,2233.0790582329473,2228.517217940803,2223.9803520305477,2219.4822938027874,2215.852266354493,2212.309432227787,2208.8494208071966,2205.462634726673,2202.1518252924993,2198.9228246286684,2195.793767722094,2192.791002604172,2189.943762541927,2187.2864505955295,2184.8605972829255,2182.709375145017,2180.872244453036,2179.3663878461016,2178.2036632124177,2177.3867299882395,2176.9072637689055,2176.741827273927,2176.8497413366717,2177.1837700086544,2177.694142667875,2178.319252474411,2179.0005917599037,2179.689127468522,2180.3469673695445,2180.954841346302,2181.514761688054,2182.0328095763766,2182.5077099055407,2182.9363297501873,2183.092525715124,2183.0812122903194,2182.9840983923154,2182.857495444598,2182.7312977038846,2182.6181614658435,2182.5228028335896,2182.4468927907087,2182.3902052347476,2182.350802662388,2182.325563232068,2182.3112727283037,2182.305391126671,2182.304854467256,2182.305986774442,2182.3046896565606,2182.296991407933,2182.279814431723,2182.250611778568,2182.206685042151,2182.1460003086395,2182.067058063835,2181.968768105899,2181.8510217471094,2181.7141199755606,2181.557527376341,2181.3802216844747,2181.1819701882855,2180.963186370923],\"yaxis\":\"y\",\"type\":\"scatter\"}],                        {\"template\":{\"data\":{\"histogram2dcontour\":[{\"type\":\"histogram2dcontour\",\"colorbar\":{\"outlinewidth\":0,\"ticks\":\"\"},\"colorscale\":[[0.0,\"#0d0887\"],[0.1111111111111111,\"#46039f\"],[0.2222222222222222,\"#7201a8\"],[0.3333333333333333,\"#9c179e\"],[0.4444444444444444,\"#bd3786\"],[0.5555555555555556,\"#d8576b\"],[0.6666666666666666,\"#ed7953\"],[0.7777777777777778,\"#fb9f3a\"],[0.8888888888888888,\"#fdca26\"],[1.0,\"#f0f921\"]]}],\"choropleth\":[{\"type\":\"choropleth\",\"colorbar\":{\"outlinewidth\":0,\"ticks\":\"\"}}],\"histogram2d\":[{\"type\":\"histogram2d\",\"colorbar\":{\"outlinewidth\":0,\"ticks\":\"\"},\"colorscale\":[[0.0,\"#0d0887\"],[0.1111111111111111,\"#46039f\"],[0.2222222222222222,\"#7201a8\"],[0.3333333333333333,\"#9c179e\"],[0.4444444444444444,\"#bd3786\"],[0.5555555555555556,\"#d8576b\"],[0.6666666666666666,\"#ed7953\"],[0.7777777777777778,\"#fb9f3a\"],[0.8888888888888888,\"#fdca26\"],[1.0,\"#f0f921\"]]}],\"heatmap\":[{\"type\":\"heatmap\",\"colorbar\":{\"outlinewidth\":0,\"ticks\":\"\"},\"colorscale\":[[0.0,\"#0d0887\"],[0.1111111111111111,\"#46039f\"],[0.2222222222222222,\"#7201a8\"],[0.3333333333333333,\"#9c179e\"],[0.4444444444444444,\"#bd3786\"],[0.5555555555555556,\"#d8576b\"],[0.6666666666666666,\"#ed7953\"],[0.7777777777777778,\"#fb9f3a\"],[0.8888888888888888,\"#fdca26\"],[1.0,\"#f0f921\"]]}],\"heatmapgl\":[{\"type\":\"heatmapgl\",\"colorbar\":{\"outlinewidth\":0,\"ticks\":\"\"},\"colorscale\":[[0.0,\"#0d0887\"],[0.1111111111111111,\"#46039f\"],[0.2222222222222222,\"#7201a8\"],[0.3333333333333333,\"#9c179e\"],[0.4444444444444444,\"#bd3786\"],[0.5555555555555556,\"#d8576b\"],[0.6666666666666666,\"#ed7953\"],[0.7777777777777778,\"#fb9f3a\"],[0.8888888888888888,\"#fdca26\"],[1.0,\"#f0f921\"]]}],\"contourcarpet\":[{\"type\":\"contourcarpet\",\"colorbar\":{\"outlinewidth\":0,\"ticks\":\"\"}}],\"contour\":[{\"type\":\"contour\",\"colorbar\":{\"outlinewidth\":0,\"ticks\":\"\"},\"colorscale\":[[0.0,\"#0d0887\"],[0.1111111111111111,\"#46039f\"],[0.2222222222222222,\"#7201a8\"],[0.3333333333333333,\"#9c179e\"],[0.4444444444444444,\"#bd3786\"],[0.5555555555555556,\"#d8576b\"],[0.6666666666666666,\"#ed7953\"],[0.7777777777777778,\"#fb9f3a\"],[0.8888888888888888,\"#fdca26\"],[1.0,\"#f0f921\"]]}],\"surface\":[{\"type\":\"surface\",\"colorbar\":{\"outlinewidth\":0,\"ticks\":\"\"},\"colorscale\":[[0.0,\"#0d0887\"],[0.1111111111111111,\"#46039f\"],[0.2222222222222222,\"#7201a8\"],[0.3333333333333333,\"#9c179e\"],[0.4444444444444444,\"#bd3786\"],[0.5555555555555556,\"#d8576b\"],[0.6666666666666666,\"#ed7953\"],[0.7777777777777778,\"#fb9f3a\"],[0.8888888888888888,\"#fdca26\"],[1.0,\"#f0f921\"]]}],\"mesh3d\":[{\"type\":\"mesh3d\",\"colorbar\":{\"outlinewidth\":0,\"ticks\":\"\"}}],\"scatter\":[{\"fillpattern\":{\"fillmode\":\"overlay\",\"size\":10,\"solidity\":0.2},\"type\":\"scatter\"}],\"parcoords\":[{\"type\":\"parcoords\",\"line\":{\"colorbar\":{\"outlinewidth\":0,\"ticks\":\"\"}}}],\"scatterpolargl\":[{\"type\":\"scatterpolargl\",\"marker\":{\"colorbar\":{\"outlinewidth\":0,\"ticks\":\"\"}}}],\"bar\":[{\"error_x\":{\"color\":\"#2a3f5f\"},\"error_y\":{\"color\":\"#2a3f5f\"},\"marker\":{\"line\":{\"color\":\"#E5ECF6\",\"width\":0.5},\"pattern\":{\"fillmode\":\"overlay\",\"size\":10,\"solidity\":0.2}},\"type\":\"bar\"}],\"scattergeo\":[{\"type\":\"scattergeo\",\"marker\":{\"colorbar\":{\"outlinewidth\":0,\"ticks\":\"\"}}}],\"scatterpolar\":[{\"type\":\"scatterpolar\",\"marker\":{\"colorbar\":{\"outlinewidth\":0,\"ticks\":\"\"}}}],\"histogram\":[{\"marker\":{\"pattern\":{\"fillmode\":\"overlay\",\"size\":10,\"solidity\":0.2}},\"type\":\"histogram\"}],\"scattergl\":[{\"type\":\"scattergl\",\"marker\":{\"colorbar\":{\"outlinewidth\":0,\"ticks\":\"\"}}}],\"scatter3d\":[{\"type\":\"scatter3d\",\"line\":{\"colorbar\":{\"outlinewidth\":0,\"ticks\":\"\"}},\"marker\":{\"colorbar\":{\"outlinewidth\":0,\"ticks\":\"\"}}}],\"scattermapbox\":[{\"type\":\"scattermapbox\",\"marker\":{\"colorbar\":{\"outlinewidth\":0,\"ticks\":\"\"}}}],\"scatterternary\":[{\"type\":\"scatterternary\",\"marker\":{\"colorbar\":{\"outlinewidth\":0,\"ticks\":\"\"}}}],\"scattercarpet\":[{\"type\":\"scattercarpet\",\"marker\":{\"colorbar\":{\"outlinewidth\":0,\"ticks\":\"\"}}}],\"carpet\":[{\"aaxis\":{\"endlinecolor\":\"#2a3f5f\",\"gridcolor\":\"white\",\"linecolor\":\"white\",\"minorgridcolor\":\"white\",\"startlinecolor\":\"#2a3f5f\"},\"baxis\":{\"endlinecolor\":\"#2a3f5f\",\"gridcolor\":\"white\",\"linecolor\":\"white\",\"minorgridcolor\":\"white\",\"startlinecolor\":\"#2a3f5f\"},\"type\":\"carpet\"}],\"table\":[{\"cells\":{\"fill\":{\"color\":\"#EBF0F8\"},\"line\":{\"color\":\"white\"}},\"header\":{\"fill\":{\"color\":\"#C8D4E3\"},\"line\":{\"color\":\"white\"}},\"type\":\"table\"}],\"barpolar\":[{\"marker\":{\"line\":{\"color\":\"#E5ECF6\",\"width\":0.5},\"pattern\":{\"fillmode\":\"overlay\",\"size\":10,\"solidity\":0.2}},\"type\":\"barpolar\"}],\"pie\":[{\"automargin\":true,\"type\":\"pie\"}]},\"layout\":{\"autotypenumbers\":\"strict\",\"colorway\":[\"#636efa\",\"#EF553B\",\"#00cc96\",\"#ab63fa\",\"#FFA15A\",\"#19d3f3\",\"#FF6692\",\"#B6E880\",\"#FF97FF\",\"#FECB52\"],\"font\":{\"color\":\"#2a3f5f\"},\"hovermode\":\"closest\",\"hoverlabel\":{\"align\":\"left\"},\"paper_bgcolor\":\"white\",\"plot_bgcolor\":\"#E5ECF6\",\"polar\":{\"bgcolor\":\"#E5ECF6\",\"angularaxis\":{\"gridcolor\":\"white\",\"linecolor\":\"white\",\"ticks\":\"\"},\"radialaxis\":{\"gridcolor\":\"white\",\"linecolor\":\"white\",\"ticks\":\"\"}},\"ternary\":{\"bgcolor\":\"#E5ECF6\",\"aaxis\":{\"gridcolor\":\"white\",\"linecolor\":\"white\",\"ticks\":\"\"},\"baxis\":{\"gridcolor\":\"white\",\"linecolor\":\"white\",\"ticks\":\"\"},\"caxis\":{\"gridcolor\":\"white\",\"linecolor\":\"white\",\"ticks\":\"\"}},\"coloraxis\":{\"colorbar\":{\"outlinewidth\":0,\"ticks\":\"\"}},\"colorscale\":{\"sequential\":[[0.0,\"#0d0887\"],[0.1111111111111111,\"#46039f\"],[0.2222222222222222,\"#7201a8\"],[0.3333333333333333,\"#9c179e\"],[0.4444444444444444,\"#bd3786\"],[0.5555555555555556,\"#d8576b\"],[0.6666666666666666,\"#ed7953\"],[0.7777777777777778,\"#fb9f3a\"],[0.8888888888888888,\"#fdca26\"],[1.0,\"#f0f921\"]],\"sequentialminus\":[[0.0,\"#0d0887\"],[0.1111111111111111,\"#46039f\"],[0.2222222222222222,\"#7201a8\"],[0.3333333333333333,\"#9c179e\"],[0.4444444444444444,\"#bd3786\"],[0.5555555555555556,\"#d8576b\"],[0.6666666666666666,\"#ed7953\"],[0.7777777777777778,\"#fb9f3a\"],[0.8888888888888888,\"#fdca26\"],[1.0,\"#f0f921\"]],\"diverging\":[[0,\"#8e0152\"],[0.1,\"#c51b7d\"],[0.2,\"#de77ae\"],[0.3,\"#f1b6da\"],[0.4,\"#fde0ef\"],[0.5,\"#f7f7f7\"],[0.6,\"#e6f5d0\"],[0.7,\"#b8e186\"],[0.8,\"#7fbc41\"],[0.9,\"#4d9221\"],[1,\"#276419\"]]},\"xaxis\":{\"gridcolor\":\"white\",\"linecolor\":\"white\",\"ticks\":\"\",\"title\":{\"standoff\":15},\"zerolinecolor\":\"white\",\"automargin\":true,\"zerolinewidth\":2},\"yaxis\":{\"gridcolor\":\"white\",\"linecolor\":\"white\",\"ticks\":\"\",\"title\":{\"standoff\":15},\"zerolinecolor\":\"white\",\"automargin\":true,\"zerolinewidth\":2},\"scene\":{\"xaxis\":{\"backgroundcolor\":\"#E5ECF6\",\"gridcolor\":\"white\",\"linecolor\":\"white\",\"showbackground\":true,\"ticks\":\"\",\"zerolinecolor\":\"white\",\"gridwidth\":2},\"yaxis\":{\"backgroundcolor\":\"#E5ECF6\",\"gridcolor\":\"white\",\"linecolor\":\"white\",\"showbackground\":true,\"ticks\":\"\",\"zerolinecolor\":\"white\",\"gridwidth\":2},\"zaxis\":{\"backgroundcolor\":\"#E5ECF6\",\"gridcolor\":\"white\",\"linecolor\":\"white\",\"showbackground\":true,\"ticks\":\"\",\"zerolinecolor\":\"white\",\"gridwidth\":2}},\"shapedefaults\":{\"line\":{\"color\":\"#2a3f5f\"}},\"annotationdefaults\":{\"arrowcolor\":\"#2a3f5f\",\"arrowhead\":0,\"arrowwidth\":1},\"geo\":{\"bgcolor\":\"white\",\"landcolor\":\"#E5ECF6\",\"subunitcolor\":\"white\",\"showland\":true,\"showlakes\":true,\"lakecolor\":\"white\"},\"title\":{\"x\":0.05},\"mapbox\":{\"style\":\"light\"}}},\"xaxis\":{\"anchor\":\"y\",\"domain\":[0.0,1.0],\"title\":{\"text\":\"Days passed\"}},\"yaxis\":{\"anchor\":\"x\",\"domain\":[0.0,1.0],\"title\":{\"text\":\"Price\"}},\"legend\":{\"title\":{\"text\":\"variable\"},\"tracegroupgap\":0},\"title\":{\"text\":\"Changes in price in relation to days passed since 01.01.2021\",\"x\":0.5},\"shapes\":[{\"type\":\"line\",\"x0\":55,\"x1\":55,\"xref\":\"x\",\"y0\":0,\"y1\":1,\"yref\":\"y domain\"}]},                        {\"responsive\": true}                    ).then(function(){\n                            \nvar gd = document.getElementById('ddd782e5-9a4a-48cc-a411-1ed6b58ee3c1');\nvar x = new MutationObserver(function (mutations, observer) {{\n        var display = window.getComputedStyle(gd).display;\n        if (!display || display === 'none') {{\n            console.log([gd, 'removed!']);\n            Plotly.purge(gd);\n            observer.disconnect();\n        }}\n}});\n\n// Listen for the removal of the full notebook cells\nvar notebookContainer = gd.closest('#notebook-container');\nif (notebookContainer) {{\n    x.observe(notebookContainer, {childList: true});\n}}\n\n// Listen for the clearing of the current output cell\nvar outputEl = gd.closest('.output');\nif (outputEl) {{\n    x.observe(outputEl, {childList: true});\n}}\n\n                        })                };                });            </script>        </div>"
     },
     "metadata": {},
     "output_type": "display_data"
    }
   ],
   "source": [
    "fig = px.scatter(prediction, trendline='lowess',\n",
    "                 title='Changes in price in relation to days passed since 01.01.2021 for phrase \"iphone 11 64\"').update_layout(\n",
    "    xaxis_title='Days passed', yaxis_title='Price', title_x=0.5)\n",
    "fig.add_vline(55) # legend for this"
   ],
   "metadata": {
    "collapsed": false
   }
  },
  {
   "cell_type": "code",
   "execution_count": 19,
   "outputs": [],
   "source": [
    "# saving scaler data\n",
    "# pickle.dump(scaler, open(PATH_FOR_MODEL + '/scaler.pkl','wb'))\n",
    "# scaler = pickle.load(open('../results/scaler_auto_model.pkl','rb'))"
   ],
   "metadata": {
    "collapsed": false
   }
  }
 ],
 "metadata": {
  "kernelspec": {
   "display_name": "Python 3",
   "language": "python",
   "name": "python3"
  },
  "language_info": {
   "codemirror_mode": {
    "name": "ipython",
    "version": 2
   },
   "file_extension": ".py",
   "mimetype": "text/x-python",
   "name": "python",
   "nbconvert_exporter": "python",
   "pygments_lexer": "ipython2",
   "version": "2.7.6"
  }
 },
 "nbformat": 4,
 "nbformat_minor": 0
}
