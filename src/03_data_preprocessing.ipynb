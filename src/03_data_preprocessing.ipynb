{
 "cells": [
  {
   "cell_type": "code",
   "execution_count": 2,
   "metadata": {
    "collapsed": true
   },
   "outputs": [],
   "source": [
    "import pandas as pd\n",
    "\n",
    "pd.options.mode.chained_assignment = None # this turns off insignificant warning when processing dataset\n",
    "# loading standardized data\n",
    "data = pd.read_csv('../data/recruitment_data_standardized.csv',\n",
    "                   encoding='utf-8',\n",
    "                   sep=',',\n",
    "                   on_bad_lines='skip',\n",
    "                   quotechar='\"',\n",
    "                   doublequote=True,\n",
    "                   names=['URL', 'Voivodeship', 'Scrap_time', 'Name', 'Price', 'Brand', 'Condition', 'Offer_from', 'Type', 'Description', 'Added_at', 'Views', 'User_since'],\n",
    "                   skiprows=1)"
   ]
  },
  {
   "cell_type": "code",
   "execution_count": 3,
   "outputs": [
    {
     "data": {
      "text/plain": "                                                    URL   Voivodeship  \\\n0     https://www.olx.pl/oferta/iphone-11-64-jak-now...     pomorskie   \n1     https://www.olx.pl/oferta/skup-uszkodzonych-te...     pomorskie   \n2     https://www.olx.pl/oferta/iphone-11-64-gb-czar...     pomorskie   \n3     https://www.olx.pl/oferta/iphone-11-CID99-IDIk...     pomorskie   \n4     https://www.olx.pl/oferta/jak-nowy-apple-iphon...     pomorskie   \n...                                                 ...           ...   \n4979  https://www.olx.pl/oferta/iphone-11-red-64-gb-...  podkarpackie   \n4980  https://www.olx.pl/oferta/iphone-11-white-64gb...  podkarpackie   \n4981  https://www.olx.pl/oferta/etui-iphone-11-CID99...     podlaskie   \n4982  https://www.olx.pl/oferta/iphone-11-purple-fio...     podlaskie   \n4983  https://www.olx.pl/oferta/apple-iphone-11-bez-...     podlaskie   \n\n               Scrap_time                                               Name  \\\n0     2021-02-22 06:55:30    Iphone 11 64 jak nowy 95% gwarancja wyświetlacz   \n1     2021-02-22 06:55:34  Skup uszkodzonych telefonów iPhone xs xs max 1...   \n2     2021-02-22 06:55:40  IPhone 11 64 GB czarny, idealny z gwarancją. W...   \n3     2021-02-22 06:55:44                                          Iphone 11   \n4     2021-02-22 06:55:52   Jak Nowy Apple Iphone 11 256gbGB White Gwarancja   \n...                   ...                                                ...   \n4979  2021-02-22 05:54:53                               IPhone 11 Red, 64 GB   \n4980  2021-02-22 05:55:26                               Iphone 11 white 64gb   \n4981  2021-02-22 06:28:04                                     Etui iPhone 11   \n4982  2021-02-22 06:28:11              IPhone 11 purple fioletowy nowy 64 GB   \n4983  2021-02-22 06:28:15  Apple iPhone 11 bez simlocka cały komplet pols...   \n\n       Price   Brand Condition       Offer_from     Type  \\\n0     2799.0  iPhone   Używane  Osoby prywatnej  Sprawny   \n1        NaN     NaN       NaN            Firmy      NaN   \n2     2700.0  iPhone   Używane  Osoby prywatnej  Sprawny   \n3     3000.0  iPhone      Nowe  Osoby prywatnej  Sprawny   \n4     2899.0  iPhone   Używane            Firmy  Sprawny   \n...      ...     ...       ...              ...      ...   \n4979  2990.0  iPhone      Nowe  Osoby prywatnej  Sprawny   \n4980  1650.0  iPhone   Używane  Osoby prywatnej  Sprawny   \n4981   100.0     NaN   Używane  Osoby prywatnej      NaN   \n4982  2680.0  iPhone      Nowe  Osoby prywatnej  Sprawny   \n4983  1700.0  iPhone   Używane  Osoby prywatnej  Sprawny   \n\n                                            Description             Added_at  \\\n0     Jak nowy . Kondycja baterii 95%. Kupiony w med...  2021-02-22 00:09:00   \n1     Witam.  Kupię uszkodzone/ zablokowane/ zalane/...  2021-02-22 00:05:00   \n2     Witam! Mam na sprzedaż iPhone’a 11 w wersji 64...  2021-02-21 19:00:00   \n3     Nowy 128GB   Oryginalnie zapakowany kolor czar...  2021-02-21 18:24:00   \n4     Witaj.     Jesteśmy sklepem - serwisem z 12 le...  2021-02-21 17:38:00   \n...                                                 ...                  ...   \n4979  Witam mam na sprzedaż nowego IPhona 11 64 GB, ...  2021-02-21 12:16:00   \n4980  Na sprzedaż posiadam iphone 11 white o pojemno...  2021-02-20 13:42:00   \n4981  Witam, mam na sprzedaż dwa oryginalne etui od ...  2021-02-22 04:51:00   \n4982  Dzień Dobry. Posiadam na sprzedaż iphone 11 pu...  2021-02-21 19:21:00   \n4983  Sprzedam Appld iPhone 11 z polskiej dystrybucj...  2021-02-21 09:35:00   \n\n      Views               User_since  \n0        37  2013-05-01 00:00:00;;;;  \n1      5242  2020-04-01 00:00:00;;;;  \n2       186  2014-12-01 00:00:00;;;;  \n3       250  2016-06-01 00:00:00;;;;  \n4       845  2012-08-01 00:00:00;;;;  \n...     ...                      ...  \n4979    177  2018-06-01 00:00:00;;;;  \n4980    980  2021-02-01 00:00:00;;;;  \n4981     78  2016-06-01 00:00:00;;;;  \n4982     72  2017-02-01 00:00:00;;;;  \n4983   2622  2020-11-01 00:00:00;;;;  \n\n[4984 rows x 13 columns]",
      "text/html": "<div>\n<style scoped>\n    .dataframe tbody tr th:only-of-type {\n        vertical-align: middle;\n    }\n\n    .dataframe tbody tr th {\n        vertical-align: top;\n    }\n\n    .dataframe thead th {\n        text-align: right;\n    }\n</style>\n<table border=\"1\" class=\"dataframe\">\n  <thead>\n    <tr style=\"text-align: right;\">\n      <th></th>\n      <th>URL</th>\n      <th>Voivodeship</th>\n      <th>Scrap_time</th>\n      <th>Name</th>\n      <th>Price</th>\n      <th>Brand</th>\n      <th>Condition</th>\n      <th>Offer_from</th>\n      <th>Type</th>\n      <th>Description</th>\n      <th>Added_at</th>\n      <th>Views</th>\n      <th>User_since</th>\n    </tr>\n  </thead>\n  <tbody>\n    <tr>\n      <th>0</th>\n      <td>https://www.olx.pl/oferta/iphone-11-64-jak-now...</td>\n      <td>pomorskie</td>\n      <td>2021-02-22 06:55:30</td>\n      <td>Iphone 11 64 jak nowy 95% gwarancja wyświetlacz</td>\n      <td>2799.0</td>\n      <td>iPhone</td>\n      <td>Używane</td>\n      <td>Osoby prywatnej</td>\n      <td>Sprawny</td>\n      <td>Jak nowy . Kondycja baterii 95%. Kupiony w med...</td>\n      <td>2021-02-22 00:09:00</td>\n      <td>37</td>\n      <td>2013-05-01 00:00:00;;;;</td>\n    </tr>\n    <tr>\n      <th>1</th>\n      <td>https://www.olx.pl/oferta/skup-uszkodzonych-te...</td>\n      <td>pomorskie</td>\n      <td>2021-02-22 06:55:34</td>\n      <td>Skup uszkodzonych telefonów iPhone xs xs max 1...</td>\n      <td>NaN</td>\n      <td>NaN</td>\n      <td>NaN</td>\n      <td>Firmy</td>\n      <td>NaN</td>\n      <td>Witam.  Kupię uszkodzone/ zablokowane/ zalane/...</td>\n      <td>2021-02-22 00:05:00</td>\n      <td>5242</td>\n      <td>2020-04-01 00:00:00;;;;</td>\n    </tr>\n    <tr>\n      <th>2</th>\n      <td>https://www.olx.pl/oferta/iphone-11-64-gb-czar...</td>\n      <td>pomorskie</td>\n      <td>2021-02-22 06:55:40</td>\n      <td>IPhone 11 64 GB czarny, idealny z gwarancją. W...</td>\n      <td>2700.0</td>\n      <td>iPhone</td>\n      <td>Używane</td>\n      <td>Osoby prywatnej</td>\n      <td>Sprawny</td>\n      <td>Witam! Mam na sprzedaż iPhone’a 11 w wersji 64...</td>\n      <td>2021-02-21 19:00:00</td>\n      <td>186</td>\n      <td>2014-12-01 00:00:00;;;;</td>\n    </tr>\n    <tr>\n      <th>3</th>\n      <td>https://www.olx.pl/oferta/iphone-11-CID99-IDIk...</td>\n      <td>pomorskie</td>\n      <td>2021-02-22 06:55:44</td>\n      <td>Iphone 11</td>\n      <td>3000.0</td>\n      <td>iPhone</td>\n      <td>Nowe</td>\n      <td>Osoby prywatnej</td>\n      <td>Sprawny</td>\n      <td>Nowy 128GB   Oryginalnie zapakowany kolor czar...</td>\n      <td>2021-02-21 18:24:00</td>\n      <td>250</td>\n      <td>2016-06-01 00:00:00;;;;</td>\n    </tr>\n    <tr>\n      <th>4</th>\n      <td>https://www.olx.pl/oferta/jak-nowy-apple-iphon...</td>\n      <td>pomorskie</td>\n      <td>2021-02-22 06:55:52</td>\n      <td>Jak Nowy Apple Iphone 11 256gbGB White Gwarancja</td>\n      <td>2899.0</td>\n      <td>iPhone</td>\n      <td>Używane</td>\n      <td>Firmy</td>\n      <td>Sprawny</td>\n      <td>Witaj.     Jesteśmy sklepem - serwisem z 12 le...</td>\n      <td>2021-02-21 17:38:00</td>\n      <td>845</td>\n      <td>2012-08-01 00:00:00;;;;</td>\n    </tr>\n    <tr>\n      <th>...</th>\n      <td>...</td>\n      <td>...</td>\n      <td>...</td>\n      <td>...</td>\n      <td>...</td>\n      <td>...</td>\n      <td>...</td>\n      <td>...</td>\n      <td>...</td>\n      <td>...</td>\n      <td>...</td>\n      <td>...</td>\n      <td>...</td>\n    </tr>\n    <tr>\n      <th>4979</th>\n      <td>https://www.olx.pl/oferta/iphone-11-red-64-gb-...</td>\n      <td>podkarpackie</td>\n      <td>2021-02-22 05:54:53</td>\n      <td>IPhone 11 Red, 64 GB</td>\n      <td>2990.0</td>\n      <td>iPhone</td>\n      <td>Nowe</td>\n      <td>Osoby prywatnej</td>\n      <td>Sprawny</td>\n      <td>Witam mam na sprzedaż nowego IPhona 11 64 GB, ...</td>\n      <td>2021-02-21 12:16:00</td>\n      <td>177</td>\n      <td>2018-06-01 00:00:00;;;;</td>\n    </tr>\n    <tr>\n      <th>4980</th>\n      <td>https://www.olx.pl/oferta/iphone-11-white-64gb...</td>\n      <td>podkarpackie</td>\n      <td>2021-02-22 05:55:26</td>\n      <td>Iphone 11 white 64gb</td>\n      <td>1650.0</td>\n      <td>iPhone</td>\n      <td>Używane</td>\n      <td>Osoby prywatnej</td>\n      <td>Sprawny</td>\n      <td>Na sprzedaż posiadam iphone 11 white o pojemno...</td>\n      <td>2021-02-20 13:42:00</td>\n      <td>980</td>\n      <td>2021-02-01 00:00:00;;;;</td>\n    </tr>\n    <tr>\n      <th>4981</th>\n      <td>https://www.olx.pl/oferta/etui-iphone-11-CID99...</td>\n      <td>podlaskie</td>\n      <td>2021-02-22 06:28:04</td>\n      <td>Etui iPhone 11</td>\n      <td>100.0</td>\n      <td>NaN</td>\n      <td>Używane</td>\n      <td>Osoby prywatnej</td>\n      <td>NaN</td>\n      <td>Witam, mam na sprzedaż dwa oryginalne etui od ...</td>\n      <td>2021-02-22 04:51:00</td>\n      <td>78</td>\n      <td>2016-06-01 00:00:00;;;;</td>\n    </tr>\n    <tr>\n      <th>4982</th>\n      <td>https://www.olx.pl/oferta/iphone-11-purple-fio...</td>\n      <td>podlaskie</td>\n      <td>2021-02-22 06:28:11</td>\n      <td>IPhone 11 purple fioletowy nowy 64 GB</td>\n      <td>2680.0</td>\n      <td>iPhone</td>\n      <td>Nowe</td>\n      <td>Osoby prywatnej</td>\n      <td>Sprawny</td>\n      <td>Dzień Dobry. Posiadam na sprzedaż iphone 11 pu...</td>\n      <td>2021-02-21 19:21:00</td>\n      <td>72</td>\n      <td>2017-02-01 00:00:00;;;;</td>\n    </tr>\n    <tr>\n      <th>4983</th>\n      <td>https://www.olx.pl/oferta/apple-iphone-11-bez-...</td>\n      <td>podlaskie</td>\n      <td>2021-02-22 06:28:15</td>\n      <td>Apple iPhone 11 bez simlocka cały komplet pols...</td>\n      <td>1700.0</td>\n      <td>iPhone</td>\n      <td>Używane</td>\n      <td>Osoby prywatnej</td>\n      <td>Sprawny</td>\n      <td>Sprzedam Appld iPhone 11 z polskiej dystrybucj...</td>\n      <td>2021-02-21 09:35:00</td>\n      <td>2622</td>\n      <td>2020-11-01 00:00:00;;;;</td>\n    </tr>\n  </tbody>\n</table>\n<p>4984 rows × 13 columns</p>\n</div>"
     },
     "execution_count": 3,
     "metadata": {},
     "output_type": "execute_result"
    }
   ],
   "source": [
    "data"
   ],
   "metadata": {
    "collapsed": false
   }
  },
  {
   "cell_type": "markdown",
   "source": [
    "It is clear that data is loaded correctly (every column contains proper information type)"
   ],
   "metadata": {
    "collapsed": false
   }
  },
  {
   "cell_type": "code",
   "execution_count": 4,
   "outputs": [
    {
     "data": {
      "text/plain": "URL              0\nVoivodeship      0\nScrap_time       0\nName             0\nPrice          336\nBrand          437\nCondition      130\nOffer_from       0\nType           432\nDescription      0\nAdded_at         0\nViews            0\nUser_since       0\ndtype: int64"
     },
     "execution_count": 4,
     "metadata": {},
     "output_type": "execute_result"
    }
   ],
   "source": [
    "data.isna().sum()"
   ],
   "metadata": {
    "collapsed": false
   }
  },
  {
   "cell_type": "code",
   "execution_count": 5,
   "outputs": [
    {
     "data": {
      "text/plain": "2021-01-03 11:18:00    8\n2021-02-08 14:21:00    7\n2021-01-08 20:22:00    6\n2021-02-19 17:01:00    5\n2021-01-08 16:14:00    5\n                      ..\n2021-01-16 14:29:00    1\n2021-01-16 09:55:00    1\n2021-01-16 13:36:00    1\n2021-01-17 02:12:00    1\n2021-02-21 09:35:00    1\nName: Added_at, Length: 4585, dtype: int64"
     },
     "execution_count": 5,
     "metadata": {},
     "output_type": "execute_result"
    }
   ],
   "source": [
    "data.Added_at.value_counts()"
   ],
   "metadata": {
    "collapsed": false
   }
  },
  {
   "cell_type": "code",
   "execution_count": 6,
   "outputs": [
    {
     "data": {
      "text/plain": "URL             object\nVoivodeship     object\nScrap_time      object\nName            object\nPrice          float64\nBrand           object\nCondition       object\nOffer_from      object\nType            object\nDescription     object\nAdded_at        object\nViews            int64\nUser_since      object\ndtype: object"
     },
     "execution_count": 6,
     "metadata": {},
     "output_type": "execute_result"
    }
   ],
   "source": [
    "data.dtypes"
   ],
   "metadata": {
    "collapsed": false
   }
  },
  {
   "cell_type": "code",
   "execution_count": 7,
   "outputs": [],
   "source": [
    "data_dropped_price_nans = data.dropna(subset=['Price']).reset_index(drop=True)"
   ],
   "metadata": {
    "collapsed": false
   }
  },
  {
   "cell_type": "code",
   "execution_count": 8,
   "outputs": [
    {
     "data": {
      "text/plain": "URL              0\nVoivodeship      0\nScrap_time       0\nName             0\nPrice            0\nBrand          312\nCondition       14\nOffer_from       0\nType           308\nDescription      0\nAdded_at         0\nViews            0\nUser_since       0\ndtype: int64"
     },
     "execution_count": 8,
     "metadata": {},
     "output_type": "execute_result"
    }
   ],
   "source": [
    "data_dropped_price_nans.isna().sum() # we can see that there are no more NaNs in 'Price' columns"
   ],
   "metadata": {
    "collapsed": false
   }
  },
  {
   "cell_type": "code",
   "execution_count": 9,
   "outputs": [
    {
     "data": {
      "text/plain": "Używane    2861\nNowe       1773\nName: Condition, dtype: int64"
     },
     "execution_count": 9,
     "metadata": {},
     "output_type": "execute_result"
    }
   ],
   "source": [
    "data_dropped_price_nans.Condition.value_counts()"
   ],
   "metadata": {
    "collapsed": false
   }
  },
  {
   "cell_type": "code",
   "execution_count": 10,
   "outputs": [],
   "source": [
    "# changing date format\n",
    "data_dropped_price_nans['Date'] = pd.to_datetime(data_dropped_price_nans['Added_at']).dt.date\n",
    "\n",
    "# filtering samples according to the task\n",
    "data_reduced_dims = data_dropped_price_nans.query(\"Condition == 'Używane' & Type == 'Sprawny' & Brand == 'iPhone'\")\n",
    "\n",
    "# dropping unused features\n",
    "data_reduced_dims = data_reduced_dims.drop(columns=['Voivodeship', 'Scrap_time', 'Views', 'User_since', 'Added_at', 'URL', 'Brand', 'Condition', 'Offer_from', 'Type'])"
   ],
   "metadata": {
    "collapsed": false
   }
  },
  {
   "cell_type": "code",
   "execution_count": 11,
   "outputs": [
    {
     "data": {
      "text/plain": "                                                   Name   Price  \\\n0       Iphone 11 64 jak nowy 95% gwarancja wyświetlacz  2799.0   \n1     IPhone 11 64 GB czarny, idealny z gwarancją. W...  2700.0   \n3      Jak Nowy Apple Iphone 11 256gbGB White Gwarancja  2899.0   \n4     Apple Iphone 11 biały 64GB - jak nowy GWARANCJ...  2500.0   \n6                           IPhone 11 64 GB + gwarancja  2150.0   \n...                                                 ...     ...   \n4639                               IPHONE 11 Black 64GB  2299.0   \n4640                   I phone 11 64 gb Cena tylko dzis  1900.0   \n4642         Iphone 11  128 gb gwarancja , 100% bateria  2800.0   \n4644                               Iphone 11 white 64gb  1650.0   \n4647  Apple iPhone 11 bez simlocka cały komplet pols...  1700.0   \n\n                                            Description        Date  \n0     Jak nowy . Kondycja baterii 95%. Kupiony w med...  2021-02-22  \n1     Witam! Mam na sprzedaż iPhone’a 11 w wersji 64...  2021-02-21  \n3     Witaj.     Jesteśmy sklepem - serwisem z 12 le...  2021-02-21  \n4     Sprzedam zakupiony w dniu 31.10.2020 w salonie...  2021-02-21  \n6     Witam, mam na sprzedaż IPhone 11 64GB biały. T...  2021-02-21  \n...                                                 ...         ...  \n4639  Sprzedam Iphone 11 64 GB kolor: czarny. Satn I...  2021-02-21  \n4640  Cena tylko dzisiaj   Na sprzedaż powiadam i ph...  2021-02-21  \n4642  Sprzedam IPhone 11 z pamięcią 128 GB . Telefon...  2021-02-21  \n4644  Na sprzedaż posiadam iphone 11 white o pojemno...  2021-02-20  \n4647  Sprzedam Appld iPhone 11 z polskiej dystrybucj...  2021-02-21  \n\n[2719 rows x 4 columns]",
      "text/html": "<div>\n<style scoped>\n    .dataframe tbody tr th:only-of-type {\n        vertical-align: middle;\n    }\n\n    .dataframe tbody tr th {\n        vertical-align: top;\n    }\n\n    .dataframe thead th {\n        text-align: right;\n    }\n</style>\n<table border=\"1\" class=\"dataframe\">\n  <thead>\n    <tr style=\"text-align: right;\">\n      <th></th>\n      <th>Name</th>\n      <th>Price</th>\n      <th>Description</th>\n      <th>Date</th>\n    </tr>\n  </thead>\n  <tbody>\n    <tr>\n      <th>0</th>\n      <td>Iphone 11 64 jak nowy 95% gwarancja wyświetlacz</td>\n      <td>2799.0</td>\n      <td>Jak nowy . Kondycja baterii 95%. Kupiony w med...</td>\n      <td>2021-02-22</td>\n    </tr>\n    <tr>\n      <th>1</th>\n      <td>IPhone 11 64 GB czarny, idealny z gwarancją. W...</td>\n      <td>2700.0</td>\n      <td>Witam! Mam na sprzedaż iPhone’a 11 w wersji 64...</td>\n      <td>2021-02-21</td>\n    </tr>\n    <tr>\n      <th>3</th>\n      <td>Jak Nowy Apple Iphone 11 256gbGB White Gwarancja</td>\n      <td>2899.0</td>\n      <td>Witaj.     Jesteśmy sklepem - serwisem z 12 le...</td>\n      <td>2021-02-21</td>\n    </tr>\n    <tr>\n      <th>4</th>\n      <td>Apple Iphone 11 biały 64GB - jak nowy GWARANCJ...</td>\n      <td>2500.0</td>\n      <td>Sprzedam zakupiony w dniu 31.10.2020 w salonie...</td>\n      <td>2021-02-21</td>\n    </tr>\n    <tr>\n      <th>6</th>\n      <td>IPhone 11 64 GB + gwarancja</td>\n      <td>2150.0</td>\n      <td>Witam, mam na sprzedaż IPhone 11 64GB biały. T...</td>\n      <td>2021-02-21</td>\n    </tr>\n    <tr>\n      <th>...</th>\n      <td>...</td>\n      <td>...</td>\n      <td>...</td>\n      <td>...</td>\n    </tr>\n    <tr>\n      <th>4639</th>\n      <td>IPHONE 11 Black 64GB</td>\n      <td>2299.0</td>\n      <td>Sprzedam Iphone 11 64 GB kolor: czarny. Satn I...</td>\n      <td>2021-02-21</td>\n    </tr>\n    <tr>\n      <th>4640</th>\n      <td>I phone 11 64 gb Cena tylko dzis</td>\n      <td>1900.0</td>\n      <td>Cena tylko dzisiaj   Na sprzedaż powiadam i ph...</td>\n      <td>2021-02-21</td>\n    </tr>\n    <tr>\n      <th>4642</th>\n      <td>Iphone 11  128 gb gwarancja , 100% bateria</td>\n      <td>2800.0</td>\n      <td>Sprzedam IPhone 11 z pamięcią 128 GB . Telefon...</td>\n      <td>2021-02-21</td>\n    </tr>\n    <tr>\n      <th>4644</th>\n      <td>Iphone 11 white 64gb</td>\n      <td>1650.0</td>\n      <td>Na sprzedaż posiadam iphone 11 white o pojemno...</td>\n      <td>2021-02-20</td>\n    </tr>\n    <tr>\n      <th>4647</th>\n      <td>Apple iPhone 11 bez simlocka cały komplet pols...</td>\n      <td>1700.0</td>\n      <td>Sprzedam Appld iPhone 11 z polskiej dystrybucj...</td>\n      <td>2021-02-21</td>\n    </tr>\n  </tbody>\n</table>\n<p>2719 rows × 4 columns</p>\n</div>"
     },
     "execution_count": 11,
     "metadata": {},
     "output_type": "execute_result"
    }
   ],
   "source": [
    "data_reduced_dims"
   ],
   "metadata": {
    "collapsed": false
   }
  },
  {
   "cell_type": "code",
   "execution_count": 12,
   "outputs": [
    {
     "data": {
      "text/plain": "                                                   Name  Price  \\\n22              IPHON 8 64GB,kolor Gold + etui 11 sztuk  990.0   \n26           HTC U11 Dual Sim 4/64GB Amazing Silver KPL  249.0   \n133   Iphone 7 rose gold oryginalny etui szkło grati...  780.0   \n317                           IPhone 5S 16 GB IOS11.4.1  200.0   \n537                         IPhone SE rosegold +11 case  350.0   \n632       I phone 7 128g rose gold nie 6 6s XS XR 11 12  570.0   \n675   IPhone 7 Plus (8,8plus,7,6s,6splus,x,xs,11,sam...  990.0   \n863   Iphone 6 32 GB, 11 case gratis, stan bardzo do...  550.0   \n870                       Iphone 11 PRO Max - słuchawki  270.0   \n971               Iphone se 64gb ,gwarancja 11 miesiecy  490.0   \n1024                IPhone 6s + pudełko + 11 sztuk etui  600.0   \n1027  Sprzedam iPhone 6 Plus lub zamienię z dopłatą ...  500.0   \n1113                            Iphone 11 32 GB sprawny  500.0   \n1190                    Iphone 7 32gb silver + 11 casów  750.0   \n1406  OKAZJA iphone 6s 64gb/rose gold,oryginalny,w b...  660.0   \n1499  Iphone se 128 GB rose gold jak nowy iphone 6 7...  325.0   \n1779  Iphone 7  32 GB jak nowy gwarancja od 07.11.20...  999.0   \n1784  Iphone 8 64 Gb Space Grey Gwar do 11.07.2021 M...  999.0   \n1962  IDEALNY/nowy Apple Iphone 8 64GB | iOS 11 | HD...  999.0   \n2009            Sprzedam zamienie iphone 8 na 11/xs max  900.0   \n2215  Iphone 7  32 GB jak nowy gwarancja od 06.11.20...  850.0   \n2363  IPhone 7 Plus (8,8plus,7,6s,6splus,x,xs,11,sam...  950.0   \n2375        Iphone 6plus 32GB gold złoty ma 11 mieisecy  550.0   \n2447         Iphone 6s 32gb wersja 11.1.2 + ori pudełko  349.0   \n2504  Apple iPhone 7 jet Black - 32 GB / bat. 100% /...  899.0   \n2508       Iphone SE 64GB rose gold różowy ios 11 Apple  380.0   \n2619  Telefon IPhone 8 64GB zamienię na X XR Pro Max...  999.0   \n2666                    Iphone 7 32gb silver + 11 casów  720.0   \n2733                               IPhone 7 (6,8,11,12)  500.0   \n2840  Iphone 7 Plus Jet Black 32 GB  11 casow Super ...  920.0   \n3013                               Iphone 11 64Gb White  680.0   \n3112                         Sprzedam używany Iphone 11  250.0   \n3144  IPhone 8 space gray 64gb igła stan 0rys (IPhon...  950.0   \n3278  Wyświwtlacz iphone 11 (zbita szybka) 100% sprawny  250.0   \n3438  Korpus IPhone XS Max 8 X 11 części aparat głośnik  499.0   \n3550  Iphone 6 32 GB, 11 case gratis, stan bardzo do...  550.0   \n3610                          IPhone 5S 16 GB IOS11.4.1  200.0   \n3636                Iphone 6s rose gold 32 GB i 11 etui  350.0   \n3802         IPhone 6S 64 GB + 11 etui + szkło ZOBACZ !  550.0   \n3853                          IPhone 11 64gb Space Gray  950.0   \n3891                     Iphone 7 32gb (6,7,8,xs,xr,11)  400.0   \n3944                                          Iphone 11  420.0   \n4004  Iphone 6s 32gb wersja 11.1.2 + ori pudełko (re...  349.0   \n4314                        Iphone 8// zamiana na ip 11  800.0   \n4334  Iphone 11 OKAZJA!!! do negocjacji SZYBKO SPRZE...  900.0   \n4602                 Iphone 7 złoty 32gb gold + 11 etui  600.0   \n\n                                            Description        Date  \n22    Iphon 8 64GB kolor Gold.Telefon zakupiony w ma...  2021-02-21  \n26    Przedmiotem sprzedaży jest telefon:        HTC...  2021-02-21  \n133   Sprzedam   Iphone 7 rose gold   Oryginalny nig...  2021-01-02  \n317   Sprawny, działający ale bez ładowarki, 2 x etu...  2021-01-04  \n537   Witam, sprzedam w 100% sprawnego iPhone SE w k...  2021-01-06  \n632   Sprzedam i phone 7 128 gb w kolorze rose gold ...  2021-01-07  \n675   Sprzedam iPhone 7 Plus.   Stan widoczny na zdj...  2021-01-08  \n863   IPhone 6  32 GB  STAN BARDZI DOBRY    + 11 etu...  2021-01-09  \n870   Oferuje na sprzedaż słuchawki od Iphona 11 PR...  2021-01-10  \n971   Witam   Na sprzedaż posiadam smartfon iphone S...  2021-01-10  \n1024  Dzień dobry. Mam do zaoferowania iPhone 6s w r...  2021-01-11  \n1027  Do sprzedania iPhone 6 Plus 64 GB. Touch ID dz...  2021-01-12  \n1113  Sprzedam iphone 7, kolor srebrny, w stanie ide...  2021-01-12  \n1190  Witam, mam do sprzedania Iphone’a 7 32GB silve...  2021-01-12  \n1406  Sprzedam w bardzo dobrym stanie iPhone 6s 64gb...  2021-01-14  \n1499  Cześć,     Na sprzedaż posiadam iPhone SE 128 ...  2021-01-15  \n1779  Stan bardzo dobry. Kupiony u operatora jako no...  2021-01-17  \n1784  Witam, na sprzedaż posiadam IPhone 8 64 w odci...  2021-01-17  \n1962  Witam serdecznie, na sprzedanie posiadam renom...  2021-01-19  \n2009  Sprzedam lub wymienie za dopłatą z mojej stron...  2021-01-20  \n2215  Stan bardzo dobry. Kupiony u operatora jako no...  2021-01-21  \n2363  Sprzedam iPhone 7 Plus.   Stan widoczny na zdj...  2021-01-23  \n2375  Sprzedam złoty iphone 6plus 32GB plus słuchawk...  2021-01-23  \n2447  Witam   Sprzedam telefon marki apple jakim jes...  2021-01-24  \n2504  Apple iPhone 7 jet Black 32GB        32GB poje...  2021-01-25  \n2508  iPhone SE 64GB  Kolor rose gold  Stan bardzo d...  2021-01-24  \n2619  Witam serdecznie         PRZED PRZYJAZDEM PROS...  2021-01-25  \n2666  Witam, mam do sprzedania Iphone’a 7 32GB silve...  2021-01-26  \n2733  Mam na sprzedaż iPhone 7   Telefon nie posiada...  2021-01-27  \n2840  iPhone 7 Plus, delikatne ryski, zawsze w case ...  2021-02-24  \n3013  Iphone 11 .     Wsparcie gwarancyjne od Apple ...  2021-01-28  \n3112  Bardzo dobry stan, jedyna wada to jedna ryska ...  2021-02-03  \n3144  Sprzedam iPhone 8 64GB w kolorze Space Gray. T...  2021-02-01  \n3278  Witam,   sprzedam oryginalny wyświetlacz iPhon...  2021-02-02  \n3438  Witam, sprzedam korpus do IPhone XS MAX, orygi...  2021-02-05  \n3550  IPhone 6  32 GB  STAN BARDZI DOBRY    + 11 etu...  2021-02-07  \n3610  Sprawny, działający ale bez ładowarki, 2 x etu...  2021-02-03  \n3636  Do sprzedania mam iPhone 6S rose gold . Do teg...  2021-02-04  \n3802  Sprzedam         iPhone 6S 64 GB - ROSE GOLD  ...  2021-02-09  \n3853  Telefon w stanie dobrym, sprawny. Nie posiada ...  2021-02-10  \n3891  Telefon 100% sprawny bateria trzyma cały dzień...  2021-02-10  \n3944  Witam mam do zaoferowania iPhone 6s  Ładowarka...  2021-02-12  \n4004  Witam   Sprzedam telefon marki apple jakim jes...  2021-02-12  \n4314  Sprzedam iphona 8 Możliwość zamiany na iphona ...  2021-02-17  \n4334  Sprzedam używanego białego Iphone 11 pamięć 64...  2021-02-17  \n4602  Sprzedam iphone 7 w kolorze złotym. Telefon w ...  2021-02-21  ",
      "text/html": "<div>\n<style scoped>\n    .dataframe tbody tr th:only-of-type {\n        vertical-align: middle;\n    }\n\n    .dataframe tbody tr th {\n        vertical-align: top;\n    }\n\n    .dataframe thead th {\n        text-align: right;\n    }\n</style>\n<table border=\"1\" class=\"dataframe\">\n  <thead>\n    <tr style=\"text-align: right;\">\n      <th></th>\n      <th>Name</th>\n      <th>Price</th>\n      <th>Description</th>\n      <th>Date</th>\n    </tr>\n  </thead>\n  <tbody>\n    <tr>\n      <th>22</th>\n      <td>IPHON 8 64GB,kolor Gold + etui 11 sztuk</td>\n      <td>990.0</td>\n      <td>Iphon 8 64GB kolor Gold.Telefon zakupiony w ma...</td>\n      <td>2021-02-21</td>\n    </tr>\n    <tr>\n      <th>26</th>\n      <td>HTC U11 Dual Sim 4/64GB Amazing Silver KPL</td>\n      <td>249.0</td>\n      <td>Przedmiotem sprzedaży jest telefon:        HTC...</td>\n      <td>2021-02-21</td>\n    </tr>\n    <tr>\n      <th>133</th>\n      <td>Iphone 7 rose gold oryginalny etui szkło grati...</td>\n      <td>780.0</td>\n      <td>Sprzedam   Iphone 7 rose gold   Oryginalny nig...</td>\n      <td>2021-01-02</td>\n    </tr>\n    <tr>\n      <th>317</th>\n      <td>IPhone 5S 16 GB IOS11.4.1</td>\n      <td>200.0</td>\n      <td>Sprawny, działający ale bez ładowarki, 2 x etu...</td>\n      <td>2021-01-04</td>\n    </tr>\n    <tr>\n      <th>537</th>\n      <td>IPhone SE rosegold +11 case</td>\n      <td>350.0</td>\n      <td>Witam, sprzedam w 100% sprawnego iPhone SE w k...</td>\n      <td>2021-01-06</td>\n    </tr>\n    <tr>\n      <th>632</th>\n      <td>I phone 7 128g rose gold nie 6 6s XS XR 11 12</td>\n      <td>570.0</td>\n      <td>Sprzedam i phone 7 128 gb w kolorze rose gold ...</td>\n      <td>2021-01-07</td>\n    </tr>\n    <tr>\n      <th>675</th>\n      <td>IPhone 7 Plus (8,8plus,7,6s,6splus,x,xs,11,sam...</td>\n      <td>990.0</td>\n      <td>Sprzedam iPhone 7 Plus.   Stan widoczny na zdj...</td>\n      <td>2021-01-08</td>\n    </tr>\n    <tr>\n      <th>863</th>\n      <td>Iphone 6 32 GB, 11 case gratis, stan bardzo do...</td>\n      <td>550.0</td>\n      <td>IPhone 6  32 GB  STAN BARDZI DOBRY    + 11 etu...</td>\n      <td>2021-01-09</td>\n    </tr>\n    <tr>\n      <th>870</th>\n      <td>Iphone 11 PRO Max - słuchawki</td>\n      <td>270.0</td>\n      <td>Oferuje na sprzedaż słuchawki od Iphona 11 PR...</td>\n      <td>2021-01-10</td>\n    </tr>\n    <tr>\n      <th>971</th>\n      <td>Iphone se 64gb ,gwarancja 11 miesiecy</td>\n      <td>490.0</td>\n      <td>Witam   Na sprzedaż posiadam smartfon iphone S...</td>\n      <td>2021-01-10</td>\n    </tr>\n    <tr>\n      <th>1024</th>\n      <td>IPhone 6s + pudełko + 11 sztuk etui</td>\n      <td>600.0</td>\n      <td>Dzień dobry. Mam do zaoferowania iPhone 6s w r...</td>\n      <td>2021-01-11</td>\n    </tr>\n    <tr>\n      <th>1027</th>\n      <td>Sprzedam iPhone 6 Plus lub zamienię z dopłatą ...</td>\n      <td>500.0</td>\n      <td>Do sprzedania iPhone 6 Plus 64 GB. Touch ID dz...</td>\n      <td>2021-01-12</td>\n    </tr>\n    <tr>\n      <th>1113</th>\n      <td>Iphone 11 32 GB sprawny</td>\n      <td>500.0</td>\n      <td>Sprzedam iphone 7, kolor srebrny, w stanie ide...</td>\n      <td>2021-01-12</td>\n    </tr>\n    <tr>\n      <th>1190</th>\n      <td>Iphone 7 32gb silver + 11 casów</td>\n      <td>750.0</td>\n      <td>Witam, mam do sprzedania Iphone’a 7 32GB silve...</td>\n      <td>2021-01-12</td>\n    </tr>\n    <tr>\n      <th>1406</th>\n      <td>OKAZJA iphone 6s 64gb/rose gold,oryginalny,w b...</td>\n      <td>660.0</td>\n      <td>Sprzedam w bardzo dobrym stanie iPhone 6s 64gb...</td>\n      <td>2021-01-14</td>\n    </tr>\n    <tr>\n      <th>1499</th>\n      <td>Iphone se 128 GB rose gold jak nowy iphone 6 7...</td>\n      <td>325.0</td>\n      <td>Cześć,     Na sprzedaż posiadam iPhone SE 128 ...</td>\n      <td>2021-01-15</td>\n    </tr>\n    <tr>\n      <th>1779</th>\n      <td>Iphone 7  32 GB jak nowy gwarancja od 07.11.20...</td>\n      <td>999.0</td>\n      <td>Stan bardzo dobry. Kupiony u operatora jako no...</td>\n      <td>2021-01-17</td>\n    </tr>\n    <tr>\n      <th>1784</th>\n      <td>Iphone 8 64 Gb Space Grey Gwar do 11.07.2021 M...</td>\n      <td>999.0</td>\n      <td>Witam, na sprzedaż posiadam IPhone 8 64 w odci...</td>\n      <td>2021-01-17</td>\n    </tr>\n    <tr>\n      <th>1962</th>\n      <td>IDEALNY/nowy Apple Iphone 8 64GB | iOS 11 | HD...</td>\n      <td>999.0</td>\n      <td>Witam serdecznie, na sprzedanie posiadam renom...</td>\n      <td>2021-01-19</td>\n    </tr>\n    <tr>\n      <th>2009</th>\n      <td>Sprzedam zamienie iphone 8 na 11/xs max</td>\n      <td>900.0</td>\n      <td>Sprzedam lub wymienie za dopłatą z mojej stron...</td>\n      <td>2021-01-20</td>\n    </tr>\n    <tr>\n      <th>2215</th>\n      <td>Iphone 7  32 GB jak nowy gwarancja od 06.11.20...</td>\n      <td>850.0</td>\n      <td>Stan bardzo dobry. Kupiony u operatora jako no...</td>\n      <td>2021-01-21</td>\n    </tr>\n    <tr>\n      <th>2363</th>\n      <td>IPhone 7 Plus (8,8plus,7,6s,6splus,x,xs,11,sam...</td>\n      <td>950.0</td>\n      <td>Sprzedam iPhone 7 Plus.   Stan widoczny na zdj...</td>\n      <td>2021-01-23</td>\n    </tr>\n    <tr>\n      <th>2375</th>\n      <td>Iphone 6plus 32GB gold złoty ma 11 mieisecy</td>\n      <td>550.0</td>\n      <td>Sprzedam złoty iphone 6plus 32GB plus słuchawk...</td>\n      <td>2021-01-23</td>\n    </tr>\n    <tr>\n      <th>2447</th>\n      <td>Iphone 6s 32gb wersja 11.1.2 + ori pudełko</td>\n      <td>349.0</td>\n      <td>Witam   Sprzedam telefon marki apple jakim jes...</td>\n      <td>2021-01-24</td>\n    </tr>\n    <tr>\n      <th>2504</th>\n      <td>Apple iPhone 7 jet Black - 32 GB / bat. 100% /...</td>\n      <td>899.0</td>\n      <td>Apple iPhone 7 jet Black 32GB        32GB poje...</td>\n      <td>2021-01-25</td>\n    </tr>\n    <tr>\n      <th>2508</th>\n      <td>Iphone SE 64GB rose gold różowy ios 11 Apple</td>\n      <td>380.0</td>\n      <td>iPhone SE 64GB  Kolor rose gold  Stan bardzo d...</td>\n      <td>2021-01-24</td>\n    </tr>\n    <tr>\n      <th>2619</th>\n      <td>Telefon IPhone 8 64GB zamienię na X XR Pro Max...</td>\n      <td>999.0</td>\n      <td>Witam serdecznie         PRZED PRZYJAZDEM PROS...</td>\n      <td>2021-01-25</td>\n    </tr>\n    <tr>\n      <th>2666</th>\n      <td>Iphone 7 32gb silver + 11 casów</td>\n      <td>720.0</td>\n      <td>Witam, mam do sprzedania Iphone’a 7 32GB silve...</td>\n      <td>2021-01-26</td>\n    </tr>\n    <tr>\n      <th>2733</th>\n      <td>IPhone 7 (6,8,11,12)</td>\n      <td>500.0</td>\n      <td>Mam na sprzedaż iPhone 7   Telefon nie posiada...</td>\n      <td>2021-01-27</td>\n    </tr>\n    <tr>\n      <th>2840</th>\n      <td>Iphone 7 Plus Jet Black 32 GB  11 casow Super ...</td>\n      <td>920.0</td>\n      <td>iPhone 7 Plus, delikatne ryski, zawsze w case ...</td>\n      <td>2021-02-24</td>\n    </tr>\n    <tr>\n      <th>3013</th>\n      <td>Iphone 11 64Gb White</td>\n      <td>680.0</td>\n      <td>Iphone 11 .     Wsparcie gwarancyjne od Apple ...</td>\n      <td>2021-01-28</td>\n    </tr>\n    <tr>\n      <th>3112</th>\n      <td>Sprzedam używany Iphone 11</td>\n      <td>250.0</td>\n      <td>Bardzo dobry stan, jedyna wada to jedna ryska ...</td>\n      <td>2021-02-03</td>\n    </tr>\n    <tr>\n      <th>3144</th>\n      <td>IPhone 8 space gray 64gb igła stan 0rys (IPhon...</td>\n      <td>950.0</td>\n      <td>Sprzedam iPhone 8 64GB w kolorze Space Gray. T...</td>\n      <td>2021-02-01</td>\n    </tr>\n    <tr>\n      <th>3278</th>\n      <td>Wyświwtlacz iphone 11 (zbita szybka) 100% sprawny</td>\n      <td>250.0</td>\n      <td>Witam,   sprzedam oryginalny wyświetlacz iPhon...</td>\n      <td>2021-02-02</td>\n    </tr>\n    <tr>\n      <th>3438</th>\n      <td>Korpus IPhone XS Max 8 X 11 części aparat głośnik</td>\n      <td>499.0</td>\n      <td>Witam, sprzedam korpus do IPhone XS MAX, orygi...</td>\n      <td>2021-02-05</td>\n    </tr>\n    <tr>\n      <th>3550</th>\n      <td>Iphone 6 32 GB, 11 case gratis, stan bardzo do...</td>\n      <td>550.0</td>\n      <td>IPhone 6  32 GB  STAN BARDZI DOBRY    + 11 etu...</td>\n      <td>2021-02-07</td>\n    </tr>\n    <tr>\n      <th>3610</th>\n      <td>IPhone 5S 16 GB IOS11.4.1</td>\n      <td>200.0</td>\n      <td>Sprawny, działający ale bez ładowarki, 2 x etu...</td>\n      <td>2021-02-03</td>\n    </tr>\n    <tr>\n      <th>3636</th>\n      <td>Iphone 6s rose gold 32 GB i 11 etui</td>\n      <td>350.0</td>\n      <td>Do sprzedania mam iPhone 6S rose gold . Do teg...</td>\n      <td>2021-02-04</td>\n    </tr>\n    <tr>\n      <th>3802</th>\n      <td>IPhone 6S 64 GB + 11 etui + szkło ZOBACZ !</td>\n      <td>550.0</td>\n      <td>Sprzedam         iPhone 6S 64 GB - ROSE GOLD  ...</td>\n      <td>2021-02-09</td>\n    </tr>\n    <tr>\n      <th>3853</th>\n      <td>IPhone 11 64gb Space Gray</td>\n      <td>950.0</td>\n      <td>Telefon w stanie dobrym, sprawny. Nie posiada ...</td>\n      <td>2021-02-10</td>\n    </tr>\n    <tr>\n      <th>3891</th>\n      <td>Iphone 7 32gb (6,7,8,xs,xr,11)</td>\n      <td>400.0</td>\n      <td>Telefon 100% sprawny bateria trzyma cały dzień...</td>\n      <td>2021-02-10</td>\n    </tr>\n    <tr>\n      <th>3944</th>\n      <td>Iphone 11</td>\n      <td>420.0</td>\n      <td>Witam mam do zaoferowania iPhone 6s  Ładowarka...</td>\n      <td>2021-02-12</td>\n    </tr>\n    <tr>\n      <th>4004</th>\n      <td>Iphone 6s 32gb wersja 11.1.2 + ori pudełko (re...</td>\n      <td>349.0</td>\n      <td>Witam   Sprzedam telefon marki apple jakim jes...</td>\n      <td>2021-02-12</td>\n    </tr>\n    <tr>\n      <th>4314</th>\n      <td>Iphone 8// zamiana na ip 11</td>\n      <td>800.0</td>\n      <td>Sprzedam iphona 8 Możliwość zamiany na iphona ...</td>\n      <td>2021-02-17</td>\n    </tr>\n    <tr>\n      <th>4334</th>\n      <td>Iphone 11 OKAZJA!!! do negocjacji SZYBKO SPRZE...</td>\n      <td>900.0</td>\n      <td>Sprzedam używanego białego Iphone 11 pamięć 64...</td>\n      <td>2021-02-17</td>\n    </tr>\n    <tr>\n      <th>4602</th>\n      <td>Iphone 7 złoty 32gb gold + 11 etui</td>\n      <td>600.0</td>\n      <td>Sprzedam iphone 7 w kolorze złotym. Telefon w ...</td>\n      <td>2021-02-21</td>\n    </tr>\n  </tbody>\n</table>\n</div>"
     },
     "execution_count": 12,
     "metadata": {},
     "output_type": "execute_result"
    }
   ],
   "source": [
    "# some part of the data contains information about insignificant products (phone cases, services, fake products), filtering based on price\n",
    "data_reduced_dims[data_reduced_dims.Price < 1000]"
   ],
   "metadata": {
    "collapsed": false
   }
  },
  {
   "cell_type": "code",
   "execution_count": 13,
   "outputs": [],
   "source": [
    "# clip it here by Price\n",
    "data_filtered = data_reduced_dims[data_reduced_dims.Price > 1000]"
   ],
   "metadata": {
    "collapsed": false
   }
  },
  {
   "cell_type": "code",
   "execution_count": 14,
   "outputs": [
    {
     "data": {
      "text/plain": "                                                   Name   Price  \\\n0       Iphone 11 64 jak nowy 95% gwarancja wyświetlacz  2799.0   \n1     IPhone 11 64 GB czarny, idealny z gwarancją. W...  2700.0   \n3      Jak Nowy Apple Iphone 11 256gbGB White Gwarancja  2899.0   \n4     Apple Iphone 11 biały 64GB - jak nowy GWARANCJ...  2500.0   \n6                           IPhone 11 64 GB + gwarancja  2150.0   \n...                                                 ...     ...   \n4639                               IPHONE 11 Black 64GB  2299.0   \n4640                   I phone 11 64 gb Cena tylko dzis  1900.0   \n4642         Iphone 11  128 gb gwarancja , 100% bateria  2800.0   \n4644                               Iphone 11 white 64gb  1650.0   \n4647  Apple iPhone 11 bez simlocka cały komplet pols...  1700.0   \n\n                                            Description        Date  \n0     Jak nowy . Kondycja baterii 95%. Kupiony w med...  2021-02-22  \n1     Witam! Mam na sprzedaż iPhone’a 11 w wersji 64...  2021-02-21  \n3     Witaj.     Jesteśmy sklepem - serwisem z 12 le...  2021-02-21  \n4     Sprzedam zakupiony w dniu 31.10.2020 w salonie...  2021-02-21  \n6     Witam, mam na sprzedaż IPhone 11 64GB biały. T...  2021-02-21  \n...                                                 ...         ...  \n4639  Sprzedam Iphone 11 64 GB kolor: czarny. Satn I...  2021-02-21  \n4640  Cena tylko dzisiaj   Na sprzedaż powiadam i ph...  2021-02-21  \n4642  Sprzedam IPhone 11 z pamięcią 128 GB . Telefon...  2021-02-21  \n4644  Na sprzedaż posiadam iphone 11 white o pojemno...  2021-02-20  \n4647  Sprzedam Appld iPhone 11 z polskiej dystrybucj...  2021-02-21  \n\n[2672 rows x 4 columns]",
      "text/html": "<div>\n<style scoped>\n    .dataframe tbody tr th:only-of-type {\n        vertical-align: middle;\n    }\n\n    .dataframe tbody tr th {\n        vertical-align: top;\n    }\n\n    .dataframe thead th {\n        text-align: right;\n    }\n</style>\n<table border=\"1\" class=\"dataframe\">\n  <thead>\n    <tr style=\"text-align: right;\">\n      <th></th>\n      <th>Name</th>\n      <th>Price</th>\n      <th>Description</th>\n      <th>Date</th>\n    </tr>\n  </thead>\n  <tbody>\n    <tr>\n      <th>0</th>\n      <td>Iphone 11 64 jak nowy 95% gwarancja wyświetlacz</td>\n      <td>2799.0</td>\n      <td>Jak nowy . Kondycja baterii 95%. Kupiony w med...</td>\n      <td>2021-02-22</td>\n    </tr>\n    <tr>\n      <th>1</th>\n      <td>IPhone 11 64 GB czarny, idealny z gwarancją. W...</td>\n      <td>2700.0</td>\n      <td>Witam! Mam na sprzedaż iPhone’a 11 w wersji 64...</td>\n      <td>2021-02-21</td>\n    </tr>\n    <tr>\n      <th>3</th>\n      <td>Jak Nowy Apple Iphone 11 256gbGB White Gwarancja</td>\n      <td>2899.0</td>\n      <td>Witaj.     Jesteśmy sklepem - serwisem z 12 le...</td>\n      <td>2021-02-21</td>\n    </tr>\n    <tr>\n      <th>4</th>\n      <td>Apple Iphone 11 biały 64GB - jak nowy GWARANCJ...</td>\n      <td>2500.0</td>\n      <td>Sprzedam zakupiony w dniu 31.10.2020 w salonie...</td>\n      <td>2021-02-21</td>\n    </tr>\n    <tr>\n      <th>6</th>\n      <td>IPhone 11 64 GB + gwarancja</td>\n      <td>2150.0</td>\n      <td>Witam, mam na sprzedaż IPhone 11 64GB biały. T...</td>\n      <td>2021-02-21</td>\n    </tr>\n    <tr>\n      <th>...</th>\n      <td>...</td>\n      <td>...</td>\n      <td>...</td>\n      <td>...</td>\n    </tr>\n    <tr>\n      <th>4639</th>\n      <td>IPHONE 11 Black 64GB</td>\n      <td>2299.0</td>\n      <td>Sprzedam Iphone 11 64 GB kolor: czarny. Satn I...</td>\n      <td>2021-02-21</td>\n    </tr>\n    <tr>\n      <th>4640</th>\n      <td>I phone 11 64 gb Cena tylko dzis</td>\n      <td>1900.0</td>\n      <td>Cena tylko dzisiaj   Na sprzedaż powiadam i ph...</td>\n      <td>2021-02-21</td>\n    </tr>\n    <tr>\n      <th>4642</th>\n      <td>Iphone 11  128 gb gwarancja , 100% bateria</td>\n      <td>2800.0</td>\n      <td>Sprzedam IPhone 11 z pamięcią 128 GB . Telefon...</td>\n      <td>2021-02-21</td>\n    </tr>\n    <tr>\n      <th>4644</th>\n      <td>Iphone 11 white 64gb</td>\n      <td>1650.0</td>\n      <td>Na sprzedaż posiadam iphone 11 white o pojemno...</td>\n      <td>2021-02-20</td>\n    </tr>\n    <tr>\n      <th>4647</th>\n      <td>Apple iPhone 11 bez simlocka cały komplet pols...</td>\n      <td>1700.0</td>\n      <td>Sprzedam Appld iPhone 11 z polskiej dystrybucj...</td>\n      <td>2021-02-21</td>\n    </tr>\n  </tbody>\n</table>\n<p>2672 rows × 4 columns</p>\n</div>"
     },
     "execution_count": 14,
     "metadata": {},
     "output_type": "execute_result"
    }
   ],
   "source": [
    "data_filtered"
   ],
   "metadata": {
    "collapsed": false
   }
  },
  {
   "cell_type": "code",
   "execution_count": 15,
   "outputs": [],
   "source": [
    "# make all strings lowercase for the model\n",
    "data_filtered['Name'] = data_filtered.loc[:, 'Name'].str.lower()\n",
    "data_filtered['Description'] = data_filtered.loc[:, 'Description'].str.lower()"
   ],
   "metadata": {
    "collapsed": false
   }
  },
  {
   "cell_type": "code",
   "execution_count": 16,
   "outputs": [
    {
     "data": {
      "text/plain": "                                                   Name   Price  \\\n0       iphone 11 64 jak nowy 95% gwarancja wyświetlacz  2799.0   \n1     iphone 11 64 gb czarny, idealny z gwarancją. w...  2700.0   \n3      jak nowy apple iphone 11 256gbgb white gwarancja  2899.0   \n4     apple iphone 11 biały 64gb - jak nowy gwarancj...  2500.0   \n6                           iphone 11 64 gb + gwarancja  2150.0   \n...                                                 ...     ...   \n4639                               iphone 11 black 64gb  2299.0   \n4640                   i phone 11 64 gb cena tylko dzis  1900.0   \n4642         iphone 11  128 gb gwarancja , 100% bateria  2800.0   \n4644                               iphone 11 white 64gb  1650.0   \n4647  apple iphone 11 bez simlocka cały komplet pols...  1700.0   \n\n                                            Description        Date  \n0     jak nowy . kondycja baterii 95%. kupiony w med...  2021-02-22  \n1     witam! mam na sprzedaż iphone’a 11 w wersji 64...  2021-02-21  \n3     witaj.     jesteśmy sklepem - serwisem z 12 le...  2021-02-21  \n4     sprzedam zakupiony w dniu 31.10.2020 w salonie...  2021-02-21  \n6     witam, mam na sprzedaż iphone 11 64gb biały. t...  2021-02-21  \n...                                                 ...         ...  \n4639  sprzedam iphone 11 64 gb kolor: czarny. satn i...  2021-02-21  \n4640  cena tylko dzisiaj   na sprzedaż powiadam i ph...  2021-02-21  \n4642  sprzedam iphone 11 z pamięcią 128 gb . telefon...  2021-02-21  \n4644  na sprzedaż posiadam iphone 11 white o pojemno...  2021-02-20  \n4647  sprzedam appld iphone 11 z polskiej dystrybucj...  2021-02-21  \n\n[2672 rows x 4 columns]",
      "text/html": "<div>\n<style scoped>\n    .dataframe tbody tr th:only-of-type {\n        vertical-align: middle;\n    }\n\n    .dataframe tbody tr th {\n        vertical-align: top;\n    }\n\n    .dataframe thead th {\n        text-align: right;\n    }\n</style>\n<table border=\"1\" class=\"dataframe\">\n  <thead>\n    <tr style=\"text-align: right;\">\n      <th></th>\n      <th>Name</th>\n      <th>Price</th>\n      <th>Description</th>\n      <th>Date</th>\n    </tr>\n  </thead>\n  <tbody>\n    <tr>\n      <th>0</th>\n      <td>iphone 11 64 jak nowy 95% gwarancja wyświetlacz</td>\n      <td>2799.0</td>\n      <td>jak nowy . kondycja baterii 95%. kupiony w med...</td>\n      <td>2021-02-22</td>\n    </tr>\n    <tr>\n      <th>1</th>\n      <td>iphone 11 64 gb czarny, idealny z gwarancją. w...</td>\n      <td>2700.0</td>\n      <td>witam! mam na sprzedaż iphone’a 11 w wersji 64...</td>\n      <td>2021-02-21</td>\n    </tr>\n    <tr>\n      <th>3</th>\n      <td>jak nowy apple iphone 11 256gbgb white gwarancja</td>\n      <td>2899.0</td>\n      <td>witaj.     jesteśmy sklepem - serwisem z 12 le...</td>\n      <td>2021-02-21</td>\n    </tr>\n    <tr>\n      <th>4</th>\n      <td>apple iphone 11 biały 64gb - jak nowy gwarancj...</td>\n      <td>2500.0</td>\n      <td>sprzedam zakupiony w dniu 31.10.2020 w salonie...</td>\n      <td>2021-02-21</td>\n    </tr>\n    <tr>\n      <th>6</th>\n      <td>iphone 11 64 gb + gwarancja</td>\n      <td>2150.0</td>\n      <td>witam, mam na sprzedaż iphone 11 64gb biały. t...</td>\n      <td>2021-02-21</td>\n    </tr>\n    <tr>\n      <th>...</th>\n      <td>...</td>\n      <td>...</td>\n      <td>...</td>\n      <td>...</td>\n    </tr>\n    <tr>\n      <th>4639</th>\n      <td>iphone 11 black 64gb</td>\n      <td>2299.0</td>\n      <td>sprzedam iphone 11 64 gb kolor: czarny. satn i...</td>\n      <td>2021-02-21</td>\n    </tr>\n    <tr>\n      <th>4640</th>\n      <td>i phone 11 64 gb cena tylko dzis</td>\n      <td>1900.0</td>\n      <td>cena tylko dzisiaj   na sprzedaż powiadam i ph...</td>\n      <td>2021-02-21</td>\n    </tr>\n    <tr>\n      <th>4642</th>\n      <td>iphone 11  128 gb gwarancja , 100% bateria</td>\n      <td>2800.0</td>\n      <td>sprzedam iphone 11 z pamięcią 128 gb . telefon...</td>\n      <td>2021-02-21</td>\n    </tr>\n    <tr>\n      <th>4644</th>\n      <td>iphone 11 white 64gb</td>\n      <td>1650.0</td>\n      <td>na sprzedaż posiadam iphone 11 white o pojemno...</td>\n      <td>2021-02-20</td>\n    </tr>\n    <tr>\n      <th>4647</th>\n      <td>apple iphone 11 bez simlocka cały komplet pols...</td>\n      <td>1700.0</td>\n      <td>sprzedam appld iphone 11 z polskiej dystrybucj...</td>\n      <td>2021-02-21</td>\n    </tr>\n  </tbody>\n</table>\n<p>2672 rows × 4 columns</p>\n</div>"
     },
     "execution_count": 16,
     "metadata": {},
     "output_type": "execute_result"
    }
   ],
   "source": [
    "data_filtered"
   ],
   "metadata": {
    "collapsed": false
   }
  },
  {
   "cell_type": "code",
   "execution_count": 17,
   "outputs": [],
   "source": [
    "# Merge Name and description strings\n",
    "data_filtered['Concatenated_description'] = data_filtered['Name'] + ' ' + data_filtered['Description']"
   ],
   "metadata": {
    "collapsed": false
   }
  },
  {
   "cell_type": "code",
   "execution_count": 18,
   "outputs": [
    {
     "data": {
      "text/plain": "                                                   Name   Price  \\\n0       iphone 11 64 jak nowy 95% gwarancja wyświetlacz  2799.0   \n1     iphone 11 64 gb czarny, idealny z gwarancją. w...  2700.0   \n3      jak nowy apple iphone 11 256gbgb white gwarancja  2899.0   \n4     apple iphone 11 biały 64gb - jak nowy gwarancj...  2500.0   \n6                           iphone 11 64 gb + gwarancja  2150.0   \n...                                                 ...     ...   \n4639                               iphone 11 black 64gb  2299.0   \n4640                   i phone 11 64 gb cena tylko dzis  1900.0   \n4642         iphone 11  128 gb gwarancja , 100% bateria  2800.0   \n4644                               iphone 11 white 64gb  1650.0   \n4647  apple iphone 11 bez simlocka cały komplet pols...  1700.0   \n\n                                            Description        Date  \\\n0     jak nowy . kondycja baterii 95%. kupiony w med...  2021-02-22   \n1     witam! mam na sprzedaż iphone’a 11 w wersji 64...  2021-02-21   \n3     witaj.     jesteśmy sklepem - serwisem z 12 le...  2021-02-21   \n4     sprzedam zakupiony w dniu 31.10.2020 w salonie...  2021-02-21   \n6     witam, mam na sprzedaż iphone 11 64gb biały. t...  2021-02-21   \n...                                                 ...         ...   \n4639  sprzedam iphone 11 64 gb kolor: czarny. satn i...  2021-02-21   \n4640  cena tylko dzisiaj   na sprzedaż powiadam i ph...  2021-02-21   \n4642  sprzedam iphone 11 z pamięcią 128 gb . telefon...  2021-02-21   \n4644  na sprzedaż posiadam iphone 11 white o pojemno...  2021-02-20   \n4647  sprzedam appld iphone 11 z polskiej dystrybucj...  2021-02-21   \n\n                               Concatenated_description  \n0     iphone 11 64 jak nowy 95% gwarancja wyświetlac...  \n1     iphone 11 64 gb czarny, idealny z gwarancją. w...  \n3     jak nowy apple iphone 11 256gbgb white gwaranc...  \n4     apple iphone 11 biały 64gb - jak nowy gwarancj...  \n6     iphone 11 64 gb + gwarancja witam, mam na sprz...  \n...                                                 ...  \n4639  iphone 11 black 64gb sprzedam iphone 11 64 gb ...  \n4640  i phone 11 64 gb cena tylko dzis cena tylko dz...  \n4642  iphone 11  128 gb gwarancja , 100% bateria spr...  \n4644  iphone 11 white 64gb na sprzedaż posiadam ipho...  \n4647  apple iphone 11 bez simlocka cały komplet pols...  \n\n[2672 rows x 5 columns]",
      "text/html": "<div>\n<style scoped>\n    .dataframe tbody tr th:only-of-type {\n        vertical-align: middle;\n    }\n\n    .dataframe tbody tr th {\n        vertical-align: top;\n    }\n\n    .dataframe thead th {\n        text-align: right;\n    }\n</style>\n<table border=\"1\" class=\"dataframe\">\n  <thead>\n    <tr style=\"text-align: right;\">\n      <th></th>\n      <th>Name</th>\n      <th>Price</th>\n      <th>Description</th>\n      <th>Date</th>\n      <th>Concatenated_description</th>\n    </tr>\n  </thead>\n  <tbody>\n    <tr>\n      <th>0</th>\n      <td>iphone 11 64 jak nowy 95% gwarancja wyświetlacz</td>\n      <td>2799.0</td>\n      <td>jak nowy . kondycja baterii 95%. kupiony w med...</td>\n      <td>2021-02-22</td>\n      <td>iphone 11 64 jak nowy 95% gwarancja wyświetlac...</td>\n    </tr>\n    <tr>\n      <th>1</th>\n      <td>iphone 11 64 gb czarny, idealny z gwarancją. w...</td>\n      <td>2700.0</td>\n      <td>witam! mam na sprzedaż iphone’a 11 w wersji 64...</td>\n      <td>2021-02-21</td>\n      <td>iphone 11 64 gb czarny, idealny z gwarancją. w...</td>\n    </tr>\n    <tr>\n      <th>3</th>\n      <td>jak nowy apple iphone 11 256gbgb white gwarancja</td>\n      <td>2899.0</td>\n      <td>witaj.     jesteśmy sklepem - serwisem z 12 le...</td>\n      <td>2021-02-21</td>\n      <td>jak nowy apple iphone 11 256gbgb white gwaranc...</td>\n    </tr>\n    <tr>\n      <th>4</th>\n      <td>apple iphone 11 biały 64gb - jak nowy gwarancj...</td>\n      <td>2500.0</td>\n      <td>sprzedam zakupiony w dniu 31.10.2020 w salonie...</td>\n      <td>2021-02-21</td>\n      <td>apple iphone 11 biały 64gb - jak nowy gwarancj...</td>\n    </tr>\n    <tr>\n      <th>6</th>\n      <td>iphone 11 64 gb + gwarancja</td>\n      <td>2150.0</td>\n      <td>witam, mam na sprzedaż iphone 11 64gb biały. t...</td>\n      <td>2021-02-21</td>\n      <td>iphone 11 64 gb + gwarancja witam, mam na sprz...</td>\n    </tr>\n    <tr>\n      <th>...</th>\n      <td>...</td>\n      <td>...</td>\n      <td>...</td>\n      <td>...</td>\n      <td>...</td>\n    </tr>\n    <tr>\n      <th>4639</th>\n      <td>iphone 11 black 64gb</td>\n      <td>2299.0</td>\n      <td>sprzedam iphone 11 64 gb kolor: czarny. satn i...</td>\n      <td>2021-02-21</td>\n      <td>iphone 11 black 64gb sprzedam iphone 11 64 gb ...</td>\n    </tr>\n    <tr>\n      <th>4640</th>\n      <td>i phone 11 64 gb cena tylko dzis</td>\n      <td>1900.0</td>\n      <td>cena tylko dzisiaj   na sprzedaż powiadam i ph...</td>\n      <td>2021-02-21</td>\n      <td>i phone 11 64 gb cena tylko dzis cena tylko dz...</td>\n    </tr>\n    <tr>\n      <th>4642</th>\n      <td>iphone 11  128 gb gwarancja , 100% bateria</td>\n      <td>2800.0</td>\n      <td>sprzedam iphone 11 z pamięcią 128 gb . telefon...</td>\n      <td>2021-02-21</td>\n      <td>iphone 11  128 gb gwarancja , 100% bateria spr...</td>\n    </tr>\n    <tr>\n      <th>4644</th>\n      <td>iphone 11 white 64gb</td>\n      <td>1650.0</td>\n      <td>na sprzedaż posiadam iphone 11 white o pojemno...</td>\n      <td>2021-02-20</td>\n      <td>iphone 11 white 64gb na sprzedaż posiadam ipho...</td>\n    </tr>\n    <tr>\n      <th>4647</th>\n      <td>apple iphone 11 bez simlocka cały komplet pols...</td>\n      <td>1700.0</td>\n      <td>sprzedam appld iphone 11 z polskiej dystrybucj...</td>\n      <td>2021-02-21</td>\n      <td>apple iphone 11 bez simlocka cały komplet pols...</td>\n    </tr>\n  </tbody>\n</table>\n<p>2672 rows × 5 columns</p>\n</div>"
     },
     "execution_count": 18,
     "metadata": {},
     "output_type": "execute_result"
    }
   ],
   "source": [
    "data_filtered"
   ],
   "metadata": {
    "collapsed": false
   }
  },
  {
   "cell_type": "code",
   "execution_count": 19,
   "outputs": [
    {
     "name": "stdout",
     "output_type": "stream",
     "text": [
      "<class 'pandas.core.frame.DataFrame'>\n",
      "Int64Index: 2672 entries, 0 to 4647\n",
      "Data columns (total 5 columns):\n",
      " #   Column                    Non-Null Count  Dtype  \n",
      "---  ------                    --------------  -----  \n",
      " 0   Name                      2672 non-null   object \n",
      " 1   Price                     2672 non-null   float64\n",
      " 2   Description               2672 non-null   object \n",
      " 3   Date                      2672 non-null   object \n",
      " 4   Concatenated_description  2672 non-null   object \n",
      "dtypes: float64(1), object(4)\n",
      "memory usage: 125.2+ KB\n"
     ]
    }
   ],
   "source": [
    "data_filtered.info()"
   ],
   "metadata": {
    "collapsed": false
   }
  },
  {
   "cell_type": "code",
   "execution_count": 20,
   "outputs": [],
   "source": [
    "# create new column filled with earliest date found in the dataset\n",
    "data_filtered['First_date'] = data_filtered['Date'].min()"
   ],
   "metadata": {
    "collapsed": false
   }
  },
  {
   "cell_type": "code",
   "execution_count": 21,
   "outputs": [],
   "source": [
    "# change formats of dates to datetime\n",
    "data_filtered['Date'] = pd.to_datetime(data_filtered.Date, format='%Y-%m-%d')\n",
    "data_filtered['First_date'] = pd.to_datetime(data_filtered.First_date, format='%Y-%m-%d')"
   ],
   "metadata": {
    "collapsed": false
   }
  },
  {
   "cell_type": "code",
   "execution_count": 22,
   "outputs": [],
   "source": [
    "# create a new column that contains information about progressing time series in data\n",
    "data_filtered['Days_passed'] = data_filtered['Date'] - data_filtered['First_date']\n",
    "data_filtered['Days_passed_name'] = data_filtered['Days_passed'].astype(str) + ' ' + data_filtered['Name']"
   ],
   "metadata": {
    "collapsed": false
   }
  },
  {
   "cell_type": "code",
   "execution_count": 23,
   "outputs": [
    {
     "data": {
      "text/plain": "                                                   Name   Price  \\\n0       iphone 11 64 jak nowy 95% gwarancja wyświetlacz  2799.0   \n1     iphone 11 64 gb czarny, idealny z gwarancją. w...  2700.0   \n3      jak nowy apple iphone 11 256gbgb white gwarancja  2899.0   \n4     apple iphone 11 biały 64gb - jak nowy gwarancj...  2500.0   \n6                           iphone 11 64 gb + gwarancja  2150.0   \n...                                                 ...     ...   \n4639                               iphone 11 black 64gb  2299.0   \n4640                   i phone 11 64 gb cena tylko dzis  1900.0   \n4642         iphone 11  128 gb gwarancja , 100% bateria  2800.0   \n4644                               iphone 11 white 64gb  1650.0   \n4647  apple iphone 11 bez simlocka cały komplet pols...  1700.0   \n\n                                            Description       Date  \\\n0     jak nowy . kondycja baterii 95%. kupiony w med... 2021-02-22   \n1     witam! mam na sprzedaż iphone’a 11 w wersji 64... 2021-02-21   \n3     witaj.     jesteśmy sklepem - serwisem z 12 le... 2021-02-21   \n4     sprzedam zakupiony w dniu 31.10.2020 w salonie... 2021-02-21   \n6     witam, mam na sprzedaż iphone 11 64gb biały. t... 2021-02-21   \n...                                                 ...        ...   \n4639  sprzedam iphone 11 64 gb kolor: czarny. satn i... 2021-02-21   \n4640  cena tylko dzisiaj   na sprzedaż powiadam i ph... 2021-02-21   \n4642  sprzedam iphone 11 z pamięcią 128 gb . telefon... 2021-02-21   \n4644  na sprzedaż posiadam iphone 11 white o pojemno... 2021-02-20   \n4647  sprzedam appld iphone 11 z polskiej dystrybucj... 2021-02-21   \n\n                               Concatenated_description First_date  \\\n0     iphone 11 64 jak nowy 95% gwarancja wyświetlac... 2021-01-01   \n1     iphone 11 64 gb czarny, idealny z gwarancją. w... 2021-01-01   \n3     jak nowy apple iphone 11 256gbgb white gwaranc... 2021-01-01   \n4     apple iphone 11 biały 64gb - jak nowy gwarancj... 2021-01-01   \n6     iphone 11 64 gb + gwarancja witam, mam na sprz... 2021-01-01   \n...                                                 ...        ...   \n4639  iphone 11 black 64gb sprzedam iphone 11 64 gb ... 2021-01-01   \n4640  i phone 11 64 gb cena tylko dzis cena tylko dz... 2021-01-01   \n4642  iphone 11  128 gb gwarancja , 100% bateria spr... 2021-01-01   \n4644  iphone 11 white 64gb na sprzedaż posiadam ipho... 2021-01-01   \n4647  apple iphone 11 bez simlocka cały komplet pols... 2021-01-01   \n\n     Days_passed                                   Days_passed_name  \n0        52 days  52 days iphone 11 64 jak nowy 95% gwarancja wy...  \n1        51 days  51 days iphone 11 64 gb czarny, idealny z gwar...  \n3        51 days  51 days jak nowy apple iphone 11 256gbgb white...  \n4        51 days  51 days apple iphone 11 biały 64gb - jak nowy ...  \n6        51 days                51 days iphone 11 64 gb + gwarancja  \n...          ...                                                ...  \n4639     51 days                       51 days iphone 11 black 64gb  \n4640     51 days           51 days i phone 11 64 gb cena tylko dzis  \n4642     51 days  51 days iphone 11  128 gb gwarancja , 100% bat...  \n4644     50 days                       50 days iphone 11 white 64gb  \n4647     51 days  51 days apple iphone 11 bez simlocka cały komp...  \n\n[2672 rows x 8 columns]",
      "text/html": "<div>\n<style scoped>\n    .dataframe tbody tr th:only-of-type {\n        vertical-align: middle;\n    }\n\n    .dataframe tbody tr th {\n        vertical-align: top;\n    }\n\n    .dataframe thead th {\n        text-align: right;\n    }\n</style>\n<table border=\"1\" class=\"dataframe\">\n  <thead>\n    <tr style=\"text-align: right;\">\n      <th></th>\n      <th>Name</th>\n      <th>Price</th>\n      <th>Description</th>\n      <th>Date</th>\n      <th>Concatenated_description</th>\n      <th>First_date</th>\n      <th>Days_passed</th>\n      <th>Days_passed_name</th>\n    </tr>\n  </thead>\n  <tbody>\n    <tr>\n      <th>0</th>\n      <td>iphone 11 64 jak nowy 95% gwarancja wyświetlacz</td>\n      <td>2799.0</td>\n      <td>jak nowy . kondycja baterii 95%. kupiony w med...</td>\n      <td>2021-02-22</td>\n      <td>iphone 11 64 jak nowy 95% gwarancja wyświetlac...</td>\n      <td>2021-01-01</td>\n      <td>52 days</td>\n      <td>52 days iphone 11 64 jak nowy 95% gwarancja wy...</td>\n    </tr>\n    <tr>\n      <th>1</th>\n      <td>iphone 11 64 gb czarny, idealny z gwarancją. w...</td>\n      <td>2700.0</td>\n      <td>witam! mam na sprzedaż iphone’a 11 w wersji 64...</td>\n      <td>2021-02-21</td>\n      <td>iphone 11 64 gb czarny, idealny z gwarancją. w...</td>\n      <td>2021-01-01</td>\n      <td>51 days</td>\n      <td>51 days iphone 11 64 gb czarny, idealny z gwar...</td>\n    </tr>\n    <tr>\n      <th>3</th>\n      <td>jak nowy apple iphone 11 256gbgb white gwarancja</td>\n      <td>2899.0</td>\n      <td>witaj.     jesteśmy sklepem - serwisem z 12 le...</td>\n      <td>2021-02-21</td>\n      <td>jak nowy apple iphone 11 256gbgb white gwaranc...</td>\n      <td>2021-01-01</td>\n      <td>51 days</td>\n      <td>51 days jak nowy apple iphone 11 256gbgb white...</td>\n    </tr>\n    <tr>\n      <th>4</th>\n      <td>apple iphone 11 biały 64gb - jak nowy gwarancj...</td>\n      <td>2500.0</td>\n      <td>sprzedam zakupiony w dniu 31.10.2020 w salonie...</td>\n      <td>2021-02-21</td>\n      <td>apple iphone 11 biały 64gb - jak nowy gwarancj...</td>\n      <td>2021-01-01</td>\n      <td>51 days</td>\n      <td>51 days apple iphone 11 biały 64gb - jak nowy ...</td>\n    </tr>\n    <tr>\n      <th>6</th>\n      <td>iphone 11 64 gb + gwarancja</td>\n      <td>2150.0</td>\n      <td>witam, mam na sprzedaż iphone 11 64gb biały. t...</td>\n      <td>2021-02-21</td>\n      <td>iphone 11 64 gb + gwarancja witam, mam na sprz...</td>\n      <td>2021-01-01</td>\n      <td>51 days</td>\n      <td>51 days iphone 11 64 gb + gwarancja</td>\n    </tr>\n    <tr>\n      <th>...</th>\n      <td>...</td>\n      <td>...</td>\n      <td>...</td>\n      <td>...</td>\n      <td>...</td>\n      <td>...</td>\n      <td>...</td>\n      <td>...</td>\n    </tr>\n    <tr>\n      <th>4639</th>\n      <td>iphone 11 black 64gb</td>\n      <td>2299.0</td>\n      <td>sprzedam iphone 11 64 gb kolor: czarny. satn i...</td>\n      <td>2021-02-21</td>\n      <td>iphone 11 black 64gb sprzedam iphone 11 64 gb ...</td>\n      <td>2021-01-01</td>\n      <td>51 days</td>\n      <td>51 days iphone 11 black 64gb</td>\n    </tr>\n    <tr>\n      <th>4640</th>\n      <td>i phone 11 64 gb cena tylko dzis</td>\n      <td>1900.0</td>\n      <td>cena tylko dzisiaj   na sprzedaż powiadam i ph...</td>\n      <td>2021-02-21</td>\n      <td>i phone 11 64 gb cena tylko dzis cena tylko dz...</td>\n      <td>2021-01-01</td>\n      <td>51 days</td>\n      <td>51 days i phone 11 64 gb cena tylko dzis</td>\n    </tr>\n    <tr>\n      <th>4642</th>\n      <td>iphone 11  128 gb gwarancja , 100% bateria</td>\n      <td>2800.0</td>\n      <td>sprzedam iphone 11 z pamięcią 128 gb . telefon...</td>\n      <td>2021-02-21</td>\n      <td>iphone 11  128 gb gwarancja , 100% bateria spr...</td>\n      <td>2021-01-01</td>\n      <td>51 days</td>\n      <td>51 days iphone 11  128 gb gwarancja , 100% bat...</td>\n    </tr>\n    <tr>\n      <th>4644</th>\n      <td>iphone 11 white 64gb</td>\n      <td>1650.0</td>\n      <td>na sprzedaż posiadam iphone 11 white o pojemno...</td>\n      <td>2021-02-20</td>\n      <td>iphone 11 white 64gb na sprzedaż posiadam ipho...</td>\n      <td>2021-01-01</td>\n      <td>50 days</td>\n      <td>50 days iphone 11 white 64gb</td>\n    </tr>\n    <tr>\n      <th>4647</th>\n      <td>apple iphone 11 bez simlocka cały komplet pols...</td>\n      <td>1700.0</td>\n      <td>sprzedam appld iphone 11 z polskiej dystrybucj...</td>\n      <td>2021-02-21</td>\n      <td>apple iphone 11 bez simlocka cały komplet pols...</td>\n      <td>2021-01-01</td>\n      <td>51 days</td>\n      <td>51 days apple iphone 11 bez simlocka cały komp...</td>\n    </tr>\n  </tbody>\n</table>\n<p>2672 rows × 8 columns</p>\n</div>"
     },
     "execution_count": 23,
     "metadata": {},
     "output_type": "execute_result"
    }
   ],
   "source": [
    "data_filtered"
   ],
   "metadata": {
    "collapsed": false
   }
  },
  {
   "cell_type": "code",
   "execution_count": 24,
   "outputs": [],
   "source": [
    "# drop insignificant columns\n",
    "data_concatenated = data_filtered.drop(columns=['Name', 'Description', 'Date', 'First_date', 'Days_passed']).reset_index(drop=True)"
   ],
   "metadata": {
    "collapsed": false
   }
  },
  {
   "cell_type": "code",
   "execution_count": 25,
   "outputs": [
    {
     "data": {
      "text/plain": "       Price                           Concatenated_description  \\\n0     2799.0  iphone 11 64 jak nowy 95% gwarancja wyświetlac...   \n1     2700.0  iphone 11 64 gb czarny, idealny z gwarancją. w...   \n2     2899.0  jak nowy apple iphone 11 256gbgb white gwaranc...   \n3     2500.0  apple iphone 11 biały 64gb - jak nowy gwarancj...   \n4     2150.0  iphone 11 64 gb + gwarancja witam, mam na sprz...   \n...      ...                                                ...   \n2667  2299.0  iphone 11 black 64gb sprzedam iphone 11 64 gb ...   \n2668  1900.0  i phone 11 64 gb cena tylko dzis cena tylko dz...   \n2669  2800.0  iphone 11  128 gb gwarancja , 100% bateria spr...   \n2670  1650.0  iphone 11 white 64gb na sprzedaż posiadam ipho...   \n2671  1700.0  apple iphone 11 bez simlocka cały komplet pols...   \n\n                                       Days_passed_name  \n0     52 days iphone 11 64 jak nowy 95% gwarancja wy...  \n1     51 days iphone 11 64 gb czarny, idealny z gwar...  \n2     51 days jak nowy apple iphone 11 256gbgb white...  \n3     51 days apple iphone 11 biały 64gb - jak nowy ...  \n4                   51 days iphone 11 64 gb + gwarancja  \n...                                                 ...  \n2667                       51 days iphone 11 black 64gb  \n2668           51 days i phone 11 64 gb cena tylko dzis  \n2669  51 days iphone 11  128 gb gwarancja , 100% bat...  \n2670                       50 days iphone 11 white 64gb  \n2671  51 days apple iphone 11 bez simlocka cały komp...  \n\n[2672 rows x 3 columns]",
      "text/html": "<div>\n<style scoped>\n    .dataframe tbody tr th:only-of-type {\n        vertical-align: middle;\n    }\n\n    .dataframe tbody tr th {\n        vertical-align: top;\n    }\n\n    .dataframe thead th {\n        text-align: right;\n    }\n</style>\n<table border=\"1\" class=\"dataframe\">\n  <thead>\n    <tr style=\"text-align: right;\">\n      <th></th>\n      <th>Price</th>\n      <th>Concatenated_description</th>\n      <th>Days_passed_name</th>\n    </tr>\n  </thead>\n  <tbody>\n    <tr>\n      <th>0</th>\n      <td>2799.0</td>\n      <td>iphone 11 64 jak nowy 95% gwarancja wyświetlac...</td>\n      <td>52 days iphone 11 64 jak nowy 95% gwarancja wy...</td>\n    </tr>\n    <tr>\n      <th>1</th>\n      <td>2700.0</td>\n      <td>iphone 11 64 gb czarny, idealny z gwarancją. w...</td>\n      <td>51 days iphone 11 64 gb czarny, idealny z gwar...</td>\n    </tr>\n    <tr>\n      <th>2</th>\n      <td>2899.0</td>\n      <td>jak nowy apple iphone 11 256gbgb white gwaranc...</td>\n      <td>51 days jak nowy apple iphone 11 256gbgb white...</td>\n    </tr>\n    <tr>\n      <th>3</th>\n      <td>2500.0</td>\n      <td>apple iphone 11 biały 64gb - jak nowy gwarancj...</td>\n      <td>51 days apple iphone 11 biały 64gb - jak nowy ...</td>\n    </tr>\n    <tr>\n      <th>4</th>\n      <td>2150.0</td>\n      <td>iphone 11 64 gb + gwarancja witam, mam na sprz...</td>\n      <td>51 days iphone 11 64 gb + gwarancja</td>\n    </tr>\n    <tr>\n      <th>...</th>\n      <td>...</td>\n      <td>...</td>\n      <td>...</td>\n    </tr>\n    <tr>\n      <th>2667</th>\n      <td>2299.0</td>\n      <td>iphone 11 black 64gb sprzedam iphone 11 64 gb ...</td>\n      <td>51 days iphone 11 black 64gb</td>\n    </tr>\n    <tr>\n      <th>2668</th>\n      <td>1900.0</td>\n      <td>i phone 11 64 gb cena tylko dzis cena tylko dz...</td>\n      <td>51 days i phone 11 64 gb cena tylko dzis</td>\n    </tr>\n    <tr>\n      <th>2669</th>\n      <td>2800.0</td>\n      <td>iphone 11  128 gb gwarancja , 100% bateria spr...</td>\n      <td>51 days iphone 11  128 gb gwarancja , 100% bat...</td>\n    </tr>\n    <tr>\n      <th>2670</th>\n      <td>1650.0</td>\n      <td>iphone 11 white 64gb na sprzedaż posiadam ipho...</td>\n      <td>50 days iphone 11 white 64gb</td>\n    </tr>\n    <tr>\n      <th>2671</th>\n      <td>1700.0</td>\n      <td>apple iphone 11 bez simlocka cały komplet pols...</td>\n      <td>51 days apple iphone 11 bez simlocka cały komp...</td>\n    </tr>\n  </tbody>\n</table>\n<p>2672 rows × 3 columns</p>\n</div>"
     },
     "execution_count": 25,
     "metadata": {},
     "output_type": "execute_result"
    }
   ],
   "source": [
    "data_concatenated"
   ],
   "metadata": {
    "collapsed": false
   }
  },
  {
   "cell_type": "code",
   "execution_count": 25,
   "outputs": [],
   "source": [],
   "metadata": {
    "collapsed": false
   }
  }
 ],
 "metadata": {
  "kernelspec": {
   "display_name": "Python 3",
   "language": "python",
   "name": "python3"
  },
  "language_info": {
   "codemirror_mode": {
    "name": "ipython",
    "version": 2
   },
   "file_extension": ".py",
   "mimetype": "text/x-python",
   "name": "python",
   "nbconvert_exporter": "python",
   "pygments_lexer": "ipython2",
   "version": "2.7.6"
  }
 },
 "nbformat": 4,
 "nbformat_minor": 0
}
